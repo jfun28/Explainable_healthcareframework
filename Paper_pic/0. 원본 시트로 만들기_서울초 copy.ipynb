{
 "cells": [
  {
   "cell_type": "markdown",
   "metadata": {},
   "source": [
    "## 원본 데이터 데이터세트 만들기"
   ]
  },
  {
   "cell_type": "markdown",
   "metadata": {},
   "source": [
    "이 장은 처음 (주)injewelme에서 받은 원본데이터를 학습 데이터세트를 구축하는 첫 .ipynb이다.\n",
    "받은 원본데이터는 \n",
    "1. 서울 소재초등학교 327명 \n",
    "2. 제주 소재초등학교 84명\n",
    "이다."
   ]
  },
  {
   "cell_type": "markdown",
   "metadata": {},
   "source": [
    "### 원본 데이터 불러오기"
   ]
  },
  {
   "cell_type": "code",
   "execution_count": 1,
   "metadata": {},
   "outputs": [],
   "source": [
    "import pandas as pd\n",
    "import numpy as np\n",
    "import os"
   ]
  },
  {
   "cell_type": "code",
   "execution_count": 2,
   "metadata": {},
   "outputs": [],
   "source": [
    "os.chdir(\"..\")\n",
    "path=os.getcwd()"
   ]
  },
  {
   "cell_type": "code",
   "execution_count": 3,
   "metadata": {},
   "outputs": [
    {
     "data": {
      "text/plain": [
       "'c:\\\\jupyter\\\\Explainable Healthcare framework\\\\Explainable_healthcareframework'"
      ]
     },
     "execution_count": 3,
     "metadata": {},
     "output_type": "execute_result"
    }
   ],
   "source": [
    "path"
   ]
  },
  {
   "cell_type": "code",
   "execution_count": 4,
   "metadata": {},
   "outputs": [],
   "source": [
    "df_seoul=pd.read_excel(path+\"\\\\data\\\\1.원본 데이터_통합본_서울초.xlsx\",sheet_name=None)\n",
    "df_jeju=pd.read_excel(path+\"\\\\data\\\\1.원본 데이터_통합본_제주초.xlsx\",sheet_name=None)\n",
    "\n",
    "# 서울초등학교 일때\n",
    "df=df_seoul\n",
    "\n",
    "# # 제주초등학교일때\n",
    "# df=df_seoul"
   ]
  },
  {
   "cell_type": "code",
   "execution_count": 5,
   "metadata": {},
   "outputs": [],
   "source": [
    "df_user = df['User']\n",
    "df_body = df['Body']\n",
    "df_offline = df['오프라인 측정']\n",
    "# df_mediator = df['중재군 특별미션 정보']\n",
    "df_stepcount = df['Step Count']\n",
    "df_exercise = df['Exercise']\n",
    "df_nutrition= df['Nutrition']\n",
    "df_sleep= df['Sleep']\n",
    "# df_rewqrd= df['리워드 데이터']\n",
    "# df_competition=df['대결 데이터']"
   ]
  },
  {
   "cell_type": "markdown",
   "metadata": {},
   "source": [
    "# 통합 시트 만들기"
   ]
  },
  {
   "cell_type": "markdown",
   "metadata": {},
   "source": [
    "### Body 전처리"
   ]
  },
  {
   "cell_type": "markdown",
   "metadata": {},
   "source": [
    "Height와 Weight 정보를 불러와 동일한 날짜 기준으로 평균값을 정리합니다.\n",
    "이는 같은 날짜에 서로 다른 시간대에 측정된 데이터가 기록된 경우를 고려하기 위함입니다."
   ]
  },
  {
   "cell_type": "code",
   "execution_count": 6,
   "metadata": {},
   "outputs": [
    {
     "data": {
      "text/plain": [
       "327"
      ]
     },
     "execution_count": 6,
     "metadata": {},
     "output_type": "execute_result"
    }
   ],
   "source": [
    "df_body['collect_datetime'] = pd.to_datetime(df_body['collect_datetime']).dt.strftime('%Y-%m-%d')\n",
    "grouped_df_body = df_body.groupby(['ID', 'collect_datetime']).mean().reset_index()\n",
    "\n",
    "len(grouped_df_body['ID'].unique())"
   ]
  },
  {
   "cell_type": "code",
   "execution_count": 7,
   "metadata": {},
   "outputs": [
    {
     "data": {
      "text/plain": [
       "(2674, 4)"
      ]
     },
     "execution_count": 7,
     "metadata": {},
     "output_type": "execute_result"
    }
   ],
   "source": [
    "grouped_df_body.shape"
   ]
  },
  {
   "cell_type": "markdown",
   "metadata": {},
   "source": [
    "### Stepcount 전처리"
   ]
  },
  {
   "cell_type": "markdown",
   "metadata": {},
   "source": [
    "stepcount 동일한 날짜 기준으로 값을 SUM 해서 총합으로 정리합니다."
   ]
  },
  {
   "cell_type": "code",
   "execution_count": 8,
   "metadata": {},
   "outputs": [],
   "source": [
    "# 통일된 컬럼명을 위해 아래와 같이 이름을 바꿔준다.\n",
    "df_stepcount.rename(columns={'date': 'collect_datetime','step_count': 'step count'}, inplace=True)\n",
    "\n",
    "df_stepcount['collect_datetime'] = pd.to_datetime(df_stepcount['collect_datetime']).dt.strftime('%Y-%m-%d')\n",
    "\n",
    "grouped_df_stepcount= df_stepcount.groupby(['ID', 'collect_datetime']).sum().reset_index()"
   ]
  },
  {
   "cell_type": "markdown",
   "metadata": {},
   "source": [
    "### Exercise 전처리"
   ]
  },
  {
   "cell_type": "markdown",
   "metadata": {},
   "source": [
    "운동량인 burned calory는 오타가 있어기에 burned calorie로 수정하였습니다.\n",
    "또한 동일날짜내에 여러기록이 있는 경우가 있어 날짜별로 groupby를 수행하였고 sum을 진행하였습니다. "
   ]
  },
  {
   "cell_type": "code",
   "execution_count": 9,
   "metadata": {},
   "outputs": [
    {
     "name": "stderr",
     "output_type": "stream",
     "text": [
      "C:\\Users\\jaemin\\AppData\\Local\\Temp\\ipykernel_31324\\2006701501.py:2: SettingWithCopyWarning: \n",
      "A value is trying to be set on a copy of a slice from a DataFrame\n",
      "\n",
      "See the caveats in the documentation: https://pandas.pydata.org/pandas-docs/stable/user_guide/indexing.html#returning-a-view-versus-a-copy\n",
      "  df_exercise.rename(columns={'date': 'collect_datetime','burned calory(Kcal)': 'burned calorie'}, inplace=True)\n",
      "C:\\Users\\jaemin\\AppData\\Local\\Temp\\ipykernel_31324\\2006701501.py:3: SettingWithCopyWarning: \n",
      "A value is trying to be set on a copy of a slice from a DataFrame.\n",
      "Try using .loc[row_indexer,col_indexer] = value instead\n",
      "\n",
      "See the caveats in the documentation: https://pandas.pydata.org/pandas-docs/stable/user_guide/indexing.html#returning-a-view-versus-a-copy\n",
      "  df_exercise['collect_datetime'] = pd.to_datetime(df_exercise['collect_datetime']).dt.strftime('%Y-%m-%d')\n"
     ]
    }
   ],
   "source": [
    "df_exercise=df_exercise[['ID',\"date\",\"burned calory(Kcal)\"]]\n",
    "df_exercise.rename(columns={'date': 'collect_datetime','burned calory(Kcal)': 'burned calorie'}, inplace=True)\n",
    "df_exercise['collect_datetime'] = pd.to_datetime(df_exercise['collect_datetime']).dt.strftime('%Y-%m-%d')\n",
    "grouped_df_exercise= df_exercise.groupby(['ID', 'collect_datetime']).sum().reset_index()"
   ]
  },
  {
   "cell_type": "markdown",
   "metadata": {},
   "source": [
    "### Nutrition 전처리"
   ]
  },
  {
   "cell_type": "markdown",
   "metadata": {},
   "source": [
    "칼로리 섭취량도 이름표기 수정  \n",
    "또한 날짜별 groupby를 해서 칼로리 총합 계산"
   ]
  },
  {
   "cell_type": "code",
   "execution_count": 10,
   "metadata": {},
   "outputs": [
    {
     "name": "stderr",
     "output_type": "stream",
     "text": [
      "C:\\Users\\jaemin\\AppData\\Local\\Temp\\ipykernel_31324\\1437399790.py:2: SettingWithCopyWarning: \n",
      "A value is trying to be set on a copy of a slice from a DataFrame\n",
      "\n",
      "See the caveats in the documentation: https://pandas.pydata.org/pandas-docs/stable/user_guide/indexing.html#returning-a-view-versus-a-copy\n",
      "  df_nutrition.rename(columns={'date': 'collect_datetime','eat_calory(Kcal)': 'eat calorie'}, inplace=True)\n",
      "C:\\Users\\jaemin\\AppData\\Local\\Temp\\ipykernel_31324\\1437399790.py:3: SettingWithCopyWarning: \n",
      "A value is trying to be set on a copy of a slice from a DataFrame.\n",
      "Try using .loc[row_indexer,col_indexer] = value instead\n",
      "\n",
      "See the caveats in the documentation: https://pandas.pydata.org/pandas-docs/stable/user_guide/indexing.html#returning-a-view-versus-a-copy\n",
      "  df_nutrition['collect_datetime'] = pd.to_datetime(df_nutrition['collect_datetime']).dt.strftime('%Y-%m-%d')\n"
     ]
    }
   ],
   "source": [
    "df_nutrition=df_nutrition[['ID',\"date\",\"eat_calory(Kcal)\"]]\n",
    "df_nutrition.rename(columns={'date': 'collect_datetime','eat_calory(Kcal)': 'eat calorie'}, inplace=True)\n",
    "df_nutrition['collect_datetime'] = pd.to_datetime(df_nutrition['collect_datetime']).dt.strftime('%Y-%m-%d')\n",
    "grouped_df_nutrition= df_nutrition.groupby(['ID', 'collect_datetime']).sum().reset_index()"
   ]
  },
  {
   "cell_type": "markdown",
   "metadata": {},
   "source": [
    "### Sleep 전처리"
   ]
  },
  {
   "cell_type": "markdown",
   "metadata": {},
   "source": [
    "수면시간도 이름표기 수정  \n",
    "또한 날짜별 groupby를 해서 수면시간 총합 계산"
   ]
  },
  {
   "cell_type": "code",
   "execution_count": 11,
   "metadata": {},
   "outputs": [
    {
     "name": "stderr",
     "output_type": "stream",
     "text": [
      "C:\\Users\\jaemin\\AppData\\Local\\Temp\\ipykernel_31324\\2146755943.py:2: SettingWithCopyWarning: \n",
      "A value is trying to be set on a copy of a slice from a DataFrame\n",
      "\n",
      "See the caveats in the documentation: https://pandas.pydata.org/pandas-docs/stable/user_guide/indexing.html#returning-a-view-versus-a-copy\n",
      "  df_sleep.rename(columns={'date': 'collect_datetime','total_sleep_minute': 'sleep time'}, inplace=True)\n",
      "C:\\Users\\jaemin\\AppData\\Local\\Temp\\ipykernel_31324\\2146755943.py:3: SettingWithCopyWarning: \n",
      "A value is trying to be set on a copy of a slice from a DataFrame.\n",
      "Try using .loc[row_indexer,col_indexer] = value instead\n",
      "\n",
      "See the caveats in the documentation: https://pandas.pydata.org/pandas-docs/stable/user_guide/indexing.html#returning-a-view-versus-a-copy\n",
      "  df_sleep['collect_datetime'] = pd.to_datetime(df_sleep['collect_datetime']).dt.strftime('%Y-%m-%d')\n"
     ]
    }
   ],
   "source": [
    "df_sleep=df_sleep[['ID',\"date\",\"total_sleep_minute\"]]\n",
    "df_sleep.rename(columns={'date': 'collect_datetime','total_sleep_minute': 'sleep time'}, inplace=True)\n",
    "df_sleep['collect_datetime'] = pd.to_datetime(df_sleep['collect_datetime']).dt.strftime('%Y-%m-%d')\n",
    "grouped_df_sleep= df_sleep.groupby(['ID', 'collect_datetime']).sum().reset_index()"
   ]
  },
  {
   "cell_type": "markdown",
   "metadata": {},
   "source": [
    "### 데이터 시트 merge"
   ]
  },
  {
   "cell_type": "markdown",
   "metadata": {},
   "source": [
    "서울초등학교 실험기간은 2022-07-14~2023-01-11이므로 다음날짜 기간에 해당하는 데이터프레임 만들기  \n",
    "인원 수 총 327명"
   ]
  },
  {
   "cell_type": "code",
   "execution_count": 12,
   "metadata": {},
   "outputs": [],
   "source": [
    "# 필터링 기준 날짜 설정\n",
    "start_date = '2022-07-14'\n",
    "end_date = '2023-01-11'"
   ]
  },
  {
   "cell_type": "code",
   "execution_count": 13,
   "metadata": {},
   "outputs": [
    {
     "data": {
      "text/plain": [
       "327"
      ]
     },
     "execution_count": 13,
     "metadata": {},
     "output_type": "execute_result"
    }
   ],
   "source": [
    "len(grouped_df_body['ID'].unique())"
   ]
  },
  {
   "cell_type": "code",
   "execution_count": 14,
   "metadata": {},
   "outputs": [
    {
     "data": {
      "text/html": [
       "<div>\n",
       "<style scoped>\n",
       "    .dataframe tbody tr th:only-of-type {\n",
       "        vertical-align: middle;\n",
       "    }\n",
       "\n",
       "    .dataframe tbody tr th {\n",
       "        vertical-align: top;\n",
       "    }\n",
       "\n",
       "    .dataframe thead th {\n",
       "        text-align: right;\n",
       "    }\n",
       "</style>\n",
       "<table border=\"1\" class=\"dataframe\">\n",
       "  <thead>\n",
       "    <tr style=\"text-align: right;\">\n",
       "      <th></th>\n",
       "      <th>ID</th>\n",
       "      <th>collect_datetime</th>\n",
       "      <th>height</th>\n",
       "      <th>weight</th>\n",
       "    </tr>\n",
       "  </thead>\n",
       "  <tbody>\n",
       "    <tr>\n",
       "      <th>0</th>\n",
       "      <td>#AAGQKY</td>\n",
       "      <td>2022-07-19</td>\n",
       "      <td>148.000000</td>\n",
       "      <td>45.15</td>\n",
       "    </tr>\n",
       "    <tr>\n",
       "      <th>1</th>\n",
       "      <td>#ACGRQP</td>\n",
       "      <td>2022-07-16</td>\n",
       "      <td>136.016667</td>\n",
       "      <td>28.10</td>\n",
       "    </tr>\n",
       "    <tr>\n",
       "      <th>2</th>\n",
       "      <td>#ACGRQP</td>\n",
       "      <td>2022-07-23</td>\n",
       "      <td>136.500000</td>\n",
       "      <td>28.20</td>\n",
       "    </tr>\n",
       "    <tr>\n",
       "      <th>3</th>\n",
       "      <td>#ACGRQP</td>\n",
       "      <td>2022-07-24</td>\n",
       "      <td>136.700000</td>\n",
       "      <td>29.40</td>\n",
       "    </tr>\n",
       "    <tr>\n",
       "      <th>4</th>\n",
       "      <td>#ACGRQP</td>\n",
       "      <td>2022-08-01</td>\n",
       "      <td>136.900000</td>\n",
       "      <td>29.40</td>\n",
       "    </tr>\n",
       "    <tr>\n",
       "      <th>...</th>\n",
       "      <td>...</td>\n",
       "      <td>...</td>\n",
       "      <td>...</td>\n",
       "      <td>...</td>\n",
       "    </tr>\n",
       "    <tr>\n",
       "      <th>2669</th>\n",
       "      <td>#ZRKRKP</td>\n",
       "      <td>2023-01-04</td>\n",
       "      <td>129.300000</td>\n",
       "      <td>28.80</td>\n",
       "    </tr>\n",
       "    <tr>\n",
       "      <th>2670</th>\n",
       "      <td>#ZRKRKP</td>\n",
       "      <td>2023-01-10</td>\n",
       "      <td>129.300000</td>\n",
       "      <td>28.80</td>\n",
       "    </tr>\n",
       "    <tr>\n",
       "      <th>2671</th>\n",
       "      <td>#ZWOHRX</td>\n",
       "      <td>2022-07-15</td>\n",
       "      <td>156.700000</td>\n",
       "      <td>47.90</td>\n",
       "    </tr>\n",
       "    <tr>\n",
       "      <th>2672</th>\n",
       "      <td>#ZWOHRX</td>\n",
       "      <td>2022-08-07</td>\n",
       "      <td>156.900000</td>\n",
       "      <td>47.50</td>\n",
       "    </tr>\n",
       "    <tr>\n",
       "      <th>2673</th>\n",
       "      <td>#ZZLSSL</td>\n",
       "      <td>2022-07-16</td>\n",
       "      <td>153.000000</td>\n",
       "      <td>68.00</td>\n",
       "    </tr>\n",
       "  </tbody>\n",
       "</table>\n",
       "<p>2674 rows × 4 columns</p>\n",
       "</div>"
      ],
      "text/plain": [
       "           ID collect_datetime      height  weight\n",
       "0     #AAGQKY       2022-07-19  148.000000   45.15\n",
       "1     #ACGRQP       2022-07-16  136.016667   28.10\n",
       "2     #ACGRQP       2022-07-23  136.500000   28.20\n",
       "3     #ACGRQP       2022-07-24  136.700000   29.40\n",
       "4     #ACGRQP       2022-08-01  136.900000   29.40\n",
       "...       ...              ...         ...     ...\n",
       "2669  #ZRKRKP       2023-01-04  129.300000   28.80\n",
       "2670  #ZRKRKP       2023-01-10  129.300000   28.80\n",
       "2671  #ZWOHRX       2022-07-15  156.700000   47.90\n",
       "2672  #ZWOHRX       2022-08-07  156.900000   47.50\n",
       "2673  #ZZLSSL       2022-07-16  153.000000   68.00\n",
       "\n",
       "[2674 rows x 4 columns]"
      ]
     },
     "execution_count": 14,
     "metadata": {},
     "output_type": "execute_result"
    }
   ],
   "source": [
    "grouped_df_body"
   ]
  },
  {
   "cell_type": "code",
   "execution_count": 15,
   "metadata": {},
   "outputs": [],
   "source": [
    "date_range = pd.date_range(start=start_date, end=end_date)\n",
    "\n",
    "# 각 ID에 대해 날짜 범위를 반복하여 데이터프레임 생성\n",
    "data = {\n",
    "    'ID': np.repeat(grouped_df_body['ID'].unique(),  len(date_range)),\n",
    "    'collect_datetime': list(date_range) * len(grouped_df_body['ID'].unique())\n",
    "}\n",
    "\n",
    "df = pd.DataFrame(data)"
   ]
  },
  {
   "cell_type": "code",
   "execution_count": 16,
   "metadata": {},
   "outputs": [],
   "source": [
    "# 해당하는 날짜에 각 변수데이터 맵핑: 키, 몸무게, 먹은 칼로리,걸음수,수면시간,태운 칼로리량\n",
    "grouped_df_body['collect_datetime'] = pd.to_datetime(grouped_df_body['collect_datetime'])\n",
    "grouped_df_stepcount['collect_datetime'] = pd.to_datetime(grouped_df_stepcount['collect_datetime'])\n",
    "grouped_df_nutrition['collect_datetime'] = pd.to_datetime(grouped_df_nutrition['collect_datetime'])\n",
    "grouped_df_exercise['collect_datetime'] = pd.to_datetime(grouped_df_exercise['collect_datetime'])\n",
    "grouped_df_sleep['collect_datetime'] = pd.to_datetime(grouped_df_sleep['collect_datetime'])"
   ]
  },
  {
   "cell_type": "code",
   "execution_count": 17,
   "metadata": {},
   "outputs": [],
   "source": [
    "# 전체 하나의 데이터프레임으로 merge\n",
    "filtered_df = pd.merge(df, grouped_df_body, on=['ID', 'collect_datetime'], how='left')\n",
    "filtered_df = pd.merge(filtered_df, grouped_df_stepcount, on=['ID', 'collect_datetime'], how='left')\n",
    "filtered_df = pd.merge(filtered_df, grouped_df_nutrition, on=['ID', 'collect_datetime'], how='left')\n",
    "filtered_df = pd.merge(filtered_df, grouped_df_exercise, on=['ID', 'collect_datetime'], how='left')\n",
    "filtered_df = pd.merge(filtered_df, grouped_df_sleep, on=['ID', 'collect_datetime'], how='left')"
   ]
  },
  {
   "cell_type": "code",
   "execution_count": 18,
   "metadata": {},
   "outputs": [],
   "source": [
    "# User 정보 맵핑을 위한 전처리\n",
    "df_user = df_user.drop(index=0)\n",
    "# 인덱스를 재설정\n",
    "df_user = df_user.reset_index(drop=True)\n",
    "df_user_g=df_user[['ID','gender','grade']]"
   ]
  },
  {
   "cell_type": "code",
   "execution_count": 19,
   "metadata": {},
   "outputs": [],
   "source": [
    "filtered_df = pd.merge(filtered_df, df_user_g, on='ID', how='left')\n"
   ]
  },
  {
   "cell_type": "code",
   "execution_count": 20,
   "metadata": {},
   "outputs": [
    {
     "data": {
      "text/plain": [
       "ID                      0\n",
       "collect_datetime        0\n",
       "height              56840\n",
       "weight              56840\n",
       "step count          50548\n",
       "eat calorie         52816\n",
       "burned calorie      57933\n",
       "sleep time          52774\n",
       "gender                546\n",
       "grade                 546\n",
       "dtype: int64"
      ]
     },
     "execution_count": 20,
     "metadata": {},
     "output_type": "execute_result"
    }
   ],
   "source": [
    "filtered_df.isnull().sum()"
   ]
  },
  {
   "cell_type": "code",
   "execution_count": 21,
   "metadata": {},
   "outputs": [
    {
     "data": {
      "text/plain": [
       "(59514, 10)"
      ]
     },
     "execution_count": 21,
     "metadata": {},
     "output_type": "execute_result"
    }
   ],
   "source": [
    "filtered_df.shape"
   ]
  },
  {
   "cell_type": "markdown",
   "metadata": {},
   "source": [
    "## 이탈자 제거"
   ]
  },
  {
   "cell_type": "markdown",
   "metadata": {},
   "source": [
    "휴리스틱한 방법으로 아래 아이디는 이탈자로 기록(Injewelme 측에서 기록되어 고지)되어 제거"
   ]
  },
  {
   "cell_type": "code",
   "execution_count": 22,
   "metadata": {},
   "outputs": [],
   "source": [
    "ID_name=['#LTLEKW','#ZFKAAY','#HUPKFW','#HTITUK','#QWBXZB']"
   ]
  },
  {
   "cell_type": "code",
   "execution_count": 23,
   "metadata": {},
   "outputs": [],
   "source": [
    "filtered_df = filtered_df[~filtered_df['ID'].isin(ID_name)]"
   ]
  },
  {
   "cell_type": "code",
   "execution_count": 24,
   "metadata": {},
   "outputs": [],
   "source": [
    "filtered_df.to_csv(path+'\\\\data\\\\2.원본데이터 필터링후 전처리 전_서울초.csv',encoding=\"cp949\",index=False)"
   ]
  },
  {
   "cell_type": "markdown",
   "metadata": {},
   "source": [
    "## 이상치 전처리_from 급식식단정보"
   ]
  },
  {
   "cell_type": "markdown",
   "metadata": {},
   "source": [
    "위 데이터세트는 서울초등학교의 급식식단 정보(3.서울초_급식식단정보)를 크롤링한 자료를 사용  \n",
    "사용이유: 모든 일별 데이터를 사용자가 기록하지 못하기 때문에 한끼만 기록하거나 결측치가 있는 경우가 많다    \n",
    "따라서 한끼만 기록된 경우는 곱하기 3으로 하고 결측일 경우 본 급식정보를 칼로리에서 곱하기 3으로 하려 한다.  "
   ]
  },
  {
   "cell_type": "code",
   "execution_count": 25,
   "metadata": {},
   "outputs": [],
   "source": [
    "df_dietboard=pd.read_csv(path+\"\\\\data\\\\3.서울초_급식식단정보.csv\")"
   ]
  },
  {
   "cell_type": "code",
   "execution_count": 26,
   "metadata": {},
   "outputs": [
    {
     "data": {
      "text/html": [
       "<div>\n",
       "<style scoped>\n",
       "    .dataframe tbody tr th:only-of-type {\n",
       "        vertical-align: middle;\n",
       "    }\n",
       "\n",
       "    .dataframe tbody tr th {\n",
       "        vertical-align: top;\n",
       "    }\n",
       "\n",
       "    .dataframe thead th {\n",
       "        text-align: right;\n",
       "    }\n",
       "</style>\n",
       "<table border=\"1\" class=\"dataframe\">\n",
       "  <thead>\n",
       "    <tr style=\"text-align: right;\">\n",
       "      <th></th>\n",
       "      <th>시도교육청코드</th>\n",
       "      <th>시도교육청명</th>\n",
       "      <th>행정표준코드</th>\n",
       "      <th>학교명</th>\n",
       "      <th>식사코드</th>\n",
       "      <th>식사명</th>\n",
       "      <th>급식일자</th>\n",
       "      <th>급식인원수</th>\n",
       "      <th>요리명</th>\n",
       "      <th>원산지정보</th>\n",
       "      <th>칼로리정보</th>\n",
       "      <th>영양정보</th>\n",
       "      <th>수정일자</th>\n",
       "    </tr>\n",
       "  </thead>\n",
       "  <tbody>\n",
       "    <tr>\n",
       "      <th>0</th>\n",
       "      <td>B10</td>\n",
       "      <td>서울특별시교육청</td>\n",
       "      <td>7091458</td>\n",
       "      <td>서울세명초등학교</td>\n",
       "      <td>2</td>\n",
       "      <td>중식</td>\n",
       "      <td>20240430</td>\n",
       "      <td>863.0</td>\n",
       "      <td>꽃씨잡곡밥 (5)&lt;br/&gt;왜된장국 (5.6)&lt;br/&gt;동태포파슬리튀김 (1.2.5.6...</td>\n",
       "      <td>쇠고기(종류) : 국내산(육우)&lt;br/&gt;쇠고기 식육가공품 : 국내산&lt;br/&gt;돼지고기...</td>\n",
       "      <td>599.6 Kcal</td>\n",
       "      <td>탄수화물(g) : 82.2&lt;br/&gt;단백질(g) : 23.9&lt;br/&gt;지방(g) : 1...</td>\n",
       "      <td>20240421</td>\n",
       "    </tr>\n",
       "    <tr>\n",
       "      <th>1</th>\n",
       "      <td>B10</td>\n",
       "      <td>서울특별시교육청</td>\n",
       "      <td>7091458</td>\n",
       "      <td>서울세명초등학교</td>\n",
       "      <td>2</td>\n",
       "      <td>중식</td>\n",
       "      <td>20240429</td>\n",
       "      <td>965.0</td>\n",
       "      <td>강황쌀밥 &lt;br/&gt;돈육김치찌개 (5.9.10)&lt;br/&gt;오이부추무침 (13)&lt;br/&gt;...</td>\n",
       "      <td>쇠고기(종류) : 국내산(육우)&lt;br/&gt;쇠고기 식육가공품 : 국내산&lt;br/&gt;돼지고기...</td>\n",
       "      <td>577.7 Kcal</td>\n",
       "      <td>탄수화물(g) : 68.0&lt;br/&gt;단백질(g) : 24.9&lt;br/&gt;지방(g) : 2...</td>\n",
       "      <td>20240421</td>\n",
       "    </tr>\n",
       "    <tr>\n",
       "      <th>2</th>\n",
       "      <td>B10</td>\n",
       "      <td>서울특별시교육청</td>\n",
       "      <td>7091458</td>\n",
       "      <td>서울세명초등학교</td>\n",
       "      <td>2</td>\n",
       "      <td>중식</td>\n",
       "      <td>20240426</td>\n",
       "      <td>849.0</td>\n",
       "      <td>통밀밥 (6)&lt;br/&gt;북어국 (1.5.6.13)&lt;br/&gt;매운등갈비찜 (5.6.10....</td>\n",
       "      <td>쇠고기(종류) : 국내산(육우)&lt;br/&gt;쇠고기 식육가공품 : 국내산&lt;br/&gt;돼지고기...</td>\n",
       "      <td>554.0 Kcal</td>\n",
       "      <td>탄수화물(g) : 73.5&lt;br/&gt;단백질(g) : 23.7&lt;br/&gt;지방(g) : 1...</td>\n",
       "      <td>20240421</td>\n",
       "    </tr>\n",
       "    <tr>\n",
       "      <th>3</th>\n",
       "      <td>B10</td>\n",
       "      <td>서울특별시교육청</td>\n",
       "      <td>7091458</td>\n",
       "      <td>서울세명초등학교</td>\n",
       "      <td>2</td>\n",
       "      <td>중식</td>\n",
       "      <td>20240425</td>\n",
       "      <td>965.0</td>\n",
       "      <td>발효누룽현미밥 &lt;br/&gt;육개장 (5.6.16)&lt;br/&gt;쑥갓두부무침 (5.6)&lt;br/...</td>\n",
       "      <td>쇠고기(종류) : 국내산(육우)&lt;br/&gt;쇠고기 식육가공품 : 국내산&lt;br/&gt;돼지고기...</td>\n",
       "      <td>551.6 Kcal</td>\n",
       "      <td>탄수화물(g) : 84.3&lt;br/&gt;단백질(g) : 19.1&lt;br/&gt;지방(g) : 1...</td>\n",
       "      <td>20240421</td>\n",
       "    </tr>\n",
       "    <tr>\n",
       "      <th>4</th>\n",
       "      <td>B10</td>\n",
       "      <td>서울특별시교육청</td>\n",
       "      <td>7091458</td>\n",
       "      <td>서울세명초등학교</td>\n",
       "      <td>2</td>\n",
       "      <td>중식</td>\n",
       "      <td>20240424</td>\n",
       "      <td>965.0</td>\n",
       "      <td>콩나물밥 (5.16)&lt;br/&gt;바지락조개탕 (13.18)&lt;br/&gt;반반치킨 (2.5.6...</td>\n",
       "      <td>쇠고기(종류) : 국내산(육우)&lt;br/&gt;쇠고기 식육가공품 : 국내산&lt;br/&gt;돼지고기...</td>\n",
       "      <td>630.9 Kcal</td>\n",
       "      <td>탄수화물(g) : 75.2&lt;br/&gt;단백질(g) : 36.3&lt;br/&gt;지방(g) : 1...</td>\n",
       "      <td>20240421</td>\n",
       "    </tr>\n",
       "  </tbody>\n",
       "</table>\n",
       "</div>"
      ],
      "text/plain": [
       "  시도교육청코드    시도교육청명   행정표준코드       학교명  식사코드 식사명      급식일자  급식인원수  \\\n",
       "0     B10  서울특별시교육청  7091458  서울세명초등학교     2  중식  20240430  863.0   \n",
       "1     B10  서울특별시교육청  7091458  서울세명초등학교     2  중식  20240429  965.0   \n",
       "2     B10  서울특별시교육청  7091458  서울세명초등학교     2  중식  20240426  849.0   \n",
       "3     B10  서울특별시교육청  7091458  서울세명초등학교     2  중식  20240425  965.0   \n",
       "4     B10  서울특별시교육청  7091458  서울세명초등학교     2  중식  20240424  965.0   \n",
       "\n",
       "                                                 요리명  \\\n",
       "0  꽃씨잡곡밥 (5)<br/>왜된장국 (5.6)<br/>동태포파슬리튀김 (1.2.5.6...   \n",
       "1  강황쌀밥 <br/>돈육김치찌개 (5.9.10)<br/>오이부추무침 (13)<br/>...   \n",
       "2  통밀밥 (6)<br/>북어국 (1.5.6.13)<br/>매운등갈비찜 (5.6.10....   \n",
       "3  발효누룽현미밥 <br/>육개장 (5.6.16)<br/>쑥갓두부무침 (5.6)<br/...   \n",
       "4  콩나물밥 (5.16)<br/>바지락조개탕 (13.18)<br/>반반치킨 (2.5.6...   \n",
       "\n",
       "                                               원산지정보       칼로리정보  \\\n",
       "0  쇠고기(종류) : 국내산(육우)<br/>쇠고기 식육가공품 : 국내산<br/>돼지고기...  599.6 Kcal   \n",
       "1  쇠고기(종류) : 국내산(육우)<br/>쇠고기 식육가공품 : 국내산<br/>돼지고기...  577.7 Kcal   \n",
       "2  쇠고기(종류) : 국내산(육우)<br/>쇠고기 식육가공품 : 국내산<br/>돼지고기...  554.0 Kcal   \n",
       "3  쇠고기(종류) : 국내산(육우)<br/>쇠고기 식육가공품 : 국내산<br/>돼지고기...  551.6 Kcal   \n",
       "4  쇠고기(종류) : 국내산(육우)<br/>쇠고기 식육가공품 : 국내산<br/>돼지고기...  630.9 Kcal   \n",
       "\n",
       "                                                영양정보      수정일자  \n",
       "0  탄수화물(g) : 82.2<br/>단백질(g) : 23.9<br/>지방(g) : 1...  20240421  \n",
       "1  탄수화물(g) : 68.0<br/>단백질(g) : 24.9<br/>지방(g) : 2...  20240421  \n",
       "2  탄수화물(g) : 73.5<br/>단백질(g) : 23.7<br/>지방(g) : 1...  20240421  \n",
       "3  탄수화물(g) : 84.3<br/>단백질(g) : 19.1<br/>지방(g) : 1...  20240421  \n",
       "4  탄수화물(g) : 75.2<br/>단백질(g) : 36.3<br/>지방(g) : 1...  20240421  "
      ]
     },
     "execution_count": 26,
     "metadata": {},
     "output_type": "execute_result"
    }
   ],
   "source": [
    "df_dietboard.head()"
   ]
  },
  {
   "cell_type": "code",
   "execution_count": 27,
   "metadata": {},
   "outputs": [],
   "source": [
    "# 필요한 컬럼정보만 남기고 필터링\n",
    "filtered_df_new=df_dietboard[['학교명','급식일자','요리명','칼로리정보']]"
   ]
  },
  {
   "cell_type": "code",
   "execution_count": 28,
   "metadata": {},
   "outputs": [
    {
     "name": "stderr",
     "output_type": "stream",
     "text": [
      "C:\\Users\\jaemin\\AppData\\Local\\Temp\\ipykernel_31324\\3307377459.py:1: SettingWithCopyWarning: \n",
      "A value is trying to be set on a copy of a slice from a DataFrame.\n",
      "Try using .loc[row_indexer,col_indexer] = value instead\n",
      "\n",
      "See the caveats in the documentation: https://pandas.pydata.org/pandas-docs/stable/user_guide/indexing.html#returning-a-view-versus-a-copy\n",
      "  filtered_df_new['급식일자'] = filtered_df_new['급식일자'].astype(str) # 급식일자 일단 string으로 전환 이상한 오류가 datetime에서 뜸\n",
      "C:\\Users\\jaemin\\AppData\\Local\\Temp\\ipykernel_31324\\3307377459.py:2: SettingWithCopyWarning: \n",
      "A value is trying to be set on a copy of a slice from a DataFrame.\n",
      "Try using .loc[row_indexer,col_indexer] = value instead\n",
      "\n",
      "See the caveats in the documentation: https://pandas.pydata.org/pandas-docs/stable/user_guide/indexing.html#returning-a-view-versus-a-copy\n",
      "  filtered_df_new['급식일자'] = pd.to_datetime(filtered_df_new['급식일자'], format='%Y%m%d') # 급식일자를 년월일로 바꿈\n",
      "C:\\Users\\jaemin\\AppData\\Local\\Temp\\ipykernel_31324\\3307377459.py:3: SettingWithCopyWarning: \n",
      "A value is trying to be set on a copy of a slice from a DataFrame.\n",
      "Try using .loc[row_indexer,col_indexer] = value instead\n",
      "\n",
      "See the caveats in the documentation: https://pandas.pydata.org/pandas-docs/stable/user_guide/indexing.html#returning-a-view-versus-a-copy\n",
      "  filtered_df_new['칼로리정보'] = filtered_df_new['칼로리정보'].str.replace(r'Kcal', '', regex=True).astype(\"float\") # 칼로리 정보만 추출하기 위래 정규화를 통해 필터링\n"
     ]
    }
   ],
   "source": [
    "filtered_df_new['급식일자'] = filtered_df_new['급식일자'].astype(str) # 급식일자 일단 string으로 전환 이상한 오류가 datetime에서 뜸\n",
    "filtered_df_new['급식일자'] = pd.to_datetime(filtered_df_new['급식일자'], format='%Y%m%d') # 급식일자를 년월일로 바꿈\n",
    "filtered_df_new['칼로리정보'] = filtered_df_new['칼로리정보'].str.replace(r'Kcal', '', regex=True).astype(\"float\") # 칼로리 정보만 추출하기 위래 정규화를 통해 필터링"
   ]
  },
  {
   "cell_type": "code",
   "execution_count": 29,
   "metadata": {},
   "outputs": [],
   "source": [
    "### 급식일자 기준으로 merge"
   ]
  },
  {
   "cell_type": "code",
   "execution_count": 30,
   "metadata": {},
   "outputs": [],
   "source": [
    "merge_cafeteria_kcal=filtered_df_new[['급식일자', '칼로리정보']]"
   ]
  },
  {
   "cell_type": "code",
   "execution_count": 31,
   "metadata": {},
   "outputs": [],
   "source": [
    "merged_df = pd.merge(filtered_df, merge_cafeteria_kcal,  left_on='collect_datetime', right_on='급식일자', how='left')\n",
    "merged_df.to_csv(path+\"\\\\data\\\\4.서울초_급식정보&최종데이터세트.csv\",encoding=\"cp949\",index=False)"
   ]
  },
  {
   "cell_type": "markdown",
   "metadata": {},
   "source": [
    "## 데이터 전처리"
   ]
  },
  {
   "cell_type": "markdown",
   "metadata": {},
   "source": [
    "순차적으로 height,weight,eat calorie, step count, sleep time, burned calorie 전처리"
   ]
  },
  {
   "cell_type": "code",
   "execution_count": 32,
   "metadata": {},
   "outputs": [],
   "source": [
    "sorted_total = merged_df.sort_values(by=['ID', 'collect_datetime']).reset_index(drop=True)"
   ]
  },
  {
   "cell_type": "markdown",
   "metadata": {},
   "source": [
    "### height, weight 결측치 전처리"
   ]
  },
  {
   "cell_type": "code",
   "execution_count": 33,
   "metadata": {},
   "outputs": [],
   "source": [
    "from Datapreprocessing.HeighWeight_preprocessing import DataProcessor # 선형보간법으로 채우고 그래도 안\n",
    "\n",
    "processor = DataProcessor(sorted_total)\n",
    "sorted_total_processor=processor.get_processed_data()"
   ]
  },
  {
   "cell_type": "code",
   "execution_count": 34,
   "metadata": {},
   "outputs": [
    {
     "data": {
      "text/plain": [
       "ID                      0\n",
       "collect_datetime        0\n",
       "height                  0\n",
       "weight                  0\n",
       "step count          16072\n",
       "eat calorie         21271\n",
       "burned calorie      46243\n",
       "sleep time          28678\n",
       "gender                546\n",
       "grade                 546\n",
       "급식일자                26814\n",
       "칼로리정보                   0\n",
       "dtype: int64"
      ]
     },
     "execution_count": 34,
     "metadata": {},
     "output_type": "execute_result"
    }
   ],
   "source": [
    "sorted_total_processor.isnull().sum()"
   ]
  },
  {
   "cell_type": "markdown",
   "metadata": {},
   "source": [
    "### 다른 모든 변수 전처리"
   ]
  },
  {
   "cell_type": "code",
   "execution_count": 35,
   "metadata": {},
   "outputs": [],
   "source": [
    "# 일단 ID 그룹별 step count, sleeptime, burned calorie 중앙값을 대체\n",
    "\n",
    "\n",
    "import pandas as pd\n",
    "import numpy as np\n",
    "\n",
    "# 데이터프레임이 df_result2라고 가정\n",
    "# ID 그룹별로 중앙값 계산하여 결측치 대체\n",
    "def fill_missing_with_median_by_id(df):\n",
    "    # 대체할 컬럼들\n",
    "    columns_to_fill = ['step count', 'sleep time', 'burned calorie']\n",
    "    \n",
    "    # 결과 데이터프레임 복사\n",
    "    result_df = df.copy()\n",
    "    \n",
    "    # ID별로 그룹화하여 각 컬럼의 중앙값으로 결측치 채우기\n",
    "    for column in columns_to_fill:\n",
    "        # 각 ID 그룹별 중앙값 계산\n",
    "        medians = result_df.groupby('ID')[column].transform('median')\n",
    "        \n",
    "        # 결측치를 해당 ID의 중앙값으로 대체\n",
    "        result_df[column] = result_df[column].fillna(medians)\n",
    "    \n",
    "    return result_df\n",
    "\n",
    "# 함수 적용\n",
    "df_filled = fill_missing_with_median_by_id(sorted_total_processor)\n",
    "\n"
   ]
  },
  {
   "cell_type": "code",
   "execution_count": 36,
   "metadata": {},
   "outputs": [
    {
     "name": "stdout",
     "output_type": "stream",
     "text": [
      "총 81개 ID가 3개 이상 변수에서 90.0% 이상 결측치를 가져 제거됩니다.\n",
      "남은 ID 수: 246\n",
      "원본 데이터프레임 크기: (59514, 12)\n",
      "정제된 데이터프레임 크기: (44772, 12)\n"
     ]
    }
   ],
   "source": [
    "import pandas as pd\n",
    "import numpy as np\n",
    "\n",
    "def remove_high_missing_rate_ids(df, threshold=0.9, min_columns=2):\n",
    "    # 결과 데이터프레임 복사\n",
    "    result_df = df.copy()\n",
    "    \n",
    "    # 확인할 컬럼들\n",
    "    columns_to_check = ['step count', 'eat calorie', 'burned calorie', 'sleep time']\n",
    "    \n",
    "    # ID별 결측치 비율 계산\n",
    "    missing_ratios = pd.DataFrame()\n",
    "    \n",
    "    for column in columns_to_check:\n",
    "        # ID별로 해당 컬럼의 결측치 비율 계산\n",
    "        column_missing = result_df.groupby('ID')[column].apply(lambda x: x.isna().mean())\n",
    "        missing_ratios[column] = column_missing\n",
    "    \n",
    "    # 각 ID별로 threshold 이상 결측치를 가진 변수의 개수 계산\n",
    "    high_missing_counts = (missing_ratios >= threshold).sum(axis=1)\n",
    "    \n",
    "    # min_columns 이상의 변수에서 높은 결측치를 가진 ID 식별\n",
    "    ids_to_drop = high_missing_counts[high_missing_counts >= min_columns].index.tolist()\n",
    "    \n",
    "    if ids_to_drop:\n",
    "        print(f\"총 {len(ids_to_drop)}개 ID가 {min_columns}개 이상 변수에서 {threshold*100}% 이상 결측치를 가져 제거됩니다.\")\n",
    "        \n",
    "        # 해당 ID 제거\n",
    "        result_df = result_df[~result_df['ID'].isin(ids_to_drop)]\n",
    "    else:\n",
    "        print(f\"{min_columns}개 이상 변수에서 {threshold*100}% 이상 결측치를 가진 ID가 없습니다.\")\n",
    "    \n",
    "    # 남은 ID 수 계산\n",
    "    remaining_ids = result_df['ID'].nunique()\n",
    "    print(f\"남은 ID 수: {remaining_ids}\")\n",
    "    \n",
    "    return result_df\n",
    "\n",
    "# 함수 적용 (2개 이상 변수에서 90% 이상 결측)\n",
    "df_cleaned = remove_high_missing_rate_ids(df_filled, threshold=0.9, min_columns=3)\n",
    "\n",
    "# 결과 데이터프레임 정보 출력\n",
    "print(f\"원본 데이터프레임 크기: {df_filled.shape}\")\n",
    "print(f\"정제된 데이터프레임 크기: {df_cleaned.shape}\")"
   ]
  },
  {
   "cell_type": "code",
   "execution_count": 37,
   "metadata": {},
   "outputs": [
    {
     "name": "stdout",
     "output_type": "stream",
     "text": [
      "step count: 2323.17 값으로 결측치 채움\n",
      "burned calorie: 41.60 값으로 결측치 채움\n",
      "sleep time: 462.00 값으로 결측치 채움\n"
     ]
    }
   ],
   "source": [
    "# 전체 중앙값으로 결측치 채우기\n",
    "columns_to_fill = ['step count', 'burned calorie', 'sleep time']\n",
    "for col in columns_to_fill:\n",
    "   median_value = df_cleaned[col].median()\n",
    "   df_cleaned[col] = df_cleaned[col].fillna(median_value)\n",
    "   print(f\"{col}: {median_value:.2f} 값으로 결측치 채움\")"
   ]
  },
  {
   "cell_type": "markdown",
   "metadata": {},
   "source": [
    "### Eat calorie 전처리"
   ]
  },
  {
   "cell_type": "markdown",
   "metadata": {},
   "source": [
    "모든 데이터가 1회 기록 되었고 3끼 먹었다고 가정하여 확장"
   ]
  },
  {
   "cell_type": "code",
   "execution_count": 38,
   "metadata": {},
   "outputs": [],
   "source": [
    "df_eat=df_cleaned"
   ]
  },
  {
   "cell_type": "code",
   "execution_count": 39,
   "metadata": {},
   "outputs": [
    {
     "data": {
      "text/plain": [
       "count    35785.000000\n",
       "mean      1262.670085\n",
       "std       1945.948308\n",
       "min          0.000000\n",
       "25%        296.666667\n",
       "50%        556.000000\n",
       "75%       1289.000000\n",
       "max      25084.000000\n",
       "Name: eat calorie, dtype: float64"
      ]
     },
     "execution_count": 39,
     "metadata": {},
     "output_type": "execute_result"
    }
   ],
   "source": [
    "df_eat['eat calorie'].describe() # 아래와 같은 사분위값으로 나옴"
   ]
  },
  {
   "cell_type": "code",
   "execution_count": 40,
   "metadata": {},
   "outputs": [],
   "source": [
    "total_eat=df_eat['eat calorie']\n",
    "total_eat=total_eat.dropna()\n",
    "total_eat_np=total_eat.to_numpy()"
   ]
  },
  {
   "cell_type": "code",
   "execution_count": 41,
   "metadata": {},
   "outputs": [
    {
     "data": {
      "image/png": "[encoded data removed]",
      "text/plain": [
       "<Figure size 400x300 with 1 Axes>"
      ]
     },
     "metadata": {},
     "output_type": "display_data"
    }
   ],
   "source": [
    "import matplotlib.pyplot as plt\n",
    "import numpy as np\n",
    "plt.style.use('default')\n",
    "plt.rcParams['figure.figsize'] = (4, 3)\n",
    "plt.rcParams['font.size'] = 12\n",
    "\n",
    "fig, ax = plt.subplots()\n",
    "\n",
    "ax.boxplot(total_eat_np)\n",
    "ax.set_xlabel('eat calorie')\n",
    "ax.set_ylabel('Kcal')\n",
    "\n",
    "plt.show()"
   ]
  },
  {
   "cell_type": "code",
   "execution_count": 42,
   "metadata": {},
   "outputs": [],
   "source": [
    "df_eat.loc[df_eat['eat calorie'] < 100, 'eat calorie'] = np.nan # 100 칼로리는 너무 적으므로 이상치로 널값으로 대체\n",
    "df_eat.loc[df_eat['eat calorie'] > 4000, 'eat calorie'] = np.nan # 100 칼로리는 너무 적으므로 이상치로 널값으로 대체\n",
    "\n",
    "df_eat['eat calorie']=df_eat['eat calorie']*3 # 권장 칼로리가 약 2200칼로리인데 대부분 941 칼로리로 대부분 미달인 상태 하루 한끼 내지 두끼만 기록된 것으로 보임\n",
    "                                              # 따락서"
   ]
  },
  {
   "cell_type": "code",
   "execution_count": 43,
   "metadata": {},
   "outputs": [
    {
     "data": {
      "text/plain": [
       "count    31627.000000\n",
       "mean      2520.712978\n",
       "std       2357.236038\n",
       "min        300.000000\n",
       "25%        918.000000\n",
       "50%       1629.000000\n",
       "75%       3213.000000\n",
       "max      11992.714286\n",
       "Name: eat calorie, dtype: float64"
      ]
     },
     "execution_count": 43,
     "metadata": {},
     "output_type": "execute_result"
    }
   ],
   "source": [
    "df_eat['eat calorie'].describe() # 그러면 아래와 같은 사분위값이 나오게 된다"
   ]
  },
  {
   "cell_type": "markdown",
   "metadata": {},
   "source": [
    "### Eat calorie 결측치 채우기"
   ]
  },
  {
   "cell_type": "markdown",
   "metadata": {},
   "source": [
    "경우의 수  \n",
    "1. 널값인데 해당일에 급식 칼로리정보가 있는 경우\n",
    "2. 널값인데 해당일에 급식 칼로리정보가 없는 경우"
   ]
  },
  {
   "cell_type": "markdown",
   "metadata": {},
   "source": [
    "### eat calorie는 널값인데 급식 칼로리정보가 있는 경우\n",
    "급식칼로리 정보*3을 해서 널값을 채운다."
   ]
  },
  {
   "cell_type": "code",
   "execution_count": 44,
   "metadata": {},
   "outputs": [],
   "source": [
    "# 조건에 맞는 행을 한 번에 처리 (훨씬 더 효율적)\n",
    "mask = pd.isna(df_eat[\"eat calorie\"]) & pd.notna(df_eat[\"칼로리정보\"])\n",
    "df_eat.loc[mask, \"eat calorie\"] = df_eat.loc[mask, \"칼로리정보\"] * 1.5 * 3 # 급식에 있는 최소 칼로리 정보 보다 1.5배(많이 먹는다)하고 곱하기 3"
   ]
  },
  {
   "cell_type": "markdown",
   "metadata": {},
   "source": [
    "### 큰 이상치 선별하기"
   ]
  },
  {
   "cell_type": "code",
   "execution_count": 45,
   "metadata": {},
   "outputs": [],
   "source": [
    "upper_calorie_threshold=4000 # 60% 이상인 값을 상향 이상치로 설정\n",
    "grouped = df_eat.groupby('ID')"
   ]
  },
  {
   "cell_type": "code",
   "execution_count": 46,
   "metadata": {},
   "outputs": [],
   "source": [
    "# from sklearn.preprocessing import MinMaxScaler\n",
    "# import numpy as np\n",
    "# import pandas as pd\n",
    "\n",
    "# def minmax_scaler(data, min_val=4000):\n",
    "#     data = np.array(data)\n",
    "#     max_val = np.max(data)\n",
    "#     return (data - min_val) / (max_val - min_val)\n",
    "\n",
    "# def MinMax_eatcalorie(df):\n",
    "#     # 유효한 데이터를 가진 행만 선택\n",
    "#     mask = df['eat calorie'].notna()\n",
    "#     df_eat_calorie = df[mask].reset_index(drop=True)\n",
    "    \n",
    "#     # MinMaxScaler 적용 및 결과 병합\n",
    "#     df_eat_calorie['MinMaxScaler'] = minmax_scaler(df_eat_calorie['eat calorie'])\n",
    "    \n",
    "#     # 원본 데이터와 병합\n",
    "#     result = pd.merge(\n",
    "#         df, df_eat_calorie, \n",
    "#         on=['ID', 'collect_datetime', 'gender', 'grade', 'height', 'weight',\n",
    "#             'step count', 'burned calorie', 'eat calorie', 'sleep time', \n",
    "#             '급식일자', '칼로리정보'],\n",
    "#         how='left'\n",
    "#     )\n",
    "#     return result\n",
    "\n",
    "# # 메인 처리 부분\n",
    "# df_total = pd.DataFrame()\n",
    "\n",
    "# for _, group in grouped:\n",
    "#     # MinMaxScaler 적용\n",
    "#     df_MinMax = MinMax_eatcalorie(group)\n",
    "    \n",
    "#     # 임계값 초과 데이터 처리 (벡터화된 연산 사용)\n",
    "#     mask = (df_MinMax[\"eat calorie\"] > upper_calorie_threshold) & (~pd.isna(df_MinMax[\"eat calorie\"]))\n",
    "#     df_MinMax.loc[mask, \"eat calorie\"] = upper_calorie_threshold * (1 + df_MinMax.loc[mask, \"MinMaxScaler\"])\n",
    "    \n",
    "#     # 결과 데이터프레임에 추가\n",
    "#     df_total = pd.concat([df_total, df_MinMax], axis=0)"
   ]
  },
  {
   "cell_type": "code",
   "execution_count": 47,
   "metadata": {},
   "outputs": [],
   "source": [
    "from sklearn.preprocessing import MinMaxScaler\n",
    "import numpy as np\n",
    "import pandas as pd\n",
    "\n",
    "# 임계값 설정\n",
    "upper_calorie_threshold = 4000\n",
    "\n",
    "def MinMax_eatcalorie(df):\n",
    "   # 작업할 데이터프레임 복사\n",
    "   result = df.copy()\n",
    "   \n",
    "   # 유효한 eat calorie 데이터 마스크\n",
    "   mask = result['eat calorie'].notna()\n",
    "   \n",
    "   if mask.any():  # 유효한 데이터가 있는 경우만 처리\n",
    "       # 최대값 계산 (유효한 데이터만 사용)\n",
    "       valid_eat_calories = result.loc[mask, 'eat calorie']\n",
    "       max_val = valid_eat_calories.max()\n",
    "       \n",
    "       # 임계값 초과 데이터 처리\n",
    "       over_threshold = (result['eat calorie'] > upper_calorie_threshold) & mask\n",
    "       if over_threshold.any() and max_val > upper_calorie_threshold:\n",
    "           # 스케일링 계산 (임시 변수로만 사용)\n",
    "           scaling_factor = (valid_eat_calories - upper_calorie_threshold) / (max_val - upper_calorie_threshold)\n",
    "           \n",
    "           # 임계값 초과 데이터 처리 (원본 eat calorie 컬럼 값 직접 수정)\n",
    "           result.loc[over_threshold, 'eat calorie'] = upper_calorie_threshold * (1 + scaling_factor.loc[over_threshold])\n",
    "   \n",
    "   return result\n",
    "\n",
    "# 메인 처리 부분\n",
    "df_total = pd.DataFrame()\n",
    "for _, group in grouped:\n",
    "   # MinMaxScaler 적용 및 임계값 처리\n",
    "   processed_group = MinMax_eatcalorie(group)\n",
    "   \n",
    "   # 결과에 추가\n",
    "   df_total = pd.concat([df_total, processed_group], axis=0)\n",
    "\n",
    "# 인덱스 리셋\n",
    "df_total = df_total.reset_index(drop=True)"
   ]
  },
  {
   "cell_type": "markdown",
   "metadata": {},
   "source": [
    "### 원본 데이터하고 결합"
   ]
  },
  {
   "cell_type": "code",
   "execution_count": 48,
   "metadata": {},
   "outputs": [
    {
     "data": {
      "text/html": [
       "<div>\n",
       "<style scoped>\n",
       "    .dataframe tbody tr th:only-of-type {\n",
       "        vertical-align: middle;\n",
       "    }\n",
       "\n",
       "    .dataframe tbody tr th {\n",
       "        vertical-align: top;\n",
       "    }\n",
       "\n",
       "    .dataframe thead th {\n",
       "        text-align: right;\n",
       "    }\n",
       "</style>\n",
       "<table border=\"1\" class=\"dataframe\">\n",
       "  <thead>\n",
       "    <tr style=\"text-align: right;\">\n",
       "      <th></th>\n",
       "      <th>ID</th>\n",
       "      <th>collect_datetime</th>\n",
       "      <th>height</th>\n",
       "      <th>weight</th>\n",
       "      <th>step count</th>\n",
       "      <th>eat calorie</th>\n",
       "      <th>burned calorie</th>\n",
       "      <th>sleep time</th>\n",
       "      <th>gender</th>\n",
       "      <th>grade</th>\n",
       "      <th>급식일자</th>\n",
       "      <th>칼로리정보</th>\n",
       "    </tr>\n",
       "  </thead>\n",
       "  <tbody>\n",
       "    <tr>\n",
       "      <th>0</th>\n",
       "      <td>#ACGRQP</td>\n",
       "      <td>2022-07-14</td>\n",
       "      <td>136.016667</td>\n",
       "      <td>28.1</td>\n",
       "      <td>219.0</td>\n",
       "      <td>1939.05</td>\n",
       "      <td>41.604375</td>\n",
       "      <td>462.0</td>\n",
       "      <td>2</td>\n",
       "      <td>4</td>\n",
       "      <td>2022-07-14</td>\n",
       "      <td>430.9</td>\n",
       "    </tr>\n",
       "    <tr>\n",
       "      <th>1</th>\n",
       "      <td>#ACGRQP</td>\n",
       "      <td>2022-07-15</td>\n",
       "      <td>136.016667</td>\n",
       "      <td>28.1</td>\n",
       "      <td>219.0</td>\n",
       "      <td>1850.40</td>\n",
       "      <td>41.604375</td>\n",
       "      <td>462.0</td>\n",
       "      <td>2</td>\n",
       "      <td>4</td>\n",
       "      <td>2022-07-15</td>\n",
       "      <td>411.2</td>\n",
       "    </tr>\n",
       "    <tr>\n",
       "      <th>2</th>\n",
       "      <td>#ACGRQP</td>\n",
       "      <td>2022-07-16</td>\n",
       "      <td>136.016667</td>\n",
       "      <td>28.1</td>\n",
       "      <td>219.0</td>\n",
       "      <td>1922.40</td>\n",
       "      <td>41.604375</td>\n",
       "      <td>462.0</td>\n",
       "      <td>2</td>\n",
       "      <td>4</td>\n",
       "      <td>NaT</td>\n",
       "      <td>427.2</td>\n",
       "    </tr>\n",
       "    <tr>\n",
       "      <th>3</th>\n",
       "      <td>#ACGRQP</td>\n",
       "      <td>2022-07-17</td>\n",
       "      <td>136.016667</td>\n",
       "      <td>28.1</td>\n",
       "      <td>219.0</td>\n",
       "      <td>1994.40</td>\n",
       "      <td>41.604375</td>\n",
       "      <td>462.0</td>\n",
       "      <td>2</td>\n",
       "      <td>4</td>\n",
       "      <td>NaT</td>\n",
       "      <td>443.2</td>\n",
       "    </tr>\n",
       "    <tr>\n",
       "      <th>4</th>\n",
       "      <td>#ACGRQP</td>\n",
       "      <td>2022-07-18</td>\n",
       "      <td>136.016667</td>\n",
       "      <td>28.1</td>\n",
       "      <td>219.0</td>\n",
       "      <td>2066.40</td>\n",
       "      <td>41.604375</td>\n",
       "      <td>462.0</td>\n",
       "      <td>2</td>\n",
       "      <td>4</td>\n",
       "      <td>2022-07-18</td>\n",
       "      <td>459.2</td>\n",
       "    </tr>\n",
       "    <tr>\n",
       "      <th>...</th>\n",
       "      <td>...</td>\n",
       "      <td>...</td>\n",
       "      <td>...</td>\n",
       "      <td>...</td>\n",
       "      <td>...</td>\n",
       "      <td>...</td>\n",
       "      <td>...</td>\n",
       "      <td>...</td>\n",
       "      <td>...</td>\n",
       "      <td>...</td>\n",
       "      <td>...</td>\n",
       "      <td>...</td>\n",
       "    </tr>\n",
       "    <tr>\n",
       "      <th>44767</th>\n",
       "      <td>#ZWOHRX</td>\n",
       "      <td>2023-01-07</td>\n",
       "      <td>156.900000</td>\n",
       "      <td>47.5</td>\n",
       "      <td>12985.0</td>\n",
       "      <td>1056.00</td>\n",
       "      <td>33.915000</td>\n",
       "      <td>591.0</td>\n",
       "      <td>2</td>\n",
       "      <td>6</td>\n",
       "      <td>NaT</td>\n",
       "      <td>627.9</td>\n",
       "    </tr>\n",
       "    <tr>\n",
       "      <th>44768</th>\n",
       "      <td>#ZWOHRX</td>\n",
       "      <td>2023-01-08</td>\n",
       "      <td>156.900000</td>\n",
       "      <td>47.5</td>\n",
       "      <td>12985.0</td>\n",
       "      <td>1056.00</td>\n",
       "      <td>33.915000</td>\n",
       "      <td>591.0</td>\n",
       "      <td>2</td>\n",
       "      <td>6</td>\n",
       "      <td>NaT</td>\n",
       "      <td>627.9</td>\n",
       "    </tr>\n",
       "    <tr>\n",
       "      <th>44769</th>\n",
       "      <td>#ZWOHRX</td>\n",
       "      <td>2023-01-09</td>\n",
       "      <td>156.900000</td>\n",
       "      <td>47.5</td>\n",
       "      <td>12985.0</td>\n",
       "      <td>1056.00</td>\n",
       "      <td>33.915000</td>\n",
       "      <td>591.0</td>\n",
       "      <td>2</td>\n",
       "      <td>6</td>\n",
       "      <td>NaT</td>\n",
       "      <td>627.9</td>\n",
       "    </tr>\n",
       "    <tr>\n",
       "      <th>44770</th>\n",
       "      <td>#ZWOHRX</td>\n",
       "      <td>2023-01-10</td>\n",
       "      <td>156.900000</td>\n",
       "      <td>47.5</td>\n",
       "      <td>12985.0</td>\n",
       "      <td>1056.00</td>\n",
       "      <td>33.915000</td>\n",
       "      <td>591.0</td>\n",
       "      <td>2</td>\n",
       "      <td>6</td>\n",
       "      <td>NaT</td>\n",
       "      <td>627.9</td>\n",
       "    </tr>\n",
       "    <tr>\n",
       "      <th>44771</th>\n",
       "      <td>#ZWOHRX</td>\n",
       "      <td>2023-01-11</td>\n",
       "      <td>156.900000</td>\n",
       "      <td>47.5</td>\n",
       "      <td>12985.0</td>\n",
       "      <td>1056.00</td>\n",
       "      <td>33.915000</td>\n",
       "      <td>591.0</td>\n",
       "      <td>2</td>\n",
       "      <td>6</td>\n",
       "      <td>NaT</td>\n",
       "      <td>627.9</td>\n",
       "    </tr>\n",
       "  </tbody>\n",
       "</table>\n",
       "<p>44772 rows × 12 columns</p>\n",
       "</div>"
      ],
      "text/plain": [
       "            ID collect_datetime      height  weight  step count  eat calorie  \\\n",
       "0      #ACGRQP       2022-07-14  136.016667    28.1       219.0      1939.05   \n",
       "1      #ACGRQP       2022-07-15  136.016667    28.1       219.0      1850.40   \n",
       "2      #ACGRQP       2022-07-16  136.016667    28.1       219.0      1922.40   \n",
       "3      #ACGRQP       2022-07-17  136.016667    28.1       219.0      1994.40   \n",
       "4      #ACGRQP       2022-07-18  136.016667    28.1       219.0      2066.40   \n",
       "...        ...              ...         ...     ...         ...          ...   \n",
       "44767  #ZWOHRX       2023-01-07  156.900000    47.5     12985.0      1056.00   \n",
       "44768  #ZWOHRX       2023-01-08  156.900000    47.5     12985.0      1056.00   \n",
       "44769  #ZWOHRX       2023-01-09  156.900000    47.5     12985.0      1056.00   \n",
       "44770  #ZWOHRX       2023-01-10  156.900000    47.5     12985.0      1056.00   \n",
       "44771  #ZWOHRX       2023-01-11  156.900000    47.5     12985.0      1056.00   \n",
       "\n",
       "       burned calorie  sleep time gender grade       급식일자  칼로리정보  \n",
       "0           41.604375       462.0      2     4 2022-07-14  430.9  \n",
       "1           41.604375       462.0      2     4 2022-07-15  411.2  \n",
       "2           41.604375       462.0      2     4        NaT  427.2  \n",
       "3           41.604375       462.0      2     4        NaT  443.2  \n",
       "4           41.604375       462.0      2     4 2022-07-18  459.2  \n",
       "...               ...         ...    ...   ...        ...    ...  \n",
       "44767       33.915000       591.0      2     6        NaT  627.9  \n",
       "44768       33.915000       591.0      2     6        NaT  627.9  \n",
       "44769       33.915000       591.0      2     6        NaT  627.9  \n",
       "44770       33.915000       591.0      2     6        NaT  627.9  \n",
       "44771       33.915000       591.0      2     6        NaT  627.9  \n",
       "\n",
       "[44772 rows x 12 columns]"
      ]
     },
     "execution_count": 48,
     "metadata": {},
     "output_type": "execute_result"
    }
   ],
   "source": [
    "df_total"
   ]
  },
  {
   "cell_type": "markdown",
   "metadata": {},
   "source": [
    "## Step Count 전처리"
   ]
  },
  {
   "cell_type": "code",
   "execution_count": 49,
   "metadata": {},
   "outputs": [
    {
     "data": {
      "text/plain": [
       "count    4.477200e+04\n",
       "mean     8.591471e+04\n",
       "std      1.692729e+06\n",
       "min      0.000000e+00\n",
       "25%      4.859274e+02\n",
       "50%      2.323167e+03\n",
       "75%      5.241000e+03\n",
       "max      3.568921e+07\n",
       "Name: step count, dtype: float64"
      ]
     },
     "execution_count": 49,
     "metadata": {},
     "output_type": "execute_result"
    }
   ],
   "source": [
    "df_total['step count'].describe()"
   ]
  },
  {
   "cell_type": "code",
   "execution_count": 50,
   "metadata": {},
   "outputs": [],
   "source": [
    "#10000보 이상 걸음 걸이수에 대해 스무딩\n",
    "\n",
    "upper_stepcount_threshold=10000\n",
    "grouped = df_total.groupby('ID')"
   ]
  },
  {
   "cell_type": "code",
   "execution_count": 51,
   "metadata": {},
   "outputs": [],
   "source": [
    "from sklearn.preprocessing import MinMaxScaler\n",
    "import numpy as np\n",
    "import pandas as pd\n",
    "\n",
    "# 임계값 설정\n",
    "upper_stepcount_threshold = 10000\n",
    "\n",
    "def MinMax_step_count(df):\n",
    "   # 작업할 데이터프레임 복사\n",
    "   result = df.copy()\n",
    "   \n",
    "   # 유효한 step count 데이터 마스크\n",
    "   mask = result['step count'].notna()\n",
    "   \n",
    "   if mask.any():  # 유효한 데이터가 있는 경우만 처리\n",
    "       # 최대값 계산 (유효한 데이터만 사용)\n",
    "       valid_step_counts = result.loc[mask, 'step count']\n",
    "       max_val = valid_step_counts.max()\n",
    "       \n",
    "       # 임계값 초과 데이터 처리\n",
    "       over_threshold = (result['step count'] > upper_stepcount_threshold) & mask\n",
    "       if over_threshold.any() and max_val > upper_stepcount_threshold:\n",
    "           # 스케일링 계산 (임시 변수로만 사용)\n",
    "           scaling_factor = (valid_step_counts - upper_stepcount_threshold) / (max_val - upper_stepcount_threshold)\n",
    "           \n",
    "           # 임계값 초과 데이터 처리 (원본 step count 컬럼 값 직접 수정)\n",
    "           result.loc[over_threshold, 'step count'] = upper_stepcount_threshold * (1 + scaling_factor.loc[over_threshold])\n",
    "   \n",
    "   return result\n",
    "\n",
    "# 메인 처리 부분\n",
    "df_total = pd.DataFrame()\n",
    "for _, group in grouped:\n",
    "   # MinMaxScaler 적용 및 임계값 처리\n",
    "   processed_group = MinMax_step_count(group)\n",
    "   \n",
    "   # 결과에 추가\n",
    "   df_total = pd.concat([df_total, processed_group], axis=0)\n",
    "\n",
    "# 인덱스 리셋\n",
    "df_total = df_total.reset_index(drop=True)"
   ]
  },
  {
   "cell_type": "code",
   "execution_count": 52,
   "metadata": {},
   "outputs": [
    {
     "data": {
      "text/plain": [
       "count    44772.000000\n",
       "mean      3764.138119\n",
       "std       4522.001230\n",
       "min          0.000000\n",
       "25%        485.927419\n",
       "50%       2323.166667\n",
       "75%       5241.000000\n",
       "max      20000.000000\n",
       "Name: step count, dtype: float64"
      ]
     },
     "execution_count": 52,
     "metadata": {},
     "output_type": "execute_result"
    }
   ],
   "source": [
    "df_total['step count'].describe()"
   ]
  },
  {
   "cell_type": "markdown",
   "metadata": {},
   "source": [
    "## sleep time 전처리"
   ]
  },
  {
   "cell_type": "markdown",
   "metadata": {},
   "source": [
    "540분(9시간 권장수면시간)을 상향 이상치로 설정"
   ]
  },
  {
   "cell_type": "code",
   "execution_count": 53,
   "metadata": {},
   "outputs": [],
   "source": [
    "grouped = df_total.groupby('ID')"
   ]
  },
  {
   "cell_type": "code",
   "execution_count": 54,
   "metadata": {},
   "outputs": [],
   "source": [
    "import pandas as pd\n",
    "import numpy as np\n",
    "from sklearn.preprocessing import MinMaxScaler\n",
    "\n",
    "# 표시 형식 설정\n",
    "pd.options.display.float_format = '{:.2f}'.format\n",
    "\n",
    "# 임계값 설정\n",
    "upper_sleeptime_threshold = 540\n",
    "\n",
    "def MinMax_sleeptime(df):\n",
    "    # 작업할 데이터프레임 복사\n",
    "    result = df.copy()\n",
    "    \n",
    "    # 유효한 수면 시간 데이터 마스크\n",
    "    mask = result['sleep time'].notna()\n",
    "    \n",
    "    if mask.any():  # 유효한 데이터가 있는 경우만 처리\n",
    "        # 최대값 계산 (유효한 데이터만 사용)\n",
    "        valid_sleep_times = result.loc[mask, 'sleep time']\n",
    "        max_val = valid_sleep_times.max()\n",
    "        \n",
    "        # 임계값 초과 데이터 처리\n",
    "        over_threshold = (result['sleep time'] > upper_sleeptime_threshold) & mask\n",
    "        if over_threshold.any() and max_val > upper_sleeptime_threshold:\n",
    "            # 스케일링 계산 (임시 변수로만 사용)\n",
    "            scaling_factor = (valid_sleep_times - upper_sleeptime_threshold) / (max_val - upper_sleeptime_threshold)\n",
    "            \n",
    "            # 임계값 초과 데이터 처리 (원본 sleep time 컬럼 값 직접 수정)\n",
    "            result.loc[over_threshold, 'sleep time'] = upper_sleeptime_threshold * (1 + scaling_factor.loc[over_threshold])\n",
    "    \n",
    "    return result\n",
    "\n",
    "# 메인 처리 부분\n",
    "df_total2 = pd.DataFrame()\n",
    "\n",
    "for _, group in grouped:\n",
    "    # ID별로 sleep time이 모두 결측치인 경우 해당 그룹 건너뛰기\n",
    "    if group['sleep time'].isna().all():\n",
    "        continue\n",
    "        \n",
    "    # 남은 그룹에서 sleep time 결측치를 ID별 중앙값으로 채우기\n",
    "    group['sleep time'] = group['sleep time'].fillna(group.groupby('ID')['sleep time'].transform('median'))\n",
    "    \n",
    "    # MinMaxScaler 적용 및 임계값 처리\n",
    "    processed_group = MinMax_sleeptime(group)\n",
    "    \n",
    "    # 결과에 추가\n",
    "    df_total2 = pd.concat([df_total2, processed_group], axis=0)\n",
    "\n",
    "# 인덱스 리셋\n",
    "df_total2 = df_total2.reset_index(drop=True)"
   ]
  },
  {
   "cell_type": "code",
   "execution_count": 55,
   "metadata": {},
   "outputs": [
    {
     "data": {
      "text/html": [
       "<div>\n",
       "<style scoped>\n",
       "    .dataframe tbody tr th:only-of-type {\n",
       "        vertical-align: middle;\n",
       "    }\n",
       "\n",
       "    .dataframe tbody tr th {\n",
       "        vertical-align: top;\n",
       "    }\n",
       "\n",
       "    .dataframe thead th {\n",
       "        text-align: right;\n",
       "    }\n",
       "</style>\n",
       "<table border=\"1\" class=\"dataframe\">\n",
       "  <thead>\n",
       "    <tr style=\"text-align: right;\">\n",
       "      <th></th>\n",
       "      <th>ID</th>\n",
       "      <th>collect_datetime</th>\n",
       "      <th>height</th>\n",
       "      <th>weight</th>\n",
       "      <th>step count</th>\n",
       "      <th>eat calorie</th>\n",
       "      <th>burned calorie</th>\n",
       "      <th>sleep time</th>\n",
       "      <th>gender</th>\n",
       "      <th>grade</th>\n",
       "      <th>급식일자</th>\n",
       "      <th>칼로리정보</th>\n",
       "    </tr>\n",
       "  </thead>\n",
       "  <tbody>\n",
       "    <tr>\n",
       "      <th>0</th>\n",
       "      <td>#ACGRQP</td>\n",
       "      <td>2022-07-14</td>\n",
       "      <td>136.02</td>\n",
       "      <td>28.10</td>\n",
       "      <td>219.00</td>\n",
       "      <td>1939.05</td>\n",
       "      <td>41.60</td>\n",
       "      <td>462.00</td>\n",
       "      <td>2</td>\n",
       "      <td>4</td>\n",
       "      <td>2022-07-14</td>\n",
       "      <td>430.90</td>\n",
       "    </tr>\n",
       "    <tr>\n",
       "      <th>1</th>\n",
       "      <td>#ACGRQP</td>\n",
       "      <td>2022-07-15</td>\n",
       "      <td>136.02</td>\n",
       "      <td>28.10</td>\n",
       "      <td>219.00</td>\n",
       "      <td>1850.40</td>\n",
       "      <td>41.60</td>\n",
       "      <td>462.00</td>\n",
       "      <td>2</td>\n",
       "      <td>4</td>\n",
       "      <td>2022-07-15</td>\n",
       "      <td>411.20</td>\n",
       "    </tr>\n",
       "    <tr>\n",
       "      <th>2</th>\n",
       "      <td>#ACGRQP</td>\n",
       "      <td>2022-07-16</td>\n",
       "      <td>136.02</td>\n",
       "      <td>28.10</td>\n",
       "      <td>219.00</td>\n",
       "      <td>1922.40</td>\n",
       "      <td>41.60</td>\n",
       "      <td>462.00</td>\n",
       "      <td>2</td>\n",
       "      <td>4</td>\n",
       "      <td>NaT</td>\n",
       "      <td>427.20</td>\n",
       "    </tr>\n",
       "    <tr>\n",
       "      <th>3</th>\n",
       "      <td>#ACGRQP</td>\n",
       "      <td>2022-07-17</td>\n",
       "      <td>136.02</td>\n",
       "      <td>28.10</td>\n",
       "      <td>219.00</td>\n",
       "      <td>1994.40</td>\n",
       "      <td>41.60</td>\n",
       "      <td>462.00</td>\n",
       "      <td>2</td>\n",
       "      <td>4</td>\n",
       "      <td>NaT</td>\n",
       "      <td>443.20</td>\n",
       "    </tr>\n",
       "    <tr>\n",
       "      <th>4</th>\n",
       "      <td>#ACGRQP</td>\n",
       "      <td>2022-07-18</td>\n",
       "      <td>136.02</td>\n",
       "      <td>28.10</td>\n",
       "      <td>219.00</td>\n",
       "      <td>2066.40</td>\n",
       "      <td>41.60</td>\n",
       "      <td>462.00</td>\n",
       "      <td>2</td>\n",
       "      <td>4</td>\n",
       "      <td>2022-07-18</td>\n",
       "      <td>459.20</td>\n",
       "    </tr>\n",
       "    <tr>\n",
       "      <th>...</th>\n",
       "      <td>...</td>\n",
       "      <td>...</td>\n",
       "      <td>...</td>\n",
       "      <td>...</td>\n",
       "      <td>...</td>\n",
       "      <td>...</td>\n",
       "      <td>...</td>\n",
       "      <td>...</td>\n",
       "      <td>...</td>\n",
       "      <td>...</td>\n",
       "      <td>...</td>\n",
       "      <td>...</td>\n",
       "    </tr>\n",
       "    <tr>\n",
       "      <th>44767</th>\n",
       "      <td>#ZWOHRX</td>\n",
       "      <td>2023-01-07</td>\n",
       "      <td>156.90</td>\n",
       "      <td>47.50</td>\n",
       "      <td>20000.00</td>\n",
       "      <td>1056.00</td>\n",
       "      <td>33.91</td>\n",
       "      <td>1080.00</td>\n",
       "      <td>2</td>\n",
       "      <td>6</td>\n",
       "      <td>NaT</td>\n",
       "      <td>627.90</td>\n",
       "    </tr>\n",
       "    <tr>\n",
       "      <th>44768</th>\n",
       "      <td>#ZWOHRX</td>\n",
       "      <td>2023-01-08</td>\n",
       "      <td>156.90</td>\n",
       "      <td>47.50</td>\n",
       "      <td>20000.00</td>\n",
       "      <td>1056.00</td>\n",
       "      <td>33.91</td>\n",
       "      <td>1080.00</td>\n",
       "      <td>2</td>\n",
       "      <td>6</td>\n",
       "      <td>NaT</td>\n",
       "      <td>627.90</td>\n",
       "    </tr>\n",
       "    <tr>\n",
       "      <th>44769</th>\n",
       "      <td>#ZWOHRX</td>\n",
       "      <td>2023-01-09</td>\n",
       "      <td>156.90</td>\n",
       "      <td>47.50</td>\n",
       "      <td>20000.00</td>\n",
       "      <td>1056.00</td>\n",
       "      <td>33.91</td>\n",
       "      <td>1080.00</td>\n",
       "      <td>2</td>\n",
       "      <td>6</td>\n",
       "      <td>NaT</td>\n",
       "      <td>627.90</td>\n",
       "    </tr>\n",
       "    <tr>\n",
       "      <th>44770</th>\n",
       "      <td>#ZWOHRX</td>\n",
       "      <td>2023-01-10</td>\n",
       "      <td>156.90</td>\n",
       "      <td>47.50</td>\n",
       "      <td>20000.00</td>\n",
       "      <td>1056.00</td>\n",
       "      <td>33.91</td>\n",
       "      <td>1080.00</td>\n",
       "      <td>2</td>\n",
       "      <td>6</td>\n",
       "      <td>NaT</td>\n",
       "      <td>627.90</td>\n",
       "    </tr>\n",
       "    <tr>\n",
       "      <th>44771</th>\n",
       "      <td>#ZWOHRX</td>\n",
       "      <td>2023-01-11</td>\n",
       "      <td>156.90</td>\n",
       "      <td>47.50</td>\n",
       "      <td>20000.00</td>\n",
       "      <td>1056.00</td>\n",
       "      <td>33.91</td>\n",
       "      <td>1080.00</td>\n",
       "      <td>2</td>\n",
       "      <td>6</td>\n",
       "      <td>NaT</td>\n",
       "      <td>627.90</td>\n",
       "    </tr>\n",
       "  </tbody>\n",
       "</table>\n",
       "<p>44772 rows × 12 columns</p>\n",
       "</div>"
      ],
      "text/plain": [
       "            ID collect_datetime  height  weight  step count  eat calorie  \\\n",
       "0      #ACGRQP       2022-07-14  136.02   28.10      219.00      1939.05   \n",
       "1      #ACGRQP       2022-07-15  136.02   28.10      219.00      1850.40   \n",
       "2      #ACGRQP       2022-07-16  136.02   28.10      219.00      1922.40   \n",
       "3      #ACGRQP       2022-07-17  136.02   28.10      219.00      1994.40   \n",
       "4      #ACGRQP       2022-07-18  136.02   28.10      219.00      2066.40   \n",
       "...        ...              ...     ...     ...         ...          ...   \n",
       "44767  #ZWOHRX       2023-01-07  156.90   47.50    20000.00      1056.00   \n",
       "44768  #ZWOHRX       2023-01-08  156.90   47.50    20000.00      1056.00   \n",
       "44769  #ZWOHRX       2023-01-09  156.90   47.50    20000.00      1056.00   \n",
       "44770  #ZWOHRX       2023-01-10  156.90   47.50    20000.00      1056.00   \n",
       "44771  #ZWOHRX       2023-01-11  156.90   47.50    20000.00      1056.00   \n",
       "\n",
       "       burned calorie  sleep time gender grade       급식일자  칼로리정보  \n",
       "0               41.60      462.00      2     4 2022-07-14 430.90  \n",
       "1               41.60      462.00      2     4 2022-07-15 411.20  \n",
       "2               41.60      462.00      2     4        NaT 427.20  \n",
       "3               41.60      462.00      2     4        NaT 443.20  \n",
       "4               41.60      462.00      2     4 2022-07-18 459.20  \n",
       "...               ...         ...    ...   ...        ...    ...  \n",
       "44767           33.91     1080.00      2     6        NaT 627.90  \n",
       "44768           33.91     1080.00      2     6        NaT 627.90  \n",
       "44769           33.91     1080.00      2     6        NaT 627.90  \n",
       "44770           33.91     1080.00      2     6        NaT 627.90  \n",
       "44771           33.91     1080.00      2     6        NaT 627.90  \n",
       "\n",
       "[44772 rows x 12 columns]"
      ]
     },
     "execution_count": 55,
     "metadata": {},
     "output_type": "execute_result"
    }
   ],
   "source": [
    "df_total2"
   ]
  },
  {
   "cell_type": "code",
   "execution_count": 56,
   "metadata": {},
   "outputs": [
    {
     "data": {
      "text/plain": [
       "246"
      ]
     },
     "execution_count": 56,
     "metadata": {},
     "output_type": "execute_result"
    }
   ],
   "source": [
    "len(df_total2['ID'].unique())"
   ]
  },
  {
   "cell_type": "markdown",
   "metadata": {},
   "source": [
    "### 수면시간 너무 많이 나오거나 너무 적게 나오는 값 결측치로 변환"
   ]
  },
  {
   "cell_type": "code",
   "execution_count": 57,
   "metadata": {},
   "outputs": [],
   "source": [
    "# 수면 시간 720(12시간 이상)이상 널값으로 교체\n",
    "def replace_above_threshold_with_null(df, column, threshold):\n",
    "    df[column] = df[column].apply(lambda x: np.nan if x > threshold else x)\n",
    "    return df\n",
    "\n",
    "# 수면 시간 720(12시간 이상)이상 널값으로 교체\n",
    "df_result3 = replace_above_threshold_with_null(df_total2, 'sleep time', 720)"
   ]
  },
  {
   "cell_type": "code",
   "execution_count": 58,
   "metadata": {},
   "outputs": [],
   "source": [
    "#160(2시간 40분 이하) 널값으로 교체\n",
    "def replace_under_threshold_with_null(df, column, threshold):\n",
    "    df[column] = df[column].apply(lambda x: 160 if x < threshold else x)\n",
    "    return df\n",
    "\n",
    "#160분(2시간 40분 이하) 널값으로 교체\n",
    "df_result3 = replace_under_threshold_with_null(df_total2, 'sleep time', 160)"
   ]
  },
  {
   "cell_type": "code",
   "execution_count": 59,
   "metadata": {},
   "outputs": [],
   "source": [
    "# ID별 sleep time 중앙값 계산\n",
    "sleep_median = df_result3.groupby('ID')['sleep time'].transform('median')\n",
    "\n",
    "# 결측치를 ID별 중앙값으로 채우기\n",
    "df_result3['sleep time'] = df_result3['sleep time'].fillna(sleep_median)"
   ]
  },
  {
   "cell_type": "code",
   "execution_count": 60,
   "metadata": {},
   "outputs": [
    {
     "name": "stdout",
     "output_type": "stream",
     "text": [
      "3개 ID에서 여전히 sleep time 결측치가 있어 삭제합니다.\n"
     ]
    }
   ],
   "source": [
    "# 여전히 결측치가 있는 ID 찾기\n",
    "still_missing = df_result3[df_result3['sleep time'].isna()]['ID'].unique()\n",
    "\n",
    "# 해당 ID 모두 삭제\n",
    "if len(still_missing) > 0:\n",
    "    print(f\"{len(still_missing)}개 ID에서 여전히 sleep time 결측치가 있어 삭제합니다.\")\n",
    "    df_result3 = df_result3[~df_result3['ID'].isin(still_missing)]"
   ]
  },
  {
   "cell_type": "markdown",
   "metadata": {},
   "source": [
    "##  burned calorie 전처리"
   ]
  },
  {
   "cell_type": "markdown",
   "metadata": {},
   "source": [
    "축구 2시간 기준 칼로리 소모량 1700 kcal를 상향 이상치로 설정"
   ]
  },
  {
   "cell_type": "code",
   "execution_count": 61,
   "metadata": {},
   "outputs": [],
   "source": [
    "df_result3['burned calorie'].describe()\n",
    "grouped = df_result3.groupby('ID')"
   ]
  },
  {
   "cell_type": "code",
   "execution_count": 62,
   "metadata": {},
   "outputs": [],
   "source": [
    "import pandas as pd\n",
    "import numpy as np\n",
    "from sklearn.preprocessing import MinMaxScaler\n",
    "\n",
    "# 표시 형식 설정\n",
    "pd.options.display.float_format = '{:.2f}'.format\n",
    "\n",
    "# 임계값 설정\n",
    "upper_burn_threshold = 1700\n",
    "\n",
    "def MinMax_burned_calorie(df):\n",
    "   # 작업할 데이터프레임 복사\n",
    "   result = df.copy()\n",
    "   \n",
    "   # 유효한 burned calorie 데이터 마스크\n",
    "   mask = result['burned calorie'].notna()\n",
    "   \n",
    "   if mask.any():  # 유효한 데이터가 있는 경우만 처리\n",
    "       # 최대값 계산 (유효한 데이터만 사용)\n",
    "       valid_burned_calories = result.loc[mask, 'burned calorie']\n",
    "       max_val = valid_burned_calories.max()\n",
    "       \n",
    "       # 임계값 초과 데이터 처리\n",
    "       over_threshold = (result['burned calorie'] > upper_burn_threshold) & mask\n",
    "       if over_threshold.any() and max_val > upper_burn_threshold:\n",
    "           # 스케일링 계산 (임시 변수로만 사용)\n",
    "           scaling_factor = (valid_burned_calories - upper_burn_threshold) / (max_val - upper_burn_threshold)\n",
    "           \n",
    "           # 임계값 초과 데이터 처리 (원본 burned calorie 컬럼 값 직접 수정)\n",
    "           result.loc[over_threshold, 'burned calorie'] = upper_burn_threshold * (1 + scaling_factor.loc[over_threshold])\n",
    "   \n",
    "   return result\n",
    "\n",
    "# 메인 처리 부분\n",
    "df_total3 = pd.DataFrame()\n",
    "for _, group in grouped:\n",
    "   # MinMaxScaler 적용 및 임계값 처리\n",
    "   processed_group = MinMax_burned_calorie(group)\n",
    "   \n",
    "   # 결과에 추가\n",
    "   df_total3 = pd.concat([df_total3, processed_group], axis=0)\n",
    "\n",
    "# 인덱스 리셋\n",
    "df_total3 = df_total3.reset_index(drop=True)"
   ]
  },
  {
   "cell_type": "code",
   "execution_count": 64,
   "metadata": {},
   "outputs": [
    {
     "data": {
      "text/html": [
       "<div>\n",
       "<style scoped>\n",
       "    .dataframe tbody tr th:only-of-type {\n",
       "        vertical-align: middle;\n",
       "    }\n",
       "\n",
       "    .dataframe tbody tr th {\n",
       "        vertical-align: top;\n",
       "    }\n",
       "\n",
       "    .dataframe thead th {\n",
       "        text-align: right;\n",
       "    }\n",
       "</style>\n",
       "<table border=\"1\" class=\"dataframe\">\n",
       "  <thead>\n",
       "    <tr style=\"text-align: right;\">\n",
       "      <th></th>\n",
       "      <th>ID</th>\n",
       "      <th>collect_datetime</th>\n",
       "      <th>height</th>\n",
       "      <th>weight</th>\n",
       "      <th>step count</th>\n",
       "      <th>eat calorie</th>\n",
       "      <th>burned calorie</th>\n",
       "      <th>sleep time</th>\n",
       "      <th>gender</th>\n",
       "      <th>grade</th>\n",
       "      <th>급식일자</th>\n",
       "      <th>칼로리정보</th>\n",
       "    </tr>\n",
       "  </thead>\n",
       "  <tbody>\n",
       "    <tr>\n",
       "      <th>0</th>\n",
       "      <td>#ACGRQP</td>\n",
       "      <td>2022-07-14</td>\n",
       "      <td>136.02</td>\n",
       "      <td>28.10</td>\n",
       "      <td>219.00</td>\n",
       "      <td>1939.05</td>\n",
       "      <td>41.60</td>\n",
       "      <td>462.00</td>\n",
       "      <td>2</td>\n",
       "      <td>4</td>\n",
       "      <td>2022-07-14</td>\n",
       "      <td>430.90</td>\n",
       "    </tr>\n",
       "    <tr>\n",
       "      <th>1</th>\n",
       "      <td>#ACGRQP</td>\n",
       "      <td>2022-07-15</td>\n",
       "      <td>136.02</td>\n",
       "      <td>28.10</td>\n",
       "      <td>219.00</td>\n",
       "      <td>1850.40</td>\n",
       "      <td>41.60</td>\n",
       "      <td>462.00</td>\n",
       "      <td>2</td>\n",
       "      <td>4</td>\n",
       "      <td>2022-07-15</td>\n",
       "      <td>411.20</td>\n",
       "    </tr>\n",
       "    <tr>\n",
       "      <th>2</th>\n",
       "      <td>#ACGRQP</td>\n",
       "      <td>2022-07-16</td>\n",
       "      <td>136.02</td>\n",
       "      <td>28.10</td>\n",
       "      <td>219.00</td>\n",
       "      <td>1922.40</td>\n",
       "      <td>41.60</td>\n",
       "      <td>462.00</td>\n",
       "      <td>2</td>\n",
       "      <td>4</td>\n",
       "      <td>NaT</td>\n",
       "      <td>427.20</td>\n",
       "    </tr>\n",
       "    <tr>\n",
       "      <th>3</th>\n",
       "      <td>#ACGRQP</td>\n",
       "      <td>2022-07-17</td>\n",
       "      <td>136.02</td>\n",
       "      <td>28.10</td>\n",
       "      <td>219.00</td>\n",
       "      <td>1994.40</td>\n",
       "      <td>41.60</td>\n",
       "      <td>462.00</td>\n",
       "      <td>2</td>\n",
       "      <td>4</td>\n",
       "      <td>NaT</td>\n",
       "      <td>443.20</td>\n",
       "    </tr>\n",
       "    <tr>\n",
       "      <th>4</th>\n",
       "      <td>#ACGRQP</td>\n",
       "      <td>2022-07-18</td>\n",
       "      <td>136.02</td>\n",
       "      <td>28.10</td>\n",
       "      <td>219.00</td>\n",
       "      <td>2066.40</td>\n",
       "      <td>41.60</td>\n",
       "      <td>462.00</td>\n",
       "      <td>2</td>\n",
       "      <td>4</td>\n",
       "      <td>2022-07-18</td>\n",
       "      <td>459.20</td>\n",
       "    </tr>\n",
       "    <tr>\n",
       "      <th>...</th>\n",
       "      <td>...</td>\n",
       "      <td>...</td>\n",
       "      <td>...</td>\n",
       "      <td>...</td>\n",
       "      <td>...</td>\n",
       "      <td>...</td>\n",
       "      <td>...</td>\n",
       "      <td>...</td>\n",
       "      <td>...</td>\n",
       "      <td>...</td>\n",
       "      <td>...</td>\n",
       "      <td>...</td>\n",
       "    </tr>\n",
       "    <tr>\n",
       "      <th>44221</th>\n",
       "      <td>#ZWOHRX</td>\n",
       "      <td>2023-01-07</td>\n",
       "      <td>156.90</td>\n",
       "      <td>47.50</td>\n",
       "      <td>20000.00</td>\n",
       "      <td>1056.00</td>\n",
       "      <td>33.91</td>\n",
       "      <td>459.60</td>\n",
       "      <td>2</td>\n",
       "      <td>6</td>\n",
       "      <td>NaT</td>\n",
       "      <td>627.90</td>\n",
       "    </tr>\n",
       "    <tr>\n",
       "      <th>44222</th>\n",
       "      <td>#ZWOHRX</td>\n",
       "      <td>2023-01-08</td>\n",
       "      <td>156.90</td>\n",
       "      <td>47.50</td>\n",
       "      <td>20000.00</td>\n",
       "      <td>1056.00</td>\n",
       "      <td>33.91</td>\n",
       "      <td>459.60</td>\n",
       "      <td>2</td>\n",
       "      <td>6</td>\n",
       "      <td>NaT</td>\n",
       "      <td>627.90</td>\n",
       "    </tr>\n",
       "    <tr>\n",
       "      <th>44223</th>\n",
       "      <td>#ZWOHRX</td>\n",
       "      <td>2023-01-09</td>\n",
       "      <td>156.90</td>\n",
       "      <td>47.50</td>\n",
       "      <td>20000.00</td>\n",
       "      <td>1056.00</td>\n",
       "      <td>33.91</td>\n",
       "      <td>459.60</td>\n",
       "      <td>2</td>\n",
       "      <td>6</td>\n",
       "      <td>NaT</td>\n",
       "      <td>627.90</td>\n",
       "    </tr>\n",
       "    <tr>\n",
       "      <th>44224</th>\n",
       "      <td>#ZWOHRX</td>\n",
       "      <td>2023-01-10</td>\n",
       "      <td>156.90</td>\n",
       "      <td>47.50</td>\n",
       "      <td>20000.00</td>\n",
       "      <td>1056.00</td>\n",
       "      <td>33.91</td>\n",
       "      <td>459.60</td>\n",
       "      <td>2</td>\n",
       "      <td>6</td>\n",
       "      <td>NaT</td>\n",
       "      <td>627.90</td>\n",
       "    </tr>\n",
       "    <tr>\n",
       "      <th>44225</th>\n",
       "      <td>#ZWOHRX</td>\n",
       "      <td>2023-01-11</td>\n",
       "      <td>156.90</td>\n",
       "      <td>47.50</td>\n",
       "      <td>20000.00</td>\n",
       "      <td>1056.00</td>\n",
       "      <td>33.91</td>\n",
       "      <td>459.60</td>\n",
       "      <td>2</td>\n",
       "      <td>6</td>\n",
       "      <td>NaT</td>\n",
       "      <td>627.90</td>\n",
       "    </tr>\n",
       "  </tbody>\n",
       "</table>\n",
       "<p>44226 rows × 12 columns</p>\n",
       "</div>"
      ],
      "text/plain": [
       "            ID collect_datetime  height  weight  step count  eat calorie  \\\n",
       "0      #ACGRQP       2022-07-14  136.02   28.10      219.00      1939.05   \n",
       "1      #ACGRQP       2022-07-15  136.02   28.10      219.00      1850.40   \n",
       "2      #ACGRQP       2022-07-16  136.02   28.10      219.00      1922.40   \n",
       "3      #ACGRQP       2022-07-17  136.02   28.10      219.00      1994.40   \n",
       "4      #ACGRQP       2022-07-18  136.02   28.10      219.00      2066.40   \n",
       "...        ...              ...     ...     ...         ...          ...   \n",
       "44221  #ZWOHRX       2023-01-07  156.90   47.50    20000.00      1056.00   \n",
       "44222  #ZWOHRX       2023-01-08  156.90   47.50    20000.00      1056.00   \n",
       "44223  #ZWOHRX       2023-01-09  156.90   47.50    20000.00      1056.00   \n",
       "44224  #ZWOHRX       2023-01-10  156.90   47.50    20000.00      1056.00   \n",
       "44225  #ZWOHRX       2023-01-11  156.90   47.50    20000.00      1056.00   \n",
       "\n",
       "       burned calorie  sleep time gender grade       급식일자  칼로리정보  \n",
       "0               41.60      462.00      2     4 2022-07-14 430.90  \n",
       "1               41.60      462.00      2     4 2022-07-15 411.20  \n",
       "2               41.60      462.00      2     4        NaT 427.20  \n",
       "3               41.60      462.00      2     4        NaT 443.20  \n",
       "4               41.60      462.00      2     4 2022-07-18 459.20  \n",
       "...               ...         ...    ...   ...        ...    ...  \n",
       "44221           33.91      459.60      2     6        NaT 627.90  \n",
       "44222           33.91      459.60      2     6        NaT 627.90  \n",
       "44223           33.91      459.60      2     6        NaT 627.90  \n",
       "44224           33.91      459.60      2     6        NaT 627.90  \n",
       "44225           33.91      459.60      2     6        NaT 627.90  \n",
       "\n",
       "[44226 rows x 12 columns]"
      ]
     },
     "execution_count": 64,
     "metadata": {},
     "output_type": "execute_result"
    }
   ],
   "source": [
    "df_total3"
   ]
  },
  {
   "cell_type": "markdown",
   "metadata": {},
   "source": [
    "## 최종데이터세트 정리"
   ]
  },
  {
   "cell_type": "code",
   "execution_count": 65,
   "metadata": {},
   "outputs": [],
   "source": [
    "df_final=df_total3[['ID','collect_datetime','gender','grade','height','weight','step count','burned calorie','eat calorie','sleep time']]"
   ]
  },
  {
   "cell_type": "code",
   "execution_count": 66,
   "metadata": {},
   "outputs": [
    {
     "data": {
      "text/html": [
       "<div>\n",
       "<style scoped>\n",
       "    .dataframe tbody tr th:only-of-type {\n",
       "        vertical-align: middle;\n",
       "    }\n",
       "\n",
       "    .dataframe tbody tr th {\n",
       "        vertical-align: top;\n",
       "    }\n",
       "\n",
       "    .dataframe thead th {\n",
       "        text-align: right;\n",
       "    }\n",
       "</style>\n",
       "<table border=\"1\" class=\"dataframe\">\n",
       "  <thead>\n",
       "    <tr style=\"text-align: right;\">\n",
       "      <th></th>\n",
       "      <th>ID</th>\n",
       "      <th>collect_datetime</th>\n",
       "      <th>gender</th>\n",
       "      <th>grade</th>\n",
       "      <th>height</th>\n",
       "      <th>weight</th>\n",
       "      <th>step count</th>\n",
       "      <th>burned calorie</th>\n",
       "      <th>eat calorie</th>\n",
       "      <th>sleep time</th>\n",
       "    </tr>\n",
       "  </thead>\n",
       "  <tbody>\n",
       "    <tr>\n",
       "      <th>0</th>\n",
       "      <td>#ACGRQP</td>\n",
       "      <td>2022-07-14</td>\n",
       "      <td>2</td>\n",
       "      <td>4</td>\n",
       "      <td>136.02</td>\n",
       "      <td>28.10</td>\n",
       "      <td>219.00</td>\n",
       "      <td>41.60</td>\n",
       "      <td>1939.05</td>\n",
       "      <td>462.00</td>\n",
       "    </tr>\n",
       "    <tr>\n",
       "      <th>1</th>\n",
       "      <td>#ACGRQP</td>\n",
       "      <td>2022-07-15</td>\n",
       "      <td>2</td>\n",
       "      <td>4</td>\n",
       "      <td>136.02</td>\n",
       "      <td>28.10</td>\n",
       "      <td>219.00</td>\n",
       "      <td>41.60</td>\n",
       "      <td>1850.40</td>\n",
       "      <td>462.00</td>\n",
       "    </tr>\n",
       "    <tr>\n",
       "      <th>2</th>\n",
       "      <td>#ACGRQP</td>\n",
       "      <td>2022-07-16</td>\n",
       "      <td>2</td>\n",
       "      <td>4</td>\n",
       "      <td>136.02</td>\n",
       "      <td>28.10</td>\n",
       "      <td>219.00</td>\n",
       "      <td>41.60</td>\n",
       "      <td>1922.40</td>\n",
       "      <td>462.00</td>\n",
       "    </tr>\n",
       "    <tr>\n",
       "      <th>3</th>\n",
       "      <td>#ACGRQP</td>\n",
       "      <td>2022-07-17</td>\n",
       "      <td>2</td>\n",
       "      <td>4</td>\n",
       "      <td>136.02</td>\n",
       "      <td>28.10</td>\n",
       "      <td>219.00</td>\n",
       "      <td>41.60</td>\n",
       "      <td>1994.40</td>\n",
       "      <td>462.00</td>\n",
       "    </tr>\n",
       "    <tr>\n",
       "      <th>4</th>\n",
       "      <td>#ACGRQP</td>\n",
       "      <td>2022-07-18</td>\n",
       "      <td>2</td>\n",
       "      <td>4</td>\n",
       "      <td>136.02</td>\n",
       "      <td>28.10</td>\n",
       "      <td>219.00</td>\n",
       "      <td>41.60</td>\n",
       "      <td>2066.40</td>\n",
       "      <td>462.00</td>\n",
       "    </tr>\n",
       "  </tbody>\n",
       "</table>\n",
       "</div>"
      ],
      "text/plain": [
       "        ID collect_datetime gender grade  height  weight  step count  \\\n",
       "0  #ACGRQP       2022-07-14      2     4  136.02   28.10      219.00   \n",
       "1  #ACGRQP       2022-07-15      2     4  136.02   28.10      219.00   \n",
       "2  #ACGRQP       2022-07-16      2     4  136.02   28.10      219.00   \n",
       "3  #ACGRQP       2022-07-17      2     4  136.02   28.10      219.00   \n",
       "4  #ACGRQP       2022-07-18      2     4  136.02   28.10      219.00   \n",
       "\n",
       "   burned calorie  eat calorie  sleep time  \n",
       "0           41.60      1939.05      462.00  \n",
       "1           41.60      1850.40      462.00  \n",
       "2           41.60      1922.40      462.00  \n",
       "3           41.60      1994.40      462.00  \n",
       "4           41.60      2066.40      462.00  "
      ]
     },
     "execution_count": 66,
     "metadata": {},
     "output_type": "execute_result"
    }
   ],
   "source": [
    "df_final.head()"
   ]
  },
  {
   "cell_type": "code",
   "execution_count": 67,
   "metadata": {},
   "outputs": [
    {
     "name": "stderr",
     "output_type": "stream",
     "text": [
      "c:\\Users\\jaemin\\anaconda3\\envs\\jm_main\\lib\\site-packages\\numpy\\lib\\nanfunctions.py:1215: RuntimeWarning: Mean of empty slice\n",
      "  return np.nanmean(a, axis, out=out, keepdims=keepdims)\n",
      "c:\\Users\\jaemin\\anaconda3\\envs\\jm_main\\lib\\site-packages\\numpy\\lib\\nanfunctions.py:1215: RuntimeWarning: Mean of empty slice\n",
      "  return np.nanmean(a, axis, out=out, keepdims=keepdims)\n",
      "C:\\Users\\jaemin\\AppData\\Local\\Temp\\ipykernel_31324\\2103783608.py:9: SettingWithCopyWarning: \n",
      "A value is trying to be set on a copy of a slice from a DataFrame.\n",
      "Try using .loc[row_indexer,col_indexer] = value instead\n",
      "\n",
      "See the caveats in the documentation: https://pandas.pydata.org/pandas-docs/stable/user_guide/indexing.html#returning-a-view-versus-a-copy\n",
      "  df_final['gender'] = df_final['gender'].fillna(gender)\n",
      "C:\\Users\\jaemin\\AppData\\Local\\Temp\\ipykernel_31324\\2103783608.py:10: SettingWithCopyWarning: \n",
      "A value is trying to be set on a copy of a slice from a DataFrame.\n",
      "Try using .loc[row_indexer,col_indexer] = value instead\n",
      "\n",
      "See the caveats in the documentation: https://pandas.pydata.org/pandas-docs/stable/user_guide/indexing.html#returning-a-view-versus-a-copy\n",
      "  df_final['grade'] = df_final['grade'].fillna(grade)\n"
     ]
    }
   ],
   "source": [
    "df_final.isnull().sum()\n",
    "\n",
    "# ID별 sleep time 중앙값 계산\n",
    "gender = df_final.groupby('ID')['gender'].transform('median')\n",
    "grade = df_final.groupby('ID')['grade'].transform('median')\n",
    "\n",
    "\n",
    "# 결측치를 ID별 중앙값으로 채우기\n",
    "df_final['gender'] = df_final['gender'].fillna(gender)\n",
    "df_final['grade'] = df_final['grade'].fillna(grade)"
   ]
  },
  {
   "cell_type": "code",
   "execution_count": 68,
   "metadata": {},
   "outputs": [
    {
     "data": {
      "text/plain": [
       "ID                    0\n",
       "collect_datetime      0\n",
       "gender              182\n",
       "grade               182\n",
       "height                0\n",
       "weight                0\n",
       "step count            0\n",
       "burned calorie        0\n",
       "eat calorie           0\n",
       "sleep time            0\n",
       "dtype: int64"
      ]
     },
     "execution_count": 68,
     "metadata": {},
     "output_type": "execute_result"
    }
   ],
   "source": [
    "df_final.isnull().sum()"
   ]
  },
  {
   "cell_type": "code",
   "execution_count": 69,
   "metadata": {},
   "outputs": [],
   "source": [
    "df_final=df_final.dropna().reset_index(drop=True)"
   ]
  },
  {
   "cell_type": "code",
   "execution_count": 70,
   "metadata": {},
   "outputs": [],
   "source": [
    "df_final.to_csv(path+'\\\\data\\\\5.서울초_df_final.csv',encoding='cp949',index=False)"
   ]
  },
  {
   "cell_type": "code",
   "execution_count": 71,
   "metadata": {},
   "outputs": [
    {
     "data": {
      "text/plain": [
       "count   182.00\n",
       "mean     32.09\n",
       "std       8.67\n",
       "min      28.10\n",
       "25%      29.80\n",
       "50%      30.00\n",
       "75%      30.00\n",
       "max      66.97\n",
       "Name: weight, dtype: float64"
      ]
     },
     "execution_count": 71,
     "metadata": {},
     "output_type": "execute_result"
    }
   ],
   "source": [
    "df_final[df_final['ID']=='#ACGRQP']['weight'].describe()"
   ]
  },
  {
   "cell_type": "code",
   "execution_count": 83,
   "metadata": {},
   "outputs": [],
   "source": [
    "df_new=filtered_df[filtered_df['ID'].isin(df_final['ID'].unique())].reset_index(drop=True)"
   ]
  },
  {
   "cell_type": "code",
   "execution_count": 79,
   "metadata": {},
   "outputs": [
    {
     "data": {
      "text/plain": [
       "ID                 0.00\n",
       "collect_datetime   0.00\n",
       "height             0.70\n",
       "weight             0.70\n",
       "step count         0.59\n",
       "eat calorie        0.63\n",
       "burned calorie     0.71\n",
       "sleep time         0.63\n",
       "gender             0.00\n",
       "grade              0.00\n",
       "dtype: float64"
      ]
     },
     "execution_count": 79,
     "metadata": {},
     "output_type": "execute_result"
    }
   ],
   "source": [
    "filtered_df[filtered_df['ID'].isin(df_final['ID'].unique())].isnull().sum()/len(filtered_df)"
   ]
  },
  {
   "cell_type": "code",
   "execution_count": 93,
   "metadata": {},
   "outputs": [
    {
     "data": {
      "image/png": "[encoded data removed]",
      "text/plain": [
       "<Figure size 800x500 with 1 Axes>"
      ]
     },
     "metadata": {},
     "output_type": "display_data"
    }
   ],
   "source": [
    "import matplotlib.pyplot as plt\n",
    "\n",
    "# 데이터 설정\n",
    "labels = ['Height', 'Weight', 'Step Count', 'Calorie intake', 'Burned Calorie', 'Sleep Time']\n",
    "values = [0.70, 0.70, 0.59, 0.63, 0.71, 0.63]\n",
    "colors = ['#9467bd', '#8c564b', '#d2b48c', '#2ca02c', '#d4a017', '#d62728']  # 이미지에 맞춘 색상\n",
    "\n",
    "# 막대 그래프 수정\n",
    "plt.figure(figsize=(8, 5))\n",
    "bars = plt.bar(labels, values, color=colors)\n",
    "plt.ylim(0, 1)\n",
    "plt.ylabel('Missing Rate', fontname='Times New Roman', fontsize=12)\n",
    "plt.xticks(fontname='Times New Roman', fontsize=12, rotation=45)\n",
    "plt.yticks(fontname='Times New Roman', fontsize=12)\n",
    "plt.tight_layout()\n",
    "plt.show()\n"
   ]
  },
  {
   "cell_type": "code",
   "execution_count": 87,
   "metadata": {},
   "outputs": [
    {
     "data": {
      "text/plain": [
       "0        #ACGRQP\n",
       "1        #ACGRQP\n",
       "2        #ACGRQP\n",
       "3        #ACGRQP\n",
       "4        #ACGRQP\n",
       "          ...   \n",
       "44039    #ZWOHRX\n",
       "44040    #ZWOHRX\n",
       "44041    #ZWOHRX\n",
       "44042    #ZWOHRX\n",
       "44043    #ZWOHRX\n",
       "Name: ID, Length: 44044, dtype: object"
      ]
     },
     "execution_count": 87,
     "metadata": {},
     "output_type": "execute_result"
    }
   ],
   "source": [
    "df_new['ID']"
   ]
  },
  {
   "cell_type": "code",
   "execution_count": null,
   "metadata": {},
   "outputs": [],
   "source": [
    "df_final"
   ]
  }
 ],
 "metadata": {
  "kernelspec": {
   "display_name": "jm_main",
   "language": "python",
   "name": "python3"
  },
  "language_info": {
   "codemirror_mode": {
    "name": "ipython",
    "version": 3
   },
   "file_extension": ".py",
   "mimetype": "text/x-python",
   "name": "python",
   "nbconvert_exporter": "python",
   "pygments_lexer": "ipython3",
   "version": "3.8.20"
  }
 },
 "nbformat": 4,
 "nbformat_minor": 2
}
