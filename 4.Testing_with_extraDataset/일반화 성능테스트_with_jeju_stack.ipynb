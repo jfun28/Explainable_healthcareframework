{
 "cells": [
  {
   "cell_type": "markdown",
   "metadata": {},
   "source": [
    "# 외부데이터세트로 일반화 성능테스트"
   ]
  },
  {
   "cell_type": "markdown",
   "metadata": {},
   "source": [
    "학습에 전혀 사용하지 않은 모집단을 제주 B초등학교에서 추가로 수집하여  \n",
    "서울 A초등학교로 학습한 모델이 이 외부데이터 세트인 B초등학교에서도 성능이 잘 나오는지 테스트하였다."
   ]
  },
  {
   "cell_type": "code",
   "execution_count": 1,
   "metadata": {},
   "outputs": [],
   "source": [
    "import matplotlib.pyplot as plt\n",
    "import numpy as np\n",
    "import pandas as pd\n",
    "from sklearn.preprocessing import StandardScaler\n",
    "import sklearn.model_selection as ms\n",
    "from sklearn.pipeline import Pipeline\n",
    "from sklearn.metrics import f1_score ## F1 Score 구하기\n",
    "from sklearn.metrics import precision_recall_fscore_support as sk\n",
    "import pandas as pd \n",
    "import os"
   ]
  },
  {
   "cell_type": "code",
   "execution_count": 2,
   "metadata": {},
   "outputs": [],
   "source": [
    "os.chdir(\"..\")\n",
    "path=os.getcwd()"
   ]
  },
  {
   "cell_type": "code",
   "execution_count": 3,
   "metadata": {},
   "outputs": [
    {
     "data": {
      "text/plain": [
       "'c:\\\\jupyter\\\\Explainable Healthcare framework\\\\Explainable_healthcareframework'"
      ]
     },
     "execution_count": 3,
     "metadata": {},
     "output_type": "execute_result"
    }
   ],
   "source": [
    "path"
   ]
  },
  {
   "cell_type": "markdown",
   "metadata": {},
   "source": [
    "## 제주 B초등학교 테스트 데이터셋 불러오기"
   ]
  },
  {
   "cell_type": "code",
   "execution_count": 4,
   "metadata": {},
   "outputs": [],
   "source": [
    "jeju_data=pd.read_csv(path+\"\\\\data\\\\5.제주초_df_final.csv\",encoding=\"cp949\")"
   ]
  },
  {
   "cell_type": "markdown",
   "metadata": {},
   "source": [
    "## ID 라벨 인코딩"
   ]
  },
  {
   "cell_type": "code",
   "execution_count": 5,
   "metadata": {},
   "outputs": [],
   "source": [
    "from Datapreprocessing.id_labelencoding import LabelEncoderWrapper \n",
    "\n",
    "df_encoder = LabelEncoderWrapper(jeju_data, 'ID')\n",
    "df_encoder.fit()\n",
    "df_encoder.transform()"
   ]
  },
  {
   "cell_type": "markdown",
   "metadata": {},
   "source": [
    "## m day n term"
   ]
  },
  {
   "cell_type": "markdown",
   "metadata": {},
   "source": [
    "일별 데이터를 다루기 때문에 처음에 접근한 방법으로는 몸무게의 변동이 거의 없을 수 밖에 없었다.   \n",
    "그래서 14일치 묶음으로 1일 윈도우로 이동하면서 몸무게 변동의 유의미한 차이를 만들기 위한 데이터세트를 구축하였다.  \n",
    "따라서 한 로우에 14일치 평균 그리고 다음 로우는 그 다음날부터 14일치 평균값이다. "
   ]
  },
  {
   "cell_type": "code",
   "execution_count": 6,
   "metadata": {},
   "outputs": [],
   "source": [
    "from Datapreprocessing.M_day_N_term import RollingAveragesCalculator\n",
    "M_day=14\n",
    "n_term=1\n",
    "columns_to_average = [\"ID\",'height', 'weight', 'step count', 'burned calorie', 'eat calorie', 'sleep time']\n",
    "calculator = RollingAveragesCalculator(jeju_data)\n",
    "result_df = calculator.calculate_averages(columns_to_average, M_day, n_term)"
   ]
  },
  {
   "cell_type": "code",
   "execution_count": 7,
   "metadata": {},
   "outputs": [
    {
     "name": "stdout",
     "output_type": "stream",
     "text": [
      "14day_1term\n"
     ]
    }
   ],
   "source": [
    "name='{}day_{}term'.format(M_day,n_term)\n",
    "print(name)"
   ]
  },
  {
   "cell_type": "markdown",
   "metadata": {},
   "source": [
    "## 라벨링"
   ]
  },
  {
   "cell_type": "markdown",
   "metadata": {},
   "source": [
    "라벨링은 임계값 몸무게 변동 차이 100g을 기준으로 이전 평균 몸무게 보다 증가하면 3, 유지면 2, 감소면 1로 라벨링하였다.    "
   ]
  },
  {
   "cell_type": "code",
   "execution_count": 8,
   "metadata": {},
   "outputs": [
    {
     "name": "stdout",
     "output_type": "stream",
     "text": [
      "      ID  height     weight   step count  burned calorie  eat calorie  \\\n",
      "0      0   143.0  33.392857  7001.748813       52.983568  3082.788763   \n",
      "1      0   143.0  33.428571  7179.177385       50.842598  2967.285192   \n",
      "2      0   143.0  33.464286  7048.891670       48.194152  2946.285192   \n",
      "3      0   143.0  33.492857  6741.605956       48.930571  3092.367841   \n",
      "4      0   143.0  33.521429  6598.748813       47.395000  3331.906238   \n",
      "...   ..     ...        ...          ...             ...          ...   \n",
      "3263  75   150.4  44.564286   686.285714       58.310000  2613.357143   \n",
      "3264  75   150.4  44.621429   704.857143       58.310000  2754.357143   \n",
      "3265  75   150.4  44.678571   722.976190       58.310000  2854.892857   \n",
      "3266  75   150.4  44.735714   740.642857       58.310000  2914.964286   \n",
      "3267  75   150.4  44.792857   757.857143       58.310000  2934.571429   \n",
      "\n",
      "      sleep time  Start_Day Label  \n",
      "0     437.964286          0     2  \n",
      "1     441.178571          1     2  \n",
      "2     447.178571          2     2  \n",
      "3     452.035714          3     2  \n",
      "4     455.607143          4     2  \n",
      "...          ...        ...   ...  \n",
      "3263  296.571429         38     2  \n",
      "3264  306.857143         39     2  \n",
      "3265  316.363636         40     2  \n",
      "3266  325.090909         41     2  \n",
      "3267  333.038961         42     2  \n",
      "\n",
      "[3268 rows x 9 columns]\n"
     ]
    }
   ],
   "source": [
    "from Datapreprocessing.labeling import WeightChangeLabeler\n",
    "\n",
    "Threshhold=0.1 # 몸무게가 얼마나 차이나야 변했다고 정할 것 인지 정하는 임계값\n",
    "labeler = WeightChangeLabeler(result_df, Threshhold)\n",
    "labeled_df = labeler.label_weight_changes()\n",
    "print(labeled_df)"
   ]
  },
  {
   "cell_type": "code",
   "execution_count": 9,
   "metadata": {},
   "outputs": [],
   "source": [
    "labeled_df['Label']=labeled_df['Label'].astype(int)"
   ]
  },
  {
   "cell_type": "code",
   "execution_count": 10,
   "metadata": {},
   "outputs": [
    {
     "data": {
      "text/plain": [
       "Label\n",
       "2    2859\n",
       "3     266\n",
       "1     143\n",
       "Name: count, dtype: int64"
      ]
     },
     "execution_count": 10,
     "metadata": {},
     "output_type": "execute_result"
    }
   ],
   "source": [
    "labeled_df['Label'].value_counts()"
   ]
  },
  {
   "cell_type": "markdown",
   "metadata": {},
   "source": [
    "###  데이터 세트 로드"
   ]
  },
  {
   "cell_type": "code",
   "execution_count": 11,
   "metadata": {},
   "outputs": [],
   "source": [
    "data=labeled_df.iloc[:,[1,2,3,4,5,6,-1]]\n",
    "train=data.iloc[:,:-1]\n",
    "train_targets=data.iloc[:,-1]"
   ]
  },
  {
   "cell_type": "markdown",
   "metadata": {},
   "source": [
    "### 데이터 세트 셋업"
   ]
  },
  {
   "cell_type": "code",
   "execution_count": 12,
   "metadata": {},
   "outputs": [],
   "source": [
    "X_test=train.to_numpy()\n",
    "y_test=train_targets-1"
   ]
  },
  {
   "cell_type": "code",
   "execution_count": 13,
   "metadata": {},
   "outputs": [],
   "source": [
    "test_np = X_test\n",
    "\n",
    "test_targets_np=y_test.astype(int)"
   ]
  },
  {
   "cell_type": "markdown",
   "metadata": {},
   "source": [
    "### 생성 method 리스트"
   ]
  },
  {
   "cell_type": "code",
   "execution_count": 14,
   "metadata": {},
   "outputs": [],
   "source": [
    "Generation_list = ['smote','adasyn','copulagan','ctgan','nbsynthetic']"
   ]
  },
  {
   "cell_type": "markdown",
   "metadata": {},
   "source": [
    "## 모델 불러오기"
   ]
  },
  {
   "cell_type": "markdown",
   "metadata": {},
   "source": [
    "### 제안한 모델"
   ]
  },
  {
   "cell_type": "code",
   "execution_count": 15,
   "metadata": {},
   "outputs": [],
   "source": [
    "import os"
   ]
  },
  {
   "cell_type": "code",
   "execution_count": 16,
   "metadata": {},
   "outputs": [
    {
     "name": "stdout",
     "output_type": "stream",
     "text": [
      "노트북 경로: c:\\jupyter\\Explainable Healthcare framework\\Explainable_healthcareframework\n"
     ]
    }
   ],
   "source": [
    "notebook_path = os.path.abspath('.')\n",
    "print(\"노트북 경로:\", notebook_path)"
   ]
  },
  {
   "cell_type": "code",
   "execution_count": 17,
   "metadata": {},
   "outputs": [
    {
     "name": "stdout",
     "output_type": "stream",
     "text": [
      "외부 테스트 데이터 크기: (3268, 6), 타겟 크기: (3268,)\n",
      "타겟 클래스 분포: (array([0, 1, 2]), array([ 143, 2859,  266], dtype=int64))\n",
      "\n",
      "smote 모델로 외부 데이터 평가 중...\n",
      "TabNet 모델 로드 성공: c:\\jupyter\\Explainable Healthcare framework\\Explainable_healthcareframework\\3_1.Training_XAI_Proposed\\model_hist\\smote_proposed_tabnetEmbedd2.pickle\n",
      "XGBoost 모델 로드 성공: c:\\jupyter\\Explainable Healthcare framework\\Explainable_healthcareframework\\3_1.Training_XAI_Proposed\\model_hist\\smote_proposed.pickle\n",
      "원본 특성 shape: (3268, 6)\n",
      "샘플별 마스크 평균 shape: (3268, 6)\n",
      "TabNet 특성 증강 완료: (3268, 6)\n",
      "Unique values in prediction: [0 1 2]\n",
      "\n",
      "adasyn 모델로 외부 데이터 평가 중...\n",
      "TabNet 모델 로드 성공: c:\\jupyter\\Explainable Healthcare framework\\Explainable_healthcareframework\\3_1.Training_XAI_Proposed\\model_hist\\adasyn_proposed_tabnetEmbedd2.pickle\n",
      "XGBoost 모델 로드 성공: c:\\jupyter\\Explainable Healthcare framework\\Explainable_healthcareframework\\3_1.Training_XAI_Proposed\\model_hist\\adasyn_proposed.pickle\n",
      "원본 특성 shape: (3268, 6)\n",
      "샘플별 마스크 평균 shape: (3268, 6)\n",
      "TabNet 특성 증강 완료: (3268, 6)\n",
      "Unique values in prediction: [0 1 2]\n",
      "\n",
      "copulagan 모델로 외부 데이터 평가 중...\n",
      "TabNet 모델 로드 성공: c:\\jupyter\\Explainable Healthcare framework\\Explainable_healthcareframework\\3_1.Training_XAI_Proposed\\model_hist\\copulagan_proposed_tabnetEmbedd2.pickle\n",
      "XGBoost 모델 로드 성공: c:\\jupyter\\Explainable Healthcare framework\\Explainable_healthcareframework\\3_1.Training_XAI_Proposed\\model_hist\\copulagan_proposed.pickle\n",
      "원본 특성 shape: (3268, 6)\n",
      "샘플별 마스크 평균 shape: (3268, 6)\n",
      "TabNet 특성 증강 완료: (3268, 6)\n",
      "Unique values in prediction: [0 1 2]\n",
      "\n",
      "ctgan 모델로 외부 데이터 평가 중...\n",
      "TabNet 모델 로드 성공: c:\\jupyter\\Explainable Healthcare framework\\Explainable_healthcareframework\\3_1.Training_XAI_Proposed\\model_hist\\ctgan_proposed_tabnetEmbedd2.pickle\n",
      "XGBoost 모델 로드 성공: c:\\jupyter\\Explainable Healthcare framework\\Explainable_healthcareframework\\3_1.Training_XAI_Proposed\\model_hist\\ctgan_proposed.pickle\n",
      "원본 특성 shape: (3268, 6)\n",
      "샘플별 마스크 평균 shape: (3268, 6)\n",
      "TabNet 특성 증강 완료: (3268, 6)\n",
      "Unique values in prediction: [0 1 2]\n",
      "\n",
      "nbsynthetic 모델로 외부 데이터 평가 중...\n",
      "TabNet 모델 로드 성공: c:\\jupyter\\Explainable Healthcare framework\\Explainable_healthcareframework\\3_1.Training_XAI_Proposed\\model_hist\\nbsynthetic_proposed_tabnetEmbedd2.pickle\n",
      "XGBoost 모델 로드 성공: c:\\jupyter\\Explainable Healthcare framework\\Explainable_healthcareframework\\3_1.Training_XAI_Proposed\\model_hist\\nbsynthetic_proposed.pickle\n",
      "원본 특성 shape: (3268, 6)\n",
      "샘플별 마스크 평균 shape: (3268, 6)\n",
      "TabNet 특성 증강 완료: (3268, 6)\n",
      "Unique values in prediction: [0 1 2]\n",
      "\n",
      "외부 데이터셋에 대한 모델 성능 요약:\n",
      "                           Model  Accuracy  F1score  Precision   Recall\n",
      "0        smote-proposed_external   0.74633  0.75797    0.77053  0.74633\n",
      "1       adasyn-proposed_external   0.74939  0.75929    0.76972  0.74939\n",
      "2    copulagan-proposed_external   0.49051  0.58617    0.77069  0.49051\n",
      "3        ctgan-proposed_external   0.34517  0.44836    0.77409  0.34517\n",
      "4  nbsynthetic-proposed_external   0.84394  0.80496    0.77434  0.84394\n",
      "결과가 c:\\jupyter\\Explainable Healthcare framework\\Explainable_healthcareframework\\3_1.Training_XAI_Proposed\\external_test_results.csv에 저장되었습니다.\n"
     ]
    }
   ],
   "source": [
    "import pandas as pd\n",
    "import pickle\n",
    "import numpy as np\n",
    "import torch\n",
    "from torch.utils.data import TensorDataset, DataLoader\n",
    "from sklearn.preprocessing import StandardScaler\n",
    "from sklearn.metrics import accuracy_score, f1_score, precision_recall_fscore_support as sk\n",
    "from encoding_tabnet import train_tabnet_classifier, create_augmented_features2,create_augmented_features\n",
    "import os\n",
    "\n",
    "# 현재 디렉토리 및 프로젝트 루트 디렉토리 경로 설정\n",
    "# current_dir = os.path.dirname(os.path.abspath(__file__))\n",
    "# path = os.path.dirname(current_dir)\n",
    "\n",
    "def evaluate_generalization():\n",
    "    \"\"\"모델의 일반화 성능을 외부 데이터셋으로 평가하는 함수\"\"\"\n",
    "    # 빈 리스트 생성하여 결과 저장\n",
    "    results = []\n",
    "    \n",
    "    # 평가할 생성 모델 리스트\n",
    "    Generation_list = ['smote', 'adasyn', 'copulagan', 'ctgan', 'nbsynthetic']\n",
    "    \n",
    "    # 외부 테스트 데이터 로드\n",
    "    print(f\"외부 테스트 데이터 크기: {test_np.shape}, 타겟 크기: {test_targets_np.shape}\")\n",
    "    print(f\"타겟 클래스 분포: {np.unique(test_targets_np, return_counts=True)}\")\n",
    "    \n",
    "    for generation in Generation_list:\n",
    "        print(f\"\\n{generation} 모델로 외부 데이터 평가 중...\")\n",
    "        \n",
    "        try:\n",
    "            # TabNet 모델 로드\n",
    "            tabnet_path = path + f'\\\\3_1.Training_XAI_Proposed\\\\model_hist\\\\{generation}_proposed_tabnetEmbedd2.pickle'\n",
    "            with open(tabnet_path, 'rb') as f:\n",
    "                tabnet_model = pickle.load(f)\n",
    "            print(f\"TabNet 모델 로드 성공: {tabnet_path}\")\n",
    "            \n",
    "            # XGBoost 모델 로드\n",
    "            xgb_path = path + f'\\\\3_1.Training_XAI_Proposed\\\\model_hist\\\\{generation}_proposed.pickle'\n",
    "            with open(xgb_path, 'rb') as f:\n",
    "                xgb_model = pickle.load(f)\n",
    "            print(f\"XGBoost 모델 로드 성공: {xgb_path}\")\n",
    "            \n",
    "            # TabNet 임베딩 추출 및 특성 증강\n",
    "            test_features = create_augmented_features(tabnet_model, test_np)\n",
    "            print(f\"TabNet 특성 증강 완료: {test_features.shape}\")\n",
    "            \n",
    "            # TabNet으로 확률 예측\n",
    "            tabnet_probs = tabnet_model.predict_proba(test_np)\n",
    "            \n",
    "            # XGBoost로 확률 예측\n",
    "            xgb_probs = xgb_model.predict_proba(test_features)\n",
    "\n",
    "\n",
    "            # # 확률 합산 (앙상블)\n",
    "            combined_probs = (tabnet_probs + xgb_probs)\n",
    "            \n",
    "            # # 가장 높은 확률을 가진 클래스 선택\n",
    "            ensemble_pred = np.argmax(combined_probs, axis=1)\n",
    "\n",
    "            # 예측값 확인\n",
    "            unique_values = np.array(list(set(ensemble_pred)))\n",
    "            print(f\"Unique values in prediction: {unique_values}\")\n",
    "            \n",
    "            # 메트릭 계산\n",
    "            accuracy = accuracy_score(test_targets_np, ensemble_pred)\n",
    "            f1 = f1_score(test_targets_np, ensemble_pred, average='weighted')\n",
    "            precision, recall = sk(test_targets_np, ensemble_pred, beta=1, average='weighted')[:2]\n",
    "            \n",
    "            results.append({\n",
    "                'Model': f\"{generation}-proposed_external\",\n",
    "                'Accuracy': round(accuracy, 5),\n",
    "                'F1score': round(f1, 5), \n",
    "                'Precision': round(precision, 5),\n",
    "                'Recall': round(recall, 5)\n",
    "            })\n",
    "            \n",
    "        except Exception as e:\n",
    "            print(f\"{generation} 모델 평가 중 오류 발생: {str(e)}\")\n",
    "    \n",
    "    # 결과를 데이터프레임으로 변환\n",
    "    df_results = pd.DataFrame(results)\n",
    "    print(\"\\n외부 데이터셋에 대한 모델 성능 요약:\")\n",
    "    print(df_results)\n",
    "    \n",
    "    # 결과 저장\n",
    "    output_path = path + '\\\\3_1.Training_XAI_Proposed\\\\external_test_results.csv'\n",
    "    df_results.to_csv(output_path, index=False)\n",
    "    print(f\"결과가 {output_path}에 저장되었습니다.\")\n",
    "    \n",
    "    return df_results,ensemble_pred\n",
    "\n",
    "if __name__ == \"__main__\":\n",
    "    df_results,ensemble_pred=evaluate_generalization()"
   ]
  },
  {
   "cell_type": "code",
   "execution_count": 18,
   "metadata": {},
   "outputs": [
    {
     "data": {
      "image/png": "[encoded data removed]",
      "text/plain": [
       "<Figure size 640x480 with 2 Axes>"
      ]
     },
     "metadata": {},
     "output_type": "display_data"
    }
   ],
   "source": [
    "from sklearn.metrics import confusion_matrix, ConfusionMatrixDisplay\n",
    "import matplotlib.pyplot as plt\n",
    "\n",
    "# Confusion matrix 계산\n",
    "cm = confusion_matrix(test_targets_np, ensemble_pred)\n",
    "\n",
    "# Confusion matrix 시각화\n",
    "disp = ConfusionMatrixDisplay(confusion_matrix=cm)\n",
    "disp.plot(cmap=plt.cm.Blues)\n",
    "plt.title(\"Confusion Matrix\")\n",
    "plt.show()\n"
   ]
  },
  {
   "cell_type": "code",
   "execution_count": 19,
   "metadata": {},
   "outputs": [],
   "source": [
    "accuracy = accuracy_score(test_targets_np, ensemble_pred)"
   ]
  },
  {
   "cell_type": "code",
   "execution_count": 20,
   "metadata": {},
   "outputs": [],
   "source": [
    "# 데이터프레임을 CSV 파일로 저장 (선택사항)\n",
    "df_results.to_csv('proposed_model_metrics_externaltest.csv')"
   ]
  },
  {
   "cell_type": "code",
   "execution_count": 21,
   "metadata": {},
   "outputs": [
    {
     "data": {
      "text/html": [
       "<div>\n",
       "<style scoped>\n",
       "    .dataframe tbody tr th:only-of-type {\n",
       "        vertical-align: middle;\n",
       "    }\n",
       "\n",
       "    .dataframe tbody tr th {\n",
       "        vertical-align: top;\n",
       "    }\n",
       "\n",
       "    .dataframe thead th {\n",
       "        text-align: right;\n",
       "    }\n",
       "</style>\n",
       "<table border=\"1\" class=\"dataframe\">\n",
       "  <thead>\n",
       "    <tr style=\"text-align: right;\">\n",
       "      <th></th>\n",
       "      <th>Model</th>\n",
       "      <th>Accuracy</th>\n",
       "      <th>F1score</th>\n",
       "      <th>Precision</th>\n",
       "      <th>Recall</th>\n",
       "    </tr>\n",
       "  </thead>\n",
       "  <tbody>\n",
       "    <tr>\n",
       "      <th>0</th>\n",
       "      <td>smote-proposed_external</td>\n",
       "      <td>0.74633</td>\n",
       "      <td>0.75797</td>\n",
       "      <td>0.77053</td>\n",
       "      <td>0.74633</td>\n",
       "    </tr>\n",
       "    <tr>\n",
       "      <th>1</th>\n",
       "      <td>adasyn-proposed_external</td>\n",
       "      <td>0.74939</td>\n",
       "      <td>0.75929</td>\n",
       "      <td>0.76972</td>\n",
       "      <td>0.74939</td>\n",
       "    </tr>\n",
       "    <tr>\n",
       "      <th>2</th>\n",
       "      <td>copulagan-proposed_external</td>\n",
       "      <td>0.49051</td>\n",
       "      <td>0.58617</td>\n",
       "      <td>0.77069</td>\n",
       "      <td>0.49051</td>\n",
       "    </tr>\n",
       "    <tr>\n",
       "      <th>3</th>\n",
       "      <td>ctgan-proposed_external</td>\n",
       "      <td>0.34517</td>\n",
       "      <td>0.44836</td>\n",
       "      <td>0.77409</td>\n",
       "      <td>0.34517</td>\n",
       "    </tr>\n",
       "    <tr>\n",
       "      <th>4</th>\n",
       "      <td>nbsynthetic-proposed_external</td>\n",
       "      <td>0.84394</td>\n",
       "      <td>0.80496</td>\n",
       "      <td>0.77434</td>\n",
       "      <td>0.84394</td>\n",
       "    </tr>\n",
       "  </tbody>\n",
       "</table>\n",
       "</div>"
      ],
      "text/plain": [
       "                           Model  Accuracy  F1score  Precision   Recall\n",
       "0        smote-proposed_external   0.74633  0.75797    0.77053  0.74633\n",
       "1       adasyn-proposed_external   0.74939  0.75929    0.76972  0.74939\n",
       "2    copulagan-proposed_external   0.49051  0.58617    0.77069  0.49051\n",
       "3        ctgan-proposed_external   0.34517  0.44836    0.77409  0.34517\n",
       "4  nbsynthetic-proposed_external   0.84394  0.80496    0.77434  0.84394"
      ]
     },
     "execution_count": 21,
     "metadata": {},
     "output_type": "execute_result"
    }
   ],
   "source": [
    "df_results"
   ]
  },
  {
   "cell_type": "markdown",
   "metadata": {},
   "source": [
    "## TabNet"
   ]
  },
  {
   "cell_type": "code",
   "execution_count": 22,
   "metadata": {},
   "outputs": [],
   "source": [
    "# 빈 리스트 생성하여 결과 저장\n",
    "results = []\n",
    "\n",
    "for generation in Generation_list:\n",
    "    with open(path+f'\\\\3_2.Training_XAI_VariousModel\\\\model_hist\\\\{generation}_proposed_tabnet_model.pickle', 'rb') as f:\n",
    "        Tabnet_model = pickle.load(f)\n",
    "        \n",
    "    predict=Tabnet_model.predict(test_np).astype(int)\n",
    "    # 각 메트릭 계산\n",
    "    accuracy = accuracy_score(test_targets_np, predict)\n",
    "    f1 = f1_score(test_targets_np, predict, average='weighted')\n",
    "    precision, recall = sk(test_targets_np, predict, beta=1, average='weighted')[:2]\n",
    "    \n",
    "    # 결과를 딕셔너리로 저장\n",
    "    result_dict = {\n",
    "        'Model': f\"{generation}-tabnet\",\n",
    "        'Accuracy': round(accuracy, 5),\n",
    "        'F1score': round(f1, 5),\n",
    "        'Precision': round(precision, 5),\n",
    "        'Recall': round(recall, 5)\n",
    "    }\n",
    "    \n",
    "    # 리스트에 딕셔너리 추가\n",
    "    results.append(result_dict)\n",
    "\n",
    "# 데이터프레임 생성\n",
    "\n",
    "df_tabnet_results = pd.DataFrame(results)\n",
    "# 데이터프레임을 CSV 파일로 저장 (선택사항)\n",
    "# df_results.to_csv('model_metrics.csv')"
   ]
  },
  {
   "cell_type": "code",
   "execution_count": 23,
   "metadata": {},
   "outputs": [
    {
     "data": {
      "text/html": [
       "<div>\n",
       "<style scoped>\n",
       "    .dataframe tbody tr th:only-of-type {\n",
       "        vertical-align: middle;\n",
       "    }\n",
       "\n",
       "    .dataframe tbody tr th {\n",
       "        vertical-align: top;\n",
       "    }\n",
       "\n",
       "    .dataframe thead th {\n",
       "        text-align: right;\n",
       "    }\n",
       "</style>\n",
       "<table border=\"1\" class=\"dataframe\">\n",
       "  <thead>\n",
       "    <tr style=\"text-align: right;\">\n",
       "      <th></th>\n",
       "      <th>Model</th>\n",
       "      <th>Accuracy</th>\n",
       "      <th>F1score</th>\n",
       "      <th>Precision</th>\n",
       "      <th>Recall</th>\n",
       "    </tr>\n",
       "  </thead>\n",
       "  <tbody>\n",
       "    <tr>\n",
       "      <th>0</th>\n",
       "      <td>smote-tabnet</td>\n",
       "      <td>0.71389</td>\n",
       "      <td>0.74056</td>\n",
       "      <td>0.77071</td>\n",
       "      <td>0.71389</td>\n",
       "    </tr>\n",
       "    <tr>\n",
       "      <th>1</th>\n",
       "      <td>adasyn-tabnet</td>\n",
       "      <td>0.62362</td>\n",
       "      <td>0.68220</td>\n",
       "      <td>0.75745</td>\n",
       "      <td>0.62362</td>\n",
       "    </tr>\n",
       "    <tr>\n",
       "      <th>2</th>\n",
       "      <td>copulagan-tabnet</td>\n",
       "      <td>0.30386</td>\n",
       "      <td>0.39477</td>\n",
       "      <td>0.76099</td>\n",
       "      <td>0.30386</td>\n",
       "    </tr>\n",
       "    <tr>\n",
       "      <th>3</th>\n",
       "      <td>ctgan-tabnet</td>\n",
       "      <td>0.37729</td>\n",
       "      <td>0.48775</td>\n",
       "      <td>0.79114</td>\n",
       "      <td>0.37729</td>\n",
       "    </tr>\n",
       "    <tr>\n",
       "      <th>4</th>\n",
       "      <td>nbsynthetic-tabnet</td>\n",
       "      <td>0.82130</td>\n",
       "      <td>0.79877</td>\n",
       "      <td>0.78268</td>\n",
       "      <td>0.82130</td>\n",
       "    </tr>\n",
       "  </tbody>\n",
       "</table>\n",
       "</div>"
      ],
      "text/plain": [
       "                Model  Accuracy  F1score  Precision   Recall\n",
       "0        smote-tabnet   0.71389  0.74056    0.77071  0.71389\n",
       "1       adasyn-tabnet   0.62362  0.68220    0.75745  0.62362\n",
       "2    copulagan-tabnet   0.30386  0.39477    0.76099  0.30386\n",
       "3        ctgan-tabnet   0.37729  0.48775    0.79114  0.37729\n",
       "4  nbsynthetic-tabnet   0.82130  0.79877    0.78268  0.82130"
      ]
     },
     "execution_count": 23,
     "metadata": {},
     "output_type": "execute_result"
    }
   ],
   "source": [
    "df_tabnet_results"
   ]
  },
  {
   "cell_type": "code",
   "execution_count": 24,
   "metadata": {},
   "outputs": [
    {
     "data": {
      "image/png": "[encoded data removed]",
      "text/plain": [
       "<Figure size 640x480 with 2 Axes>"
      ]
     },
     "metadata": {},
     "output_type": "display_data"
    }
   ],
   "source": [
    "from sklearn.metrics import confusion_matrix, ConfusionMatrixDisplay\n",
    "import matplotlib.pyplot as plt\n",
    "\n",
    "# Confusion matrix 계산\n",
    "cm = confusion_matrix(test_targets_np, predict)\n",
    "\n",
    "# Confusion matrix 시각화\n",
    "disp = ConfusionMatrixDisplay(confusion_matrix=cm)\n",
    "disp.plot(cmap=plt.cm.Blues)\n",
    "plt.title(\"Confusion Matrix\")\n",
    "plt.show()\n"
   ]
  },
  {
   "cell_type": "markdown",
   "metadata": {},
   "source": [
    "## Decision Tree"
   ]
  },
  {
   "cell_type": "code",
   "execution_count": 25,
   "metadata": {},
   "outputs": [],
   "source": [
    "import pickle"
   ]
  },
  {
   "cell_type": "code",
   "execution_count": 26,
   "metadata": {},
   "outputs": [],
   "source": [
    "# 빈 리스트 생성하여 결과 저장\n",
    "results = []\n",
    "\n",
    "for generation in Generation_list:\n",
    "    with open(path+f'\\\\3_2.Training_XAI_VariousModel\\\\model_hist\\\\{generation}_DT_model.pickle', 'rb') as f:\n",
    "        DT_model = pickle.load(f)\n",
    "        \n",
    "    predict=DT_model.predict(test_np).astype(int)\n",
    "    # 각 메트릭 계산\n",
    "    accuracy = DT_model.score(test_np, test_targets_np)\n",
    "    f1 = f1_score(test_targets_np, predict, average='weighted')\n",
    "    precision, recall = sk(test_targets_np, predict, beta=1, average='weighted')[:2]\n",
    "    \n",
    "    # 결과를 딕셔너리로 저장\n",
    "    result_dict = {\n",
    "        'Model': f\"{generation}-Decision Tree\",\n",
    "        'Accuracy': round(accuracy, 5),\n",
    "        'F1score': round(f1, 5),\n",
    "        'Precision': round(precision, 5),\n",
    "        'Recall': round(recall, 5)\n",
    "    }\n",
    "    \n",
    "    # 리스트에 딕셔너리 추가\n",
    "    results.append(result_dict)\n",
    "\n",
    "# 데이터프레임 생성\n",
    "df_DT_results = pd.DataFrame(results)\n",
    "\n",
    "# 데이터프레임을 CSV 파일로 저장 (선택사항)\n",
    "# df_results.to_csv('model_metrics.csv')"
   ]
  },
  {
   "cell_type": "code",
   "execution_count": 27,
   "metadata": {},
   "outputs": [
    {
     "data": {
      "text/html": [
       "<div>\n",
       "<style scoped>\n",
       "    .dataframe tbody tr th:only-of-type {\n",
       "        vertical-align: middle;\n",
       "    }\n",
       "\n",
       "    .dataframe tbody tr th {\n",
       "        vertical-align: top;\n",
       "    }\n",
       "\n",
       "    .dataframe thead th {\n",
       "        text-align: right;\n",
       "    }\n",
       "</style>\n",
       "<table border=\"1\" class=\"dataframe\">\n",
       "  <thead>\n",
       "    <tr style=\"text-align: right;\">\n",
       "      <th></th>\n",
       "      <th>Model</th>\n",
       "      <th>Accuracy</th>\n",
       "      <th>F1score</th>\n",
       "      <th>Precision</th>\n",
       "      <th>Recall</th>\n",
       "    </tr>\n",
       "  </thead>\n",
       "  <tbody>\n",
       "    <tr>\n",
       "      <th>0</th>\n",
       "      <td>smote-Decision Tree</td>\n",
       "      <td>0.67075</td>\n",
       "      <td>0.71085</td>\n",
       "      <td>0.75832</td>\n",
       "      <td>0.67075</td>\n",
       "    </tr>\n",
       "    <tr>\n",
       "      <th>1</th>\n",
       "      <td>adasyn-Decision Tree</td>\n",
       "      <td>0.55171</td>\n",
       "      <td>0.63333</td>\n",
       "      <td>0.76439</td>\n",
       "      <td>0.55171</td>\n",
       "    </tr>\n",
       "    <tr>\n",
       "      <th>2</th>\n",
       "      <td>copulagan-Decision Tree</td>\n",
       "      <td>0.36781</td>\n",
       "      <td>0.47063</td>\n",
       "      <td>0.78362</td>\n",
       "      <td>0.36781</td>\n",
       "    </tr>\n",
       "    <tr>\n",
       "      <th>3</th>\n",
       "      <td>ctgan-Decision Tree</td>\n",
       "      <td>0.50520</td>\n",
       "      <td>0.59784</td>\n",
       "      <td>0.78723</td>\n",
       "      <td>0.50520</td>\n",
       "    </tr>\n",
       "    <tr>\n",
       "      <th>4</th>\n",
       "      <td>nbsynthetic-Decision Tree</td>\n",
       "      <td>0.75214</td>\n",
       "      <td>0.75827</td>\n",
       "      <td>0.76463</td>\n",
       "      <td>0.75214</td>\n",
       "    </tr>\n",
       "  </tbody>\n",
       "</table>\n",
       "</div>"
      ],
      "text/plain": [
       "                       Model  Accuracy  F1score  Precision   Recall\n",
       "0        smote-Decision Tree   0.67075  0.71085    0.75832  0.67075\n",
       "1       adasyn-Decision Tree   0.55171  0.63333    0.76439  0.55171\n",
       "2    copulagan-Decision Tree   0.36781  0.47063    0.78362  0.36781\n",
       "3        ctgan-Decision Tree   0.50520  0.59784    0.78723  0.50520\n",
       "4  nbsynthetic-Decision Tree   0.75214  0.75827    0.76463  0.75214"
      ]
     },
     "execution_count": 27,
     "metadata": {},
     "output_type": "execute_result"
    }
   ],
   "source": [
    "df_DT_results"
   ]
  },
  {
   "cell_type": "markdown",
   "metadata": {},
   "source": [
    "## Naive Bayes"
   ]
  },
  {
   "cell_type": "code",
   "execution_count": 28,
   "metadata": {},
   "outputs": [],
   "source": [
    "from sklearn.naive_bayes import GaussianNB\n",
    "NB_model = GaussianNB()"
   ]
  },
  {
   "cell_type": "code",
   "execution_count": 29,
   "metadata": {},
   "outputs": [],
   "source": [
    "# 빈 리스트 생성하여 결과 저장\n",
    "results = []\n",
    "\n",
    "for generation in Generation_list:\n",
    "    with open(path+f'\\\\3_2.Training_XAI_VariousModel\\\\model_hist\\\\{generation}_NB_model.pickle', 'rb') as f:\n",
    "        NB_model = pickle.load(f)\n",
    "    predict=NB_model.predict(test_np).astype(int)\n",
    "    # 각 메트릭 계산\n",
    "    accuracy = NB_model.score(test_np, test_targets_np)\n",
    "    f1 = f1_score(test_targets_np, predict, average='weighted')\n",
    "    precision, recall = sk(test_targets_np, predict, beta=1, average='weighted')[:2]\n",
    "    \n",
    "    # 결과를 딕셔너리로 저장\n",
    "    result_dict = {\n",
    "        'Model': f\"{generation}-Naive Bayes\",\n",
    "        'Accuracy': round(accuracy, 5),\n",
    "        'F1score': round(f1, 5),\n",
    "        'Precision': round(precision, 5),\n",
    "        'Recall': round(recall, 5)\n",
    "    }\n",
    "    \n",
    "    # 리스트에 딕셔너리 추가\n",
    "    results.append(result_dict)\n",
    "\n",
    "# 데이터프레임 생성\n",
    "df_Naive_results = pd.DataFrame(results)\n",
    "\n",
    "# 데이터프레임을 CSV 파일로 저장 (선택사항)\n",
    "# df_results.to_csv('model_metrics.csv')"
   ]
  },
  {
   "cell_type": "code",
   "execution_count": 30,
   "metadata": {},
   "outputs": [
    {
     "data": {
      "text/html": [
       "<div>\n",
       "<style scoped>\n",
       "    .dataframe tbody tr th:only-of-type {\n",
       "        vertical-align: middle;\n",
       "    }\n",
       "\n",
       "    .dataframe tbody tr th {\n",
       "        vertical-align: top;\n",
       "    }\n",
       "\n",
       "    .dataframe thead th {\n",
       "        text-align: right;\n",
       "    }\n",
       "</style>\n",
       "<table border=\"1\" class=\"dataframe\">\n",
       "  <thead>\n",
       "    <tr style=\"text-align: right;\">\n",
       "      <th></th>\n",
       "      <th>Model</th>\n",
       "      <th>Accuracy</th>\n",
       "      <th>F1score</th>\n",
       "      <th>Precision</th>\n",
       "      <th>Recall</th>\n",
       "    </tr>\n",
       "  </thead>\n",
       "  <tbody>\n",
       "    <tr>\n",
       "      <th>0</th>\n",
       "      <td>smote-Naive Bayes</td>\n",
       "      <td>0.61200</td>\n",
       "      <td>0.68192</td>\n",
       "      <td>0.79465</td>\n",
       "      <td>0.61200</td>\n",
       "    </tr>\n",
       "    <tr>\n",
       "      <th>1</th>\n",
       "      <td>adasyn-Naive Bayes</td>\n",
       "      <td>0.61414</td>\n",
       "      <td>0.68180</td>\n",
       "      <td>0.79570</td>\n",
       "      <td>0.61414</td>\n",
       "    </tr>\n",
       "    <tr>\n",
       "      <th>2</th>\n",
       "      <td>copulagan-Naive Bayes</td>\n",
       "      <td>0.59119</td>\n",
       "      <td>0.66560</td>\n",
       "      <td>0.79544</td>\n",
       "      <td>0.59119</td>\n",
       "    </tr>\n",
       "    <tr>\n",
       "      <th>3</th>\n",
       "      <td>ctgan-Naive Bayes</td>\n",
       "      <td>0.56395</td>\n",
       "      <td>0.64683</td>\n",
       "      <td>0.79454</td>\n",
       "      <td>0.56395</td>\n",
       "    </tr>\n",
       "    <tr>\n",
       "      <th>4</th>\n",
       "      <td>nbsynthetic-Naive Bayes</td>\n",
       "      <td>0.73745</td>\n",
       "      <td>0.75708</td>\n",
       "      <td>0.78103</td>\n",
       "      <td>0.73745</td>\n",
       "    </tr>\n",
       "  </tbody>\n",
       "</table>\n",
       "</div>"
      ],
      "text/plain": [
       "                     Model  Accuracy  F1score  Precision   Recall\n",
       "0        smote-Naive Bayes   0.61200  0.68192    0.79465  0.61200\n",
       "1       adasyn-Naive Bayes   0.61414  0.68180    0.79570  0.61414\n",
       "2    copulagan-Naive Bayes   0.59119  0.66560    0.79544  0.59119\n",
       "3        ctgan-Naive Bayes   0.56395  0.64683    0.79454  0.56395\n",
       "4  nbsynthetic-Naive Bayes   0.73745  0.75708    0.78103  0.73745"
      ]
     },
     "execution_count": 30,
     "metadata": {},
     "output_type": "execute_result"
    }
   ],
   "source": [
    "df_Naive_results"
   ]
  },
  {
   "cell_type": "markdown",
   "metadata": {},
   "source": [
    "## LDA"
   ]
  },
  {
   "cell_type": "code",
   "execution_count": 31,
   "metadata": {},
   "outputs": [],
   "source": [
    "from sklearn.discriminant_analysis import LinearDiscriminantAnalysis\n",
    "LDA_model= LinearDiscriminantAnalysis()\n"
   ]
  },
  {
   "cell_type": "code",
   "execution_count": 32,
   "metadata": {},
   "outputs": [
    {
     "name": "stderr",
     "output_type": "stream",
     "text": [
      "c:\\Users\\jaemin\\anaconda3\\envs\\jm_main\\lib\\site-packages\\sklearn\\metrics\\_classification.py:1471: UndefinedMetricWarning: Precision and F-score are ill-defined and being set to 0.0 in labels with no predicted samples. Use `zero_division` parameter to control this behavior.\n",
      "  _warn_prf(average, modifier, msg_start, len(result))\n",
      "c:\\Users\\jaemin\\anaconda3\\envs\\jm_main\\lib\\site-packages\\sklearn\\metrics\\_classification.py:1471: UndefinedMetricWarning: Precision and F-score are ill-defined and being set to 0.0 in labels with no predicted samples. Use `zero_division` parameter to control this behavior.\n",
      "  _warn_prf(average, modifier, msg_start, len(result))\n",
      "c:\\Users\\jaemin\\anaconda3\\envs\\jm_main\\lib\\site-packages\\sklearn\\metrics\\_classification.py:1471: UndefinedMetricWarning: Precision and F-score are ill-defined and being set to 0.0 in labels with no predicted samples. Use `zero_division` parameter to control this behavior.\n",
      "  _warn_prf(average, modifier, msg_start, len(result))\n",
      "c:\\Users\\jaemin\\anaconda3\\envs\\jm_main\\lib\\site-packages\\sklearn\\metrics\\_classification.py:1471: UndefinedMetricWarning: Precision and F-score are ill-defined and being set to 0.0 in labels with no predicted samples. Use `zero_division` parameter to control this behavior.\n",
      "  _warn_prf(average, modifier, msg_start, len(result))\n",
      "c:\\Users\\jaemin\\anaconda3\\envs\\jm_main\\lib\\site-packages\\sklearn\\metrics\\_classification.py:1471: UndefinedMetricWarning: Precision and F-score are ill-defined and being set to 0.0 in labels with no predicted samples. Use `zero_division` parameter to control this behavior.\n",
      "  _warn_prf(average, modifier, msg_start, len(result))\n"
     ]
    }
   ],
   "source": [
    "# 빈 리스트 생성하여 결과 저장\n",
    "results = []\n",
    "\n",
    "for generation in Generation_list:\n",
    "    with open(path+f'\\\\3_2.Training_XAI_VariousModel\\\\model_hist\\\\{generation}_LDA_model.pickle', 'rb') as f:\n",
    "        LDA_model = pickle.load(f)\n",
    "    \n",
    "    with open(path+f'\\\\3_2.Training_XAI_VariousModel\\\\scaler_hist\\\\{generation}_LDA_scaler.pickle', 'rb') as f:\n",
    "        LDA_scaler = pickle.load(f)\n",
    "    LDA_scaler_test_np=LDA_scaler.transform(test_np)    \n",
    "        \n",
    "        \n",
    "    predict=LDA_model.predict(LDA_scaler_test_np).astype(int)\n",
    "    # 각 메트릭 계산\n",
    "    accuracy = LDA_model.score(LDA_scaler_test_np, test_targets_np)\n",
    "    f1 = f1_score(test_targets_np, predict, average='weighted')\n",
    "    precision, recall = sk(test_targets_np, predict, beta=1, average='weighted')[:2]\n",
    "    \n",
    "    # 결과를 딕셔너리로 저장\n",
    "    result_dict = {\n",
    "        'Model': f\"{generation}-LDA\",\n",
    "        'Accuracy': round(accuracy, 5),\n",
    "        'F1score': round(f1, 5),\n",
    "        'Precision': round(precision, 5),\n",
    "        'Recall': round(recall, 5)\n",
    "    }\n",
    "    \n",
    "    # 리스트에 딕셔너리 추가\n",
    "    results.append(result_dict)\n",
    "\n",
    "# 데이터프레임 생성\n",
    "df_LDA_results = pd.DataFrame(results)\n",
    "\n",
    "# 데이터프레임을 CSV 파일로 저장 (선택사항)\n",
    "# df_results.to_csv('model_metrics.csv')"
   ]
  },
  {
   "cell_type": "code",
   "execution_count": 33,
   "metadata": {},
   "outputs": [
    {
     "data": {
      "text/html": [
       "<div>\n",
       "<style scoped>\n",
       "    .dataframe tbody tr th:only-of-type {\n",
       "        vertical-align: middle;\n",
       "    }\n",
       "\n",
       "    .dataframe tbody tr th {\n",
       "        vertical-align: top;\n",
       "    }\n",
       "\n",
       "    .dataframe thead th {\n",
       "        text-align: right;\n",
       "    }\n",
       "</style>\n",
       "<table border=\"1\" class=\"dataframe\">\n",
       "  <thead>\n",
       "    <tr style=\"text-align: right;\">\n",
       "      <th></th>\n",
       "      <th>Model</th>\n",
       "      <th>Accuracy</th>\n",
       "      <th>F1score</th>\n",
       "      <th>Precision</th>\n",
       "      <th>Recall</th>\n",
       "    </tr>\n",
       "  </thead>\n",
       "  <tbody>\n",
       "    <tr>\n",
       "      <th>0</th>\n",
       "      <td>smote-LDA</td>\n",
       "      <td>0.87485</td>\n",
       "      <td>0.81645</td>\n",
       "      <td>0.76536</td>\n",
       "      <td>0.87485</td>\n",
       "    </tr>\n",
       "    <tr>\n",
       "      <th>1</th>\n",
       "      <td>adasyn-LDA</td>\n",
       "      <td>0.87485</td>\n",
       "      <td>0.81645</td>\n",
       "      <td>0.76536</td>\n",
       "      <td>0.87485</td>\n",
       "    </tr>\n",
       "    <tr>\n",
       "      <th>2</th>\n",
       "      <td>copulagan-LDA</td>\n",
       "      <td>0.87485</td>\n",
       "      <td>0.81645</td>\n",
       "      <td>0.76536</td>\n",
       "      <td>0.87485</td>\n",
       "    </tr>\n",
       "    <tr>\n",
       "      <th>3</th>\n",
       "      <td>ctgan-LDA</td>\n",
       "      <td>0.04376</td>\n",
       "      <td>0.00367</td>\n",
       "      <td>0.00191</td>\n",
       "      <td>0.04376</td>\n",
       "    </tr>\n",
       "    <tr>\n",
       "      <th>4</th>\n",
       "      <td>nbsynthetic-LDA</td>\n",
       "      <td>0.87485</td>\n",
       "      <td>0.81645</td>\n",
       "      <td>0.76536</td>\n",
       "      <td>0.87485</td>\n",
       "    </tr>\n",
       "  </tbody>\n",
       "</table>\n",
       "</div>"
      ],
      "text/plain": [
       "             Model  Accuracy  F1score  Precision   Recall\n",
       "0        smote-LDA   0.87485  0.81645    0.76536  0.87485\n",
       "1       adasyn-LDA   0.87485  0.81645    0.76536  0.87485\n",
       "2    copulagan-LDA   0.87485  0.81645    0.76536  0.87485\n",
       "3        ctgan-LDA   0.04376  0.00367    0.00191  0.04376\n",
       "4  nbsynthetic-LDA   0.87485  0.81645    0.76536  0.87485"
      ]
     },
     "execution_count": 33,
     "metadata": {},
     "output_type": "execute_result"
    }
   ],
   "source": [
    "df_LDA_results"
   ]
  },
  {
   "cell_type": "markdown",
   "metadata": {},
   "source": [
    "## GAMs"
   ]
  },
  {
   "cell_type": "code",
   "execution_count": 34,
   "metadata": {},
   "outputs": [],
   "source": [
    "import numpy as np\n",
    "import pandas as pd\n",
    "from sklearn.preprocessing import LabelEncoder\n",
    "from sklearn.metrics import accuracy_score, classification_report\n",
    "from pygam import LogisticGAM, s, f\n",
    "\n",
    "def train_multiclass_gam(X_test, y_test):\n",
    "    # 레이블 인코딩\n",
    "    le = LabelEncoder()\n",
    "    y_test_encoded = le.fit_transform(y_test)\n",
    "    n_classes = len(np.unique(y_test_encoded))\n",
    "\n",
    "    return y_test_encoded, le\n",
    "\n",
    "def predict_multiclass(gam_models, X):\n",
    "    # 각 클래스에 대한 예측 확률 계산\n",
    "    probs = np.column_stack([\n",
    "        gam.predict_proba(X) for gam in gam_models\n",
    "    ])\n",
    "    \n",
    "    # 가장 높은 확률을 가진 클래스 선택\n",
    "    return np.argmax(probs, axis=1)\n",
    "\n",
    "def print_model_summary(gam_models, class_names):\n",
    "    print(\"\\n모델 요약:\")\n",
    "    for i, gam in enumerate(gam_models):\n",
    "        print(f\"\\n클래스 {class_names[i]}:\")\n",
    "        print(\"특성별 계수 정보:\")\n",
    "        for j, coef in enumerate(gam.coef_):\n",
    "            print(f\"특성 {j + 1} - 계수: {coef:.4f}\")\n",
    "        print(\"\\n모델 summary:\")\n",
    "        gam.summary()"
   ]
  },
  {
   "cell_type": "code",
   "execution_count": 35,
   "metadata": {},
   "outputs": [
    {
     "name": "stderr",
     "output_type": "stream",
     "text": [
      "c:\\Users\\jaemin\\anaconda3\\envs\\jm_main\\lib\\site-packages\\pygam\\links.py:133: RuntimeWarning: overflow encountered in exp\n",
      "  elp = np.exp(lp)\n",
      "c:\\Users\\jaemin\\anaconda3\\envs\\jm_main\\lib\\site-packages\\pygam\\links.py:134: RuntimeWarning: invalid value encountered in divide\n",
      "  return dist.levels * elp / (elp + 1)\n",
      "c:\\Users\\jaemin\\anaconda3\\envs\\jm_main\\lib\\site-packages\\sklearn\\metrics\\_classification.py:1471: UndefinedMetricWarning: Precision and F-score are ill-defined and being set to 0.0 in labels with no predicted samples. Use `zero_division` parameter to control this behavior.\n",
      "  _warn_prf(average, modifier, msg_start, len(result))\n",
      "c:\\Users\\jaemin\\anaconda3\\envs\\jm_main\\lib\\site-packages\\pygam\\links.py:133: RuntimeWarning: overflow encountered in exp\n",
      "  elp = np.exp(lp)\n",
      "c:\\Users\\jaemin\\anaconda3\\envs\\jm_main\\lib\\site-packages\\pygam\\links.py:134: RuntimeWarning: invalid value encountered in divide\n",
      "  return dist.levels * elp / (elp + 1)\n",
      "c:\\Users\\jaemin\\anaconda3\\envs\\jm_main\\lib\\site-packages\\sklearn\\metrics\\_classification.py:1471: UndefinedMetricWarning: Precision and F-score are ill-defined and being set to 0.0 in labels with no predicted samples. Use `zero_division` parameter to control this behavior.\n",
      "  _warn_prf(average, modifier, msg_start, len(result))\n",
      "c:\\Users\\jaemin\\anaconda3\\envs\\jm_main\\lib\\site-packages\\pygam\\links.py:133: RuntimeWarning: overflow encountered in exp\n",
      "  elp = np.exp(lp)\n",
      "c:\\Users\\jaemin\\anaconda3\\envs\\jm_main\\lib\\site-packages\\pygam\\links.py:134: RuntimeWarning: invalid value encountered in divide\n",
      "  return dist.levels * elp / (elp + 1)\n",
      "c:\\Users\\jaemin\\anaconda3\\envs\\jm_main\\lib\\site-packages\\sklearn\\metrics\\_classification.py:1471: UndefinedMetricWarning: Precision and F-score are ill-defined and being set to 0.0 in labels with no predicted samples. Use `zero_division` parameter to control this behavior.\n",
      "  _warn_prf(average, modifier, msg_start, len(result))\n",
      "c:\\Users\\jaemin\\anaconda3\\envs\\jm_main\\lib\\site-packages\\pygam\\links.py:133: RuntimeWarning: overflow encountered in exp\n",
      "  elp = np.exp(lp)\n",
      "c:\\Users\\jaemin\\anaconda3\\envs\\jm_main\\lib\\site-packages\\pygam\\links.py:134: RuntimeWarning: invalid value encountered in divide\n",
      "  return dist.levels * elp / (elp + 1)\n",
      "c:\\Users\\jaemin\\anaconda3\\envs\\jm_main\\lib\\site-packages\\sklearn\\metrics\\_classification.py:1471: UndefinedMetricWarning: Precision and F-score are ill-defined and being set to 0.0 in labels with no predicted samples. Use `zero_division` parameter to control this behavior.\n",
      "  _warn_prf(average, modifier, msg_start, len(result))\n",
      "c:\\Users\\jaemin\\anaconda3\\envs\\jm_main\\lib\\site-packages\\pygam\\links.py:133: RuntimeWarning: overflow encountered in exp\n",
      "  elp = np.exp(lp)\n",
      "c:\\Users\\jaemin\\anaconda3\\envs\\jm_main\\lib\\site-packages\\pygam\\links.py:134: RuntimeWarning: invalid value encountered in divide\n",
      "  return dist.levels * elp / (elp + 1)\n",
      "c:\\Users\\jaemin\\anaconda3\\envs\\jm_main\\lib\\site-packages\\sklearn\\metrics\\_classification.py:1471: UndefinedMetricWarning: Precision and F-score are ill-defined and being set to 0.0 in labels with no predicted samples. Use `zero_division` parameter to control this behavior.\n",
      "  _warn_prf(average, modifier, msg_start, len(result))\n"
     ]
    }
   ],
   "source": [
    "# 빈 리스트 생성하여 결과 저장\n",
    "results = []\n",
    "\n",
    "for generation in Generation_list:\n",
    "    with open(path+f'\\\\3_2.Training_XAI_VariousModel\\\\model_hist\\\\{generation}_gams_model.pickle', 'rb') as f:\n",
    "        GAMs_model = pickle.load(f)\n",
    "    y_test_encoded, le = train_multiclass_gam(train, train_targets)\n",
    "    predict = predict_multiclass(GAMs_model, train)\n",
    "    accuracy = accuracy_score(y_test_encoded, predict)\n",
    " \n",
    "    # 각 메트릭 계산\n",
    "    f1 = f1_score(y_test_encoded, predict, average='weighted')\n",
    "    precision, recall = sk(y_test_encoded, predict, beta=1, average='weighted')[:2]\n",
    "    \n",
    "    # 결과를 딕셔너리로 저장\n",
    "    result_dict = {\n",
    "        'Model': f\"{generation}-GAMs\",\n",
    "        'Accuracy': round(accuracy, 5),\n",
    "        'F1score': round(f1, 5),\n",
    "        'Precision': round(precision, 5),\n",
    "        'Recall': round(recall, 5)\n",
    "    }\n",
    "    \n",
    "    # 리스트에 딕셔너리 추가\n",
    "    results.append(result_dict)\n",
    "\n",
    "# 데이터프레임 생성\n",
    "df_GAMs_results = pd.DataFrame(results)\n",
    "\n",
    "# 데이터프레임을 CSV 파일로 저장 (선택사항)\n",
    "# df_results.to_csv('model_metrics.csv')"
   ]
  },
  {
   "cell_type": "code",
   "execution_count": 36,
   "metadata": {},
   "outputs": [
    {
     "data": {
      "text/html": [
       "<div>\n",
       "<style scoped>\n",
       "    .dataframe tbody tr th:only-of-type {\n",
       "        vertical-align: middle;\n",
       "    }\n",
       "\n",
       "    .dataframe tbody tr th {\n",
       "        vertical-align: top;\n",
       "    }\n",
       "\n",
       "    .dataframe thead th {\n",
       "        text-align: right;\n",
       "    }\n",
       "</style>\n",
       "<table border=\"1\" class=\"dataframe\">\n",
       "  <thead>\n",
       "    <tr style=\"text-align: right;\">\n",
       "      <th></th>\n",
       "      <th>Model</th>\n",
       "      <th>Accuracy</th>\n",
       "      <th>F1score</th>\n",
       "      <th>Precision</th>\n",
       "      <th>Recall</th>\n",
       "    </tr>\n",
       "  </thead>\n",
       "  <tbody>\n",
       "    <tr>\n",
       "      <th>0</th>\n",
       "      <td>smote-GAMs</td>\n",
       "      <td>0.87485</td>\n",
       "      <td>0.81645</td>\n",
       "      <td>0.76536</td>\n",
       "      <td>0.87485</td>\n",
       "    </tr>\n",
       "    <tr>\n",
       "      <th>1</th>\n",
       "      <td>adasyn-GAMs</td>\n",
       "      <td>0.87485</td>\n",
       "      <td>0.81645</td>\n",
       "      <td>0.76536</td>\n",
       "      <td>0.87485</td>\n",
       "    </tr>\n",
       "    <tr>\n",
       "      <th>2</th>\n",
       "      <td>copulagan-GAMs</td>\n",
       "      <td>0.87485</td>\n",
       "      <td>0.81645</td>\n",
       "      <td>0.76536</td>\n",
       "      <td>0.87485</td>\n",
       "    </tr>\n",
       "    <tr>\n",
       "      <th>3</th>\n",
       "      <td>ctgan-GAMs</td>\n",
       "      <td>0.04376</td>\n",
       "      <td>0.00367</td>\n",
       "      <td>0.00191</td>\n",
       "      <td>0.04376</td>\n",
       "    </tr>\n",
       "    <tr>\n",
       "      <th>4</th>\n",
       "      <td>nbsynthetic-GAMs</td>\n",
       "      <td>0.87485</td>\n",
       "      <td>0.81645</td>\n",
       "      <td>0.76536</td>\n",
       "      <td>0.87485</td>\n",
       "    </tr>\n",
       "  </tbody>\n",
       "</table>\n",
       "</div>"
      ],
      "text/plain": [
       "              Model  Accuracy  F1score  Precision   Recall\n",
       "0        smote-GAMs   0.87485  0.81645    0.76536  0.87485\n",
       "1       adasyn-GAMs   0.87485  0.81645    0.76536  0.87485\n",
       "2    copulagan-GAMs   0.87485  0.81645    0.76536  0.87485\n",
       "3        ctgan-GAMs   0.04376  0.00367    0.00191  0.04376\n",
       "4  nbsynthetic-GAMs   0.87485  0.81645    0.76536  0.87485"
      ]
     },
     "execution_count": 36,
     "metadata": {},
     "output_type": "execute_result"
    }
   ],
   "source": [
    "df_GAMs_results"
   ]
  },
  {
   "cell_type": "markdown",
   "metadata": {},
   "source": [
    "## 결과 총합"
   ]
  },
  {
   "cell_type": "code",
   "execution_count": 37,
   "metadata": {},
   "outputs": [
    {
     "data": {
      "text/html": [
       "<div>\n",
       "<style scoped>\n",
       "    .dataframe tbody tr th:only-of-type {\n",
       "        vertical-align: middle;\n",
       "    }\n",
       "\n",
       "    .dataframe tbody tr th {\n",
       "        vertical-align: top;\n",
       "    }\n",
       "\n",
       "    .dataframe thead th {\n",
       "        text-align: right;\n",
       "    }\n",
       "</style>\n",
       "<table border=\"1\" class=\"dataframe\">\n",
       "  <thead>\n",
       "    <tr style=\"text-align: right;\">\n",
       "      <th></th>\n",
       "      <th>Model</th>\n",
       "      <th>Accuracy</th>\n",
       "      <th>F1score</th>\n",
       "      <th>Precision</th>\n",
       "      <th>Recall</th>\n",
       "    </tr>\n",
       "  </thead>\n",
       "  <tbody>\n",
       "    <tr>\n",
       "      <th>0</th>\n",
       "      <td>smote-LDA</td>\n",
       "      <td>0.87485</td>\n",
       "      <td>0.81645</td>\n",
       "      <td>0.76536</td>\n",
       "      <td>0.87485</td>\n",
       "    </tr>\n",
       "    <tr>\n",
       "      <th>1</th>\n",
       "      <td>adasyn-LDA</td>\n",
       "      <td>0.87485</td>\n",
       "      <td>0.81645</td>\n",
       "      <td>0.76536</td>\n",
       "      <td>0.87485</td>\n",
       "    </tr>\n",
       "    <tr>\n",
       "      <th>2</th>\n",
       "      <td>copulagan-LDA</td>\n",
       "      <td>0.87485</td>\n",
       "      <td>0.81645</td>\n",
       "      <td>0.76536</td>\n",
       "      <td>0.87485</td>\n",
       "    </tr>\n",
       "    <tr>\n",
       "      <th>3</th>\n",
       "      <td>ctgan-LDA</td>\n",
       "      <td>0.04376</td>\n",
       "      <td>0.00367</td>\n",
       "      <td>0.00191</td>\n",
       "      <td>0.04376</td>\n",
       "    </tr>\n",
       "    <tr>\n",
       "      <th>4</th>\n",
       "      <td>nbsynthetic-LDA</td>\n",
       "      <td>0.87485</td>\n",
       "      <td>0.81645</td>\n",
       "      <td>0.76536</td>\n",
       "      <td>0.87485</td>\n",
       "    </tr>\n",
       "  </tbody>\n",
       "</table>\n",
       "</div>"
      ],
      "text/plain": [
       "             Model  Accuracy  F1score  Precision   Recall\n",
       "0        smote-LDA   0.87485  0.81645    0.76536  0.87485\n",
       "1       adasyn-LDA   0.87485  0.81645    0.76536  0.87485\n",
       "2    copulagan-LDA   0.87485  0.81645    0.76536  0.87485\n",
       "3        ctgan-LDA   0.04376  0.00367    0.00191  0.04376\n",
       "4  nbsynthetic-LDA   0.87485  0.81645    0.76536  0.87485"
      ]
     },
     "execution_count": 37,
     "metadata": {},
     "output_type": "execute_result"
    }
   ],
   "source": [
    "df_LDA_results"
   ]
  },
  {
   "cell_type": "code",
   "execution_count": 38,
   "metadata": {},
   "outputs": [
    {
     "ename": "NameError",
     "evalue": "name 'df_proposed_results' is not defined",
     "output_type": "error",
     "traceback": [
      "\u001b[1;31m---------------------------------------------------------------------------\u001b[0m",
      "\u001b[1;31mNameError\u001b[0m                                 Traceback (most recent call last)",
      "Cell \u001b[1;32mIn[38], line 1\u001b[0m\n\u001b[1;32m----> 1\u001b[0m df_ml\u001b[38;5;241m=\u001b[39mpd\u001b[38;5;241m.\u001b[39mconcat([\u001b[43mdf_proposed_results\u001b[49m,df_tabnet_results, df_DT_results,df_Naive_results,df_LDA_results,df_GAMs_results])\n",
      "\u001b[1;31mNameError\u001b[0m: name 'df_proposed_results' is not defined"
     ]
    }
   ],
   "source": [
    "df_ml=pd.concat([df_proposed_results,df_tabnet_results, df_DT_results,df_Naive_results,df_LDA_results,df_GAMs_results])"
   ]
  },
  {
   "cell_type": "code",
   "execution_count": null,
   "metadata": {},
   "outputs": [],
   "source": [
    "df_ml=df_ml.reset_index(drop=True)"
   ]
  },
  {
   "cell_type": "code",
   "execution_count": null,
   "metadata": {},
   "outputs": [],
   "source": [
    "df_ml.to_csv(path+'\\\\data\\\\머신 러닝 일반화 성능 정리_제주초.csv',encoding='cp949',index=False)"
   ]
  },
  {
   "cell_type": "code",
   "execution_count": null,
   "metadata": {},
   "outputs": [],
   "source": [
    "df_ml "
   ]
  },
  {
   "cell_type": "code",
   "execution_count": null,
   "metadata": {},
   "outputs": [],
   "source": []
  },
  {
   "cell_type": "code",
   "execution_count": null,
   "metadata": {},
   "outputs": [],
   "source": []
  }
 ],
 "metadata": {
  "kernelspec": {
   "display_name": "jm_main",
   "language": "python",
   "name": "python3"
  },
  "language_info": {
   "codemirror_mode": {
    "name": "ipython",
    "version": 3
   },
   "file_extension": ".py",
   "mimetype": "text/x-python",
   "name": "python",
   "nbconvert_exporter": "python",
   "pygments_lexer": "ipython3",
   "version": "3.8.20"
  }
 },
 "nbformat": 4,
 "nbformat_minor": 2
}
