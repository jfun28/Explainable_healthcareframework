{
 "cells": [
  {
   "cell_type": "code",
   "execution_count": 1,
   "metadata": {},
   "outputs": [],
   "source": [
    "import pandas as pd \n",
    "import os\n",
    "import numpy as np\n",
    "os.chdir(\"..\")\n",
    "path=os.getcwd()\n",
    "import numpy as np"
   ]
  },
  {
   "cell_type": "markdown",
   "metadata": {},
   "source": [
    "# 데이터 세트 로드"
   ]
  },
  {
   "cell_type": "markdown",
   "metadata": {},
   "source": [
    "데이터세트를 8:1:1로 Train, Valid, Test 세트로 분리한다"
   ]
  },
  {
   "cell_type": "code",
   "execution_count": 2,
   "metadata": {},
   "outputs": [],
   "source": [
    "Synthetic_model=['smote','adasyn','copulagan','ctgan','nbsynthetic']\n",
    "\n",
    "for name in Synthetic_model:\n",
    "    df=pd.read_csv(path+f'\\\\Synthetic_data\\\\14day_1term_{name}_생성데이터프레임.csv',encoding='cp949')\n",
    "    data=df.iloc[:,[1,2,3,4,5,6,-1]]\n",
    "    train=data.iloc[:,:-1]\n",
    "    train_targets=data.iloc[:,-1]\n",
    "    np.random.seed(42)\n",
    "    if \"Set\" not in train.columns:\n",
    "        train[\"Set\"] = np.random.choice([\"train\",\"valid\",\"test\"], p =[.8, .1,.1], size=(train.shape[0],))\n",
    "\n",
    "    train_indices = train[train.Set==\"train\"].index\n",
    "    valid_indices = train[train.Set==\"valid\"].index\n",
    "    test_indices = train[train.Set==\"test\"].index\n",
    "    feature=train.iloc[:,:-1].columns\n",
    "    X_train = train[feature].values[train_indices]\n",
    "    y_train = train_targets.values[train_indices]\n",
    "\n",
    "    X_valid = train[feature].values[valid_indices]\n",
    "    y_valid = train_targets.values[valid_indices]\n",
    "\n",
    "    X_test = train[feature].values[test_indices]\n",
    "    y_test = train_targets.values[test_indices]\n",
    "    \n",
    "    np.savetxt(path+f'\\\\Synthetic_data\\\\train_valid_test\\\\서울초_{name}_X_train.txt', X_train, delimiter=',')\n",
    "    np.savetxt(path+f'\\\\Synthetic_data\\\\train_valid_test\\\\서울초_{name}_y_train.txt', y_train, delimiter=',')\n",
    "\n",
    "    np.savetxt(path+f'\\\\Synthetic_data\\\\train_valid_test\\\\서울초_{name}_X_valid.txt', X_valid, delimiter=',')\n",
    "    np.savetxt(path+f'\\\\Synthetic_data\\\\train_valid_test\\\\서울초_{name}_y_valid.txt', y_valid, delimiter=',')\n",
    "\n",
    "    np.savetxt(path+f'\\\\Synthetic_data\\\\train_valid_test\\\\서울초_{name}_X_test.txt', X_test, delimiter=',')\n",
    "    np.savetxt(path+f'\\\\Synthetic_data\\\\train_valid_test\\\\서울초_{name}_y_test.txt', y_test, delimiter=',')\n",
    "    "
   ]
  },
  {
   "cell_type": "code",
   "execution_count": null,
   "metadata": {},
   "outputs": [],
   "source": []
  }
 ],
 "metadata": {
  "kernelspec": {
   "display_name": "jm_main",
   "language": "python",
   "name": "python3"
  },
  "language_info": {
   "codemirror_mode": {
    "name": "ipython",
    "version": 3
   },
   "file_extension": ".py",
   "mimetype": "text/x-python",
   "name": "python",
   "nbconvert_exporter": "python",
   "pygments_lexer": "ipython3",
   "version": "3.8.20"
  }
 },
 "nbformat": 4,
 "nbformat_minor": 2
}
