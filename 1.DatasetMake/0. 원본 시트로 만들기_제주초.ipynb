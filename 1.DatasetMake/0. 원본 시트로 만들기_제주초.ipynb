{
 "cells": [
  {
   "cell_type": "markdown",
   "metadata": {},
   "source": [
    "## 원본 데이터 데이터세트 만들기"
   ]
  },
  {
   "cell_type": "markdown",
   "metadata": {},
   "source": [
    "이 장은 처음 (주)injewelme에서 받은 원본데이터를 학습 데이터세트를 구축하는 첫 .ipynb이다.\n",
    "받은 원본데이터는 \n",
    "1. 서울 소재초등학교 324명 \n",
    "2. 제주 소재초등학교 84명\n",
    "이다."
   ]
  },
  {
   "cell_type": "markdown",
   "metadata": {},
   "source": [
    "### 원본 데이터 불러오기"
   ]
  },
  {
   "cell_type": "code",
   "execution_count": 1,
   "metadata": {},
   "outputs": [],
   "source": [
    "import pandas as pd\n",
    "import numpy as np\n",
    "import os"
   ]
  },
  {
   "cell_type": "code",
   "execution_count": 2,
   "metadata": {},
   "outputs": [],
   "source": [
    "os.chdir(\"..\")\n",
    "path=os.getcwd()"
   ]
  },
  {
   "cell_type": "code",
   "execution_count": 3,
   "metadata": {},
   "outputs": [
    {
     "data": {
      "text/plain": [
       "'c:\\\\jupyter\\\\Explainable Healthcare framework\\\\Explainable_healthcareframework'"
      ]
     },
     "execution_count": 3,
     "metadata": {},
     "output_type": "execute_result"
    }
   ],
   "source": [
    "path"
   ]
  },
  {
   "cell_type": "code",
   "execution_count": 4,
   "metadata": {},
   "outputs": [],
   "source": [
    "# df_seoul=pd.read_excel(path+\"\\\\data\\\\1.원본 데이터_통합본_서울초.xlsx\",sheet_name=None)\n",
    "df_jeju=pd.read_excel(path+\"\\\\data\\\\1.원본 데이터_통합본_제주초.xlsx\",sheet_name=None)\n",
    "\n",
    "# # 서울초등학교 일때\n",
    "# df=df_seoul\n",
    "\n",
    "# 제주초등학교일때\n",
    "df=df_jeju"
   ]
  },
  {
   "cell_type": "code",
   "execution_count": 5,
   "metadata": {},
   "outputs": [],
   "source": [
    "df_user = df['User']\n",
    "df_body = df['Body']\n",
    "df_offline = df['오프라인 측정 정보']\n",
    "df_mediator = df['중재군 특별미션 정보']\n",
    "df_stepcount = df['Step Count']\n",
    "df_exercise = df['Exercise']\n",
    "df_nutrition= df['Nutrition']\n",
    "df_sleep= df['Sleep']\n",
    "df_rewqrd= df['리워드 데이터']\n",
    "df_competition=df['대결 데이터']"
   ]
  },
  {
   "cell_type": "markdown",
   "metadata": {},
   "source": [
    "# 통합 시트 만들기"
   ]
  },
  {
   "cell_type": "markdown",
   "metadata": {},
   "source": [
    "### Body 전처리"
   ]
  },
  {
   "cell_type": "markdown",
   "metadata": {},
   "source": [
    "Height와 Weight 정보를 불러와 동일한 날짜 기준으로 평균값을 정리합니다.\n",
    "이는 같은 날짜에 서로 다른 시간대에 측정된 데이터가 기록된 경우를 고려하기 위함입니다."
   ]
  },
  {
   "cell_type": "code",
   "execution_count": 6,
   "metadata": {},
   "outputs": [
    {
     "data": {
      "text/plain": [
       "82"
      ]
     },
     "execution_count": 6,
     "metadata": {},
     "output_type": "execute_result"
    }
   ],
   "source": [
    "df_body['collect_datetime'] = pd.to_datetime(df_body['collect_datetime']).dt.strftime('%Y-%m-%d')\n",
    "grouped_df_body = df_body.groupby(['ID', 'collect_datetime']).mean().reset_index()\n",
    "\n",
    "len(grouped_df_body['ID'].unique())"
   ]
  },
  {
   "cell_type": "markdown",
   "metadata": {},
   "source": [
    "### Stepcount 전처리"
   ]
  },
  {
   "cell_type": "markdown",
   "metadata": {},
   "source": [
    "stepcount 동일한 날짜 기준으로 값을 SUM 해서 총합으로 정리합니다."
   ]
  },
  {
   "cell_type": "code",
   "execution_count": 7,
   "metadata": {},
   "outputs": [],
   "source": [
    "# 통일된 컬럼명을 위해 아래와 같이 이름을 바꿔준다.\n",
    "df_stepcount.rename(columns={'date': 'collect_datetime','step_count': 'step count'}, inplace=True)\n",
    "\n",
    "df_stepcount['collect_datetime'] = pd.to_datetime(df_stepcount['collect_datetime']).dt.strftime('%Y-%m-%d')\n",
    "\n",
    "grouped_df_stepcount= df_stepcount.groupby(['ID', 'collect_datetime']).sum().reset_index()"
   ]
  },
  {
   "cell_type": "markdown",
   "metadata": {},
   "source": [
    "### Exercise 전처리"
   ]
  },
  {
   "cell_type": "markdown",
   "metadata": {},
   "source": [
    "운동량인 burned calory는 오타가 있어기에 burned calorie로 수정하였습니다.\n",
    "또한 동일날짜내에 여러기록이 있는 경우가 있어 날짜별로 groupby를 수행하였고 sum을 진행하였습니다. "
   ]
  },
  {
   "cell_type": "code",
   "execution_count": 8,
   "metadata": {},
   "outputs": [
    {
     "name": "stderr",
     "output_type": "stream",
     "text": [
      "C:\\Users\\jaemin\\AppData\\Local\\Temp\\ipykernel_34880\\2006701501.py:2: SettingWithCopyWarning: \n",
      "A value is trying to be set on a copy of a slice from a DataFrame\n",
      "\n",
      "See the caveats in the documentation: https://pandas.pydata.org/pandas-docs/stable/user_guide/indexing.html#returning-a-view-versus-a-copy\n",
      "  df_exercise.rename(columns={'date': 'collect_datetime','burned calory(Kcal)': 'burned calorie'}, inplace=True)\n",
      "C:\\Users\\jaemin\\AppData\\Local\\Temp\\ipykernel_34880\\2006701501.py:3: SettingWithCopyWarning: \n",
      "A value is trying to be set on a copy of a slice from a DataFrame.\n",
      "Try using .loc[row_indexer,col_indexer] = value instead\n",
      "\n",
      "See the caveats in the documentation: https://pandas.pydata.org/pandas-docs/stable/user_guide/indexing.html#returning-a-view-versus-a-copy\n",
      "  df_exercise['collect_datetime'] = pd.to_datetime(df_exercise['collect_datetime']).dt.strftime('%Y-%m-%d')\n"
     ]
    }
   ],
   "source": [
    "df_exercise=df_exercise[['ID',\"date\",\"burned calory(Kcal)\"]]\n",
    "df_exercise.rename(columns={'date': 'collect_datetime','burned calory(Kcal)': 'burned calorie'}, inplace=True)\n",
    "df_exercise['collect_datetime'] = pd.to_datetime(df_exercise['collect_datetime']).dt.strftime('%Y-%m-%d')\n",
    "grouped_df_exercise= df_exercise.groupby(['ID', 'collect_datetime']).sum().reset_index()"
   ]
  },
  {
   "cell_type": "markdown",
   "metadata": {},
   "source": [
    "### Nutrition 전처리"
   ]
  },
  {
   "cell_type": "markdown",
   "metadata": {},
   "source": [
    "칼로리 섭취량도 이름표기 수정  \n",
    "또한 날짜별 groupby를 해서 칼로리 총합 계산"
   ]
  },
  {
   "cell_type": "code",
   "execution_count": 9,
   "metadata": {},
   "outputs": [
    {
     "name": "stderr",
     "output_type": "stream",
     "text": [
      "C:\\Users\\jaemin\\AppData\\Local\\Temp\\ipykernel_34880\\1437399790.py:2: SettingWithCopyWarning: \n",
      "A value is trying to be set on a copy of a slice from a DataFrame\n",
      "\n",
      "See the caveats in the documentation: https://pandas.pydata.org/pandas-docs/stable/user_guide/indexing.html#returning-a-view-versus-a-copy\n",
      "  df_nutrition.rename(columns={'date': 'collect_datetime','eat_calory(Kcal)': 'eat calorie'}, inplace=True)\n",
      "C:\\Users\\jaemin\\AppData\\Local\\Temp\\ipykernel_34880\\1437399790.py:3: SettingWithCopyWarning: \n",
      "A value is trying to be set on a copy of a slice from a DataFrame.\n",
      "Try using .loc[row_indexer,col_indexer] = value instead\n",
      "\n",
      "See the caveats in the documentation: https://pandas.pydata.org/pandas-docs/stable/user_guide/indexing.html#returning-a-view-versus-a-copy\n",
      "  df_nutrition['collect_datetime'] = pd.to_datetime(df_nutrition['collect_datetime']).dt.strftime('%Y-%m-%d')\n"
     ]
    }
   ],
   "source": [
    "df_nutrition=df_nutrition[['ID',\"date\",\"eat_calory(Kcal)\"]]\n",
    "df_nutrition.rename(columns={'date': 'collect_datetime','eat_calory(Kcal)': 'eat calorie'}, inplace=True)\n",
    "df_nutrition['collect_datetime'] = pd.to_datetime(df_nutrition['collect_datetime']).dt.strftime('%Y-%m-%d')\n",
    "grouped_df_nutrition= df_nutrition.groupby(['ID', 'collect_datetime']).sum().reset_index()"
   ]
  },
  {
   "cell_type": "markdown",
   "metadata": {},
   "source": [
    "### Sleep 전처리"
   ]
  },
  {
   "cell_type": "markdown",
   "metadata": {},
   "source": [
    "수면시간도 이름표기 수정  \n",
    "또한 날짜별 groupby를 해서 수면시간 총합 계산"
   ]
  },
  {
   "cell_type": "code",
   "execution_count": 10,
   "metadata": {},
   "outputs": [
    {
     "name": "stderr",
     "output_type": "stream",
     "text": [
      "C:\\Users\\jaemin\\AppData\\Local\\Temp\\ipykernel_34880\\2146755943.py:2: SettingWithCopyWarning: \n",
      "A value is trying to be set on a copy of a slice from a DataFrame\n",
      "\n",
      "See the caveats in the documentation: https://pandas.pydata.org/pandas-docs/stable/user_guide/indexing.html#returning-a-view-versus-a-copy\n",
      "  df_sleep.rename(columns={'date': 'collect_datetime','total_sleep_minute': 'sleep time'}, inplace=True)\n",
      "C:\\Users\\jaemin\\AppData\\Local\\Temp\\ipykernel_34880\\2146755943.py:3: SettingWithCopyWarning: \n",
      "A value is trying to be set on a copy of a slice from a DataFrame.\n",
      "Try using .loc[row_indexer,col_indexer] = value instead\n",
      "\n",
      "See the caveats in the documentation: https://pandas.pydata.org/pandas-docs/stable/user_guide/indexing.html#returning-a-view-versus-a-copy\n",
      "  df_sleep['collect_datetime'] = pd.to_datetime(df_sleep['collect_datetime']).dt.strftime('%Y-%m-%d')\n"
     ]
    }
   ],
   "source": [
    "df_sleep=df_sleep[['ID',\"date\",\"total_sleep_minute\"]]\n",
    "df_sleep.rename(columns={'date': 'collect_datetime','total_sleep_minute': 'sleep time'}, inplace=True)\n",
    "df_sleep['collect_datetime'] = pd.to_datetime(df_sleep['collect_datetime']).dt.strftime('%Y-%m-%d')\n",
    "grouped_df_sleep= df_sleep.groupby(['ID', 'collect_datetime']).sum().reset_index()"
   ]
  },
  {
   "cell_type": "markdown",
   "metadata": {},
   "source": [
    "### 데이터 시트 merge"
   ]
  },
  {
   "cell_type": "markdown",
   "metadata": {},
   "source": [
    "제주초등학교 실험기간은 2023-09-18~2023-11-12이므로 다음날짜 기간에 해당하는 데이터프레임 만들기  \n",
    "인원 수 총 82명"
   ]
  },
  {
   "cell_type": "code",
   "execution_count": 11,
   "metadata": {},
   "outputs": [],
   "source": [
    "# 필터링 기준 날짜 설정\n",
    "start_date = '2023-09-18'\n",
    "end_date = '2023-11-12'"
   ]
  },
  {
   "cell_type": "code",
   "execution_count": 12,
   "metadata": {},
   "outputs": [
    {
     "data": {
      "text/plain": [
       "82"
      ]
     },
     "execution_count": 12,
     "metadata": {},
     "output_type": "execute_result"
    }
   ],
   "source": [
    "len(grouped_df_body['ID'].unique())"
   ]
  },
  {
   "cell_type": "code",
   "execution_count": 13,
   "metadata": {},
   "outputs": [],
   "source": [
    "date_range = pd.date_range(start=start_date, end=end_date)\n",
    "\n",
    "# 각 ID에 대해 날짜 범위를 반복하여 데이터프레임 생성\n",
    "data = {\n",
    "    'ID': np.repeat(grouped_df_body['ID'].unique(),  len(date_range)),\n",
    "    'collect_datetime': list(date_range) * len(grouped_df_body['ID'].unique())\n",
    "}\n",
    "\n",
    "df = pd.DataFrame(data)"
   ]
  },
  {
   "cell_type": "code",
   "execution_count": 14,
   "metadata": {},
   "outputs": [],
   "source": [
    "# 해당하는 날짜에 각 변수데이터 맵핑: 키, 몸무게, 먹은 칼로리,걸음수,수면시간,태운 칼로리량\n",
    "grouped_df_body['collect_datetime'] = pd.to_datetime(grouped_df_body['collect_datetime'])\n",
    "grouped_df_stepcount['collect_datetime'] = pd.to_datetime(grouped_df_stepcount['collect_datetime'])\n",
    "grouped_df_nutrition['collect_datetime'] = pd.to_datetime(grouped_df_nutrition['collect_datetime'])\n",
    "grouped_df_exercise['collect_datetime'] = pd.to_datetime(grouped_df_exercise['collect_datetime'])\n",
    "grouped_df_sleep['collect_datetime'] = pd.to_datetime(grouped_df_sleep['collect_datetime'])"
   ]
  },
  {
   "cell_type": "code",
   "execution_count": 15,
   "metadata": {},
   "outputs": [],
   "source": [
    "# 전체 하나의 데이터프레임으로 merge\n",
    "filtered_df = pd.merge(df, grouped_df_body, on=['ID', 'collect_datetime'], how='left')\n",
    "filtered_df = pd.merge(filtered_df, grouped_df_stepcount, on=['ID', 'collect_datetime'], how='left')\n",
    "filtered_df = pd.merge(filtered_df, grouped_df_nutrition, on=['ID', 'collect_datetime'], how='left')\n",
    "filtered_df = pd.merge(filtered_df, grouped_df_exercise, on=['ID', 'collect_datetime'], how='left')\n",
    "filtered_df = pd.merge(filtered_df, grouped_df_sleep, on=['ID', 'collect_datetime'], how='left')"
   ]
  },
  {
   "cell_type": "code",
   "execution_count": 16,
   "metadata": {},
   "outputs": [],
   "source": [
    "# User 정보 맵핑을 위한 전처리\n",
    "df_user = df_user.drop(index=0)\n",
    "# 인덱스를 재설정\n",
    "df_user = df_user.reset_index(drop=True)\n",
    "df_user_g=df_user[['ID','gender','grade']]"
   ]
  },
  {
   "cell_type": "code",
   "execution_count": 17,
   "metadata": {},
   "outputs": [],
   "source": [
    "filtered_df = pd.merge(filtered_df, df_user_g, on='ID', how='left')\n"
   ]
  },
  {
   "cell_type": "markdown",
   "metadata": {},
   "source": [
    "## 이탈자 제거"
   ]
  },
  {
   "cell_type": "markdown",
   "metadata": {},
   "source": [
    "휴리스틱한 방법으로 아래 아이디는 이탈자로 기록(Injewelme 측에서 기록되어 고지)되어 제거"
   ]
  },
  {
   "cell_type": "code",
   "execution_count": 18,
   "metadata": {},
   "outputs": [],
   "source": [
    "ID_name=['#LTLEKW','#ZFKAAY','#HUPKFW','#HTITUK','#QWBXZB']"
   ]
  },
  {
   "cell_type": "code",
   "execution_count": 19,
   "metadata": {},
   "outputs": [],
   "source": [
    "filtered_df = filtered_df[~filtered_df['ID'].isin(ID_name)]"
   ]
  },
  {
   "cell_type": "code",
   "execution_count": 20,
   "metadata": {},
   "outputs": [],
   "source": [
    "filtered_df.to_csv(path+'\\\\data\\\\2.원본데이터 필터링후 전처리 전_제주초.csv',encoding=\"cp949\",index=False)"
   ]
  },
  {
   "cell_type": "markdown",
   "metadata": {},
   "source": [
    "## 이상치 전처리_from 급식식단정보"
   ]
  },
  {
   "cell_type": "markdown",
   "metadata": {},
   "source": [
    "위 데이터세트는 제주초등학교의 급식식단 정보(3.제주하귀일초_급식식단정보)를 크롤링한 자료를 사용  \n",
    "사용이유: 모든 일별 데이터를 사용자가 기록하지 못하기 때문에 한끼만 기록하거나 결측치가 있는 경우가 많다    \n",
    "따라서 한끼만 기록된 경우는 곱하기 3으로 하고 결측일 경우 본 급식정보를 칼로리에서 곱하기 3으로 하려한다.  "
   ]
  },
  {
   "cell_type": "code",
   "execution_count": 21,
   "metadata": {},
   "outputs": [],
   "source": [
    "df_dietboard=pd.read_csv(path+\"\\\\data\\\\3.제주초_급식식단정보.csv\")"
   ]
  },
  {
   "cell_type": "code",
   "execution_count": 22,
   "metadata": {},
   "outputs": [
    {
     "data": {
      "text/html": [
       "<div>\n",
       "<style scoped>\n",
       "    .dataframe tbody tr th:only-of-type {\n",
       "        vertical-align: middle;\n",
       "    }\n",
       "\n",
       "    .dataframe tbody tr th {\n",
       "        vertical-align: top;\n",
       "    }\n",
       "\n",
       "    .dataframe thead th {\n",
       "        text-align: right;\n",
       "    }\n",
       "</style>\n",
       "<table border=\"1\" class=\"dataframe\">\n",
       "  <thead>\n",
       "    <tr style=\"text-align: right;\">\n",
       "      <th></th>\n",
       "      <th>시도교육청코드</th>\n",
       "      <th>시도교육청명</th>\n",
       "      <th>행정표준코드</th>\n",
       "      <th>학교명</th>\n",
       "      <th>식사코드</th>\n",
       "      <th>식사명</th>\n",
       "      <th>급식일자</th>\n",
       "      <th>급식인원수</th>\n",
       "      <th>요리명</th>\n",
       "      <th>원산지정보</th>\n",
       "      <th>칼로리정보</th>\n",
       "      <th>영양정보</th>\n",
       "      <th>수정일자</th>\n",
       "    </tr>\n",
       "  </thead>\n",
       "  <tbody>\n",
       "    <tr>\n",
       "      <th>0</th>\n",
       "      <td>T10</td>\n",
       "      <td>제주특별자치도교육청</td>\n",
       "      <td>9296181</td>\n",
       "      <td>하귀일초등학교</td>\n",
       "      <td>2</td>\n",
       "      <td>중식</td>\n",
       "      <td>20230918</td>\n",
       "      <td>613.0</td>\n",
       "      <td>*검정쌀현미찹쌀밥 &lt;br/&gt;*등뼈감자탕 (5.6.10)&lt;br/&gt;*고구마줄기무침 (5...</td>\n",
       "      <td>쇠고기(종류) : 제주산한우&lt;br/&gt;쇠고기 식육가공품 : 국내산&lt;br/&gt;돼지고기 :...</td>\n",
       "      <td>636.9 Kcal</td>\n",
       "      <td>탄수화물(g) : 86.8&lt;br/&gt;단백질(g) : 27.9&lt;br/&gt;지방(g) : 1...</td>\n",
       "      <td>20230925</td>\n",
       "    </tr>\n",
       "    <tr>\n",
       "      <th>1</th>\n",
       "      <td>T10</td>\n",
       "      <td>제주특별자치도교육청</td>\n",
       "      <td>9296181</td>\n",
       "      <td>하귀일초등학교</td>\n",
       "      <td>2</td>\n",
       "      <td>중식</td>\n",
       "      <td>20230919</td>\n",
       "      <td>701.0</td>\n",
       "      <td>*보리밥 &lt;br/&gt;*시래기된장국 (5.6)&lt;br/&gt;*도토리묵치커리무침 (5.6.13...</td>\n",
       "      <td>쇠고기(종류) : 제주산한우&lt;br/&gt;쇠고기 식육가공품 : 국내산&lt;br/&gt;돼지고기 :...</td>\n",
       "      <td>635.8 Kcal</td>\n",
       "      <td>탄수화물(g) : 85.5&lt;br/&gt;단백질(g) : 29.6&lt;br/&gt;지방(g) : 1...</td>\n",
       "      <td>20230926</td>\n",
       "    </tr>\n",
       "    <tr>\n",
       "      <th>2</th>\n",
       "      <td>T10</td>\n",
       "      <td>제주특별자치도교육청</td>\n",
       "      <td>9296181</td>\n",
       "      <td>하귀일초등학교</td>\n",
       "      <td>2</td>\n",
       "      <td>중식</td>\n",
       "      <td>20230920</td>\n",
       "      <td>701.0</td>\n",
       "      <td>*동초나물무침 (5.6)&lt;br/&gt;*치킨커틀렛 (1.2.5.6.12.13.15)&lt;br...</td>\n",
       "      <td>쇠고기(종류) : 제주산한우&lt;br/&gt;쇠고기 식육가공품 : 국내산&lt;br/&gt;돼지고기 :...</td>\n",
       "      <td>664.9 Kcal</td>\n",
       "      <td>탄수화물(g) : 85.3&lt;br/&gt;단백질(g) : 37.5&lt;br/&gt;지방(g) : 1...</td>\n",
       "      <td>20230927</td>\n",
       "    </tr>\n",
       "    <tr>\n",
       "      <th>3</th>\n",
       "      <td>T10</td>\n",
       "      <td>제주특별자치도교육청</td>\n",
       "      <td>9296181</td>\n",
       "      <td>하귀일초등학교</td>\n",
       "      <td>2</td>\n",
       "      <td>중식</td>\n",
       "      <td>20230921</td>\n",
       "      <td>701.0</td>\n",
       "      <td>*통곡물현미밥 &lt;br/&gt;*콩나물김칫국 (5.6.9)&lt;br/&gt;*감자조림 (5.6.13...</td>\n",
       "      <td>쇠고기(종류) : 제주산한우&lt;br/&gt;쇠고기 식육가공품 : 국내산&lt;br/&gt;돼지고기 :...</td>\n",
       "      <td>540.5 Kcal</td>\n",
       "      <td>탄수화물(g) : 88.7&lt;br/&gt;단백질(g) : 21.0&lt;br/&gt;지방(g) : 1...</td>\n",
       "      <td>20230928</td>\n",
       "    </tr>\n",
       "    <tr>\n",
       "      <th>4</th>\n",
       "      <td>T10</td>\n",
       "      <td>제주특별자치도교육청</td>\n",
       "      <td>9296181</td>\n",
       "      <td>하귀일초등학교</td>\n",
       "      <td>2</td>\n",
       "      <td>중식</td>\n",
       "      <td>20230922</td>\n",
       "      <td>701.0</td>\n",
       "      <td>*무된장국 (5.6)&lt;br/&gt;*마파두부덮밥(채식) (5.6.12.13.18)&lt;br/...</td>\n",
       "      <td>쇠고기(종류) : 제주산한우&lt;br/&gt;쇠고기 식육가공품 : 국내산&lt;br/&gt;돼지고기 :...</td>\n",
       "      <td>658.4 Kcal</td>\n",
       "      <td>탄수화물(g) : 99.1&lt;br/&gt;단백질(g) : 24.0&lt;br/&gt;지방(g) : 1...</td>\n",
       "      <td>20230929</td>\n",
       "    </tr>\n",
       "  </tbody>\n",
       "</table>\n",
       "</div>"
      ],
      "text/plain": [
       "  시도교육청코드      시도교육청명   행정표준코드      학교명  식사코드 식사명      급식일자  급식인원수  \\\n",
       "0     T10  제주특별자치도교육청  9296181  하귀일초등학교     2  중식  20230918  613.0   \n",
       "1     T10  제주특별자치도교육청  9296181  하귀일초등학교     2  중식  20230919  701.0   \n",
       "2     T10  제주특별자치도교육청  9296181  하귀일초등학교     2  중식  20230920  701.0   \n",
       "3     T10  제주특별자치도교육청  9296181  하귀일초등학교     2  중식  20230921  701.0   \n",
       "4     T10  제주특별자치도교육청  9296181  하귀일초등학교     2  중식  20230922  701.0   \n",
       "\n",
       "                                                 요리명  \\\n",
       "0  *검정쌀현미찹쌀밥 <br/>*등뼈감자탕 (5.6.10)<br/>*고구마줄기무침 (5...   \n",
       "1  *보리밥 <br/>*시래기된장국 (5.6)<br/>*도토리묵치커리무침 (5.6.13...   \n",
       "2  *동초나물무침 (5.6)<br/>*치킨커틀렛 (1.2.5.6.12.13.15)<br...   \n",
       "3  *통곡물현미밥 <br/>*콩나물김칫국 (5.6.9)<br/>*감자조림 (5.6.13...   \n",
       "4  *무된장국 (5.6)<br/>*마파두부덮밥(채식) (5.6.12.13.18)<br/...   \n",
       "\n",
       "                                               원산지정보       칼로리정보  \\\n",
       "0  쇠고기(종류) : 제주산한우<br/>쇠고기 식육가공품 : 국내산<br/>돼지고기 :...  636.9 Kcal   \n",
       "1  쇠고기(종류) : 제주산한우<br/>쇠고기 식육가공품 : 국내산<br/>돼지고기 :...  635.8 Kcal   \n",
       "2  쇠고기(종류) : 제주산한우<br/>쇠고기 식육가공품 : 국내산<br/>돼지고기 :...  664.9 Kcal   \n",
       "3  쇠고기(종류) : 제주산한우<br/>쇠고기 식육가공품 : 국내산<br/>돼지고기 :...  540.5 Kcal   \n",
       "4  쇠고기(종류) : 제주산한우<br/>쇠고기 식육가공품 : 국내산<br/>돼지고기 :...  658.4 Kcal   \n",
       "\n",
       "                                                영양정보      수정일자  \n",
       "0  탄수화물(g) : 86.8<br/>단백질(g) : 27.9<br/>지방(g) : 1...  20230925  \n",
       "1  탄수화물(g) : 85.5<br/>단백질(g) : 29.6<br/>지방(g) : 1...  20230926  \n",
       "2  탄수화물(g) : 85.3<br/>단백질(g) : 37.5<br/>지방(g) : 1...  20230927  \n",
       "3  탄수화물(g) : 88.7<br/>단백질(g) : 21.0<br/>지방(g) : 1...  20230928  \n",
       "4  탄수화물(g) : 99.1<br/>단백질(g) : 24.0<br/>지방(g) : 1...  20230929  "
      ]
     },
     "execution_count": 22,
     "metadata": {},
     "output_type": "execute_result"
    }
   ],
   "source": [
    "df_dietboard.head()"
   ]
  },
  {
   "cell_type": "code",
   "execution_count": 23,
   "metadata": {},
   "outputs": [],
   "source": [
    "# 필요한 컬럼정보만 남기고 필터링\n",
    "filtered_df_new=df_dietboard[['학교명','급식일자','요리명','칼로리정보']]"
   ]
  },
  {
   "cell_type": "code",
   "execution_count": 24,
   "metadata": {},
   "outputs": [
    {
     "name": "stderr",
     "output_type": "stream",
     "text": [
      "C:\\Users\\jaemin\\AppData\\Local\\Temp\\ipykernel_34880\\3307377459.py:1: SettingWithCopyWarning: \n",
      "A value is trying to be set on a copy of a slice from a DataFrame.\n",
      "Try using .loc[row_indexer,col_indexer] = value instead\n",
      "\n",
      "See the caveats in the documentation: https://pandas.pydata.org/pandas-docs/stable/user_guide/indexing.html#returning-a-view-versus-a-copy\n",
      "  filtered_df_new['급식일자'] = filtered_df_new['급식일자'].astype(str) # 급식일자 일단 string으로 전환 이상한 오류가 datetime에서 뜸\n",
      "C:\\Users\\jaemin\\AppData\\Local\\Temp\\ipykernel_34880\\3307377459.py:2: SettingWithCopyWarning: \n",
      "A value is trying to be set on a copy of a slice from a DataFrame.\n",
      "Try using .loc[row_indexer,col_indexer] = value instead\n",
      "\n",
      "See the caveats in the documentation: https://pandas.pydata.org/pandas-docs/stable/user_guide/indexing.html#returning-a-view-versus-a-copy\n",
      "  filtered_df_new['급식일자'] = pd.to_datetime(filtered_df_new['급식일자'], format='%Y%m%d') # 급식일자를 년월일로 바꿈\n",
      "C:\\Users\\jaemin\\AppData\\Local\\Temp\\ipykernel_34880\\3307377459.py:3: SettingWithCopyWarning: \n",
      "A value is trying to be set on a copy of a slice from a DataFrame.\n",
      "Try using .loc[row_indexer,col_indexer] = value instead\n",
      "\n",
      "See the caveats in the documentation: https://pandas.pydata.org/pandas-docs/stable/user_guide/indexing.html#returning-a-view-versus-a-copy\n",
      "  filtered_df_new['칼로리정보'] = filtered_df_new['칼로리정보'].str.replace(r'Kcal', '', regex=True).astype(\"float\") # 칼로리 정보만 추출하기 위래 정규화를 통해 필터링\n"
     ]
    }
   ],
   "source": [
    "filtered_df_new['급식일자'] = filtered_df_new['급식일자'].astype(str) # 급식일자 일단 string으로 전환 이상한 오류가 datetime에서 뜸\n",
    "filtered_df_new['급식일자'] = pd.to_datetime(filtered_df_new['급식일자'], format='%Y%m%d') # 급식일자를 년월일로 바꿈\n",
    "filtered_df_new['칼로리정보'] = filtered_df_new['칼로리정보'].str.replace(r'Kcal', '', regex=True).astype(\"float\") # 칼로리 정보만 추출하기 위래 정규화를 통해 필터링"
   ]
  },
  {
   "cell_type": "code",
   "execution_count": 25,
   "metadata": {},
   "outputs": [],
   "source": [
    "### 급식일자 기준으로 merge"
   ]
  },
  {
   "cell_type": "code",
   "execution_count": 26,
   "metadata": {},
   "outputs": [],
   "source": [
    "merge_cafeteria_kcal=filtered_df_new[['급식일자', '칼로리정보']]"
   ]
  },
  {
   "cell_type": "code",
   "execution_count": 27,
   "metadata": {},
   "outputs": [],
   "source": [
    "merged_df = pd.merge(filtered_df, merge_cafeteria_kcal,  left_on='collect_datetime', right_on='급식일자', how='left')\n",
    "merged_df.to_csv(path+\"\\\\data\\\\4.제주초_급식정보&최종데이터세트.csv\",encoding=\"cp949\",index=False)"
   ]
  },
  {
   "cell_type": "markdown",
   "metadata": {},
   "source": [
    "## 데이터 전처리"
   ]
  },
  {
   "cell_type": "markdown",
   "metadata": {},
   "source": [
    "순차적으로 height,weight,eat calorie, step count, sleep time, burned calorie 전처리"
   ]
  },
  {
   "cell_type": "code",
   "execution_count": 28,
   "metadata": {},
   "outputs": [],
   "source": [
    "sorted_total = merged_df.sort_values(by=['ID', 'collect_datetime']).reset_index(drop=True)"
   ]
  },
  {
   "cell_type": "markdown",
   "metadata": {},
   "source": [
    "### height, weight 전처리"
   ]
  },
  {
   "cell_type": "code",
   "execution_count": 29,
   "metadata": {},
   "outputs": [],
   "source": [
    "from Datapreprocessing.HeighWeight_preprocessing import DataProcessor # 선형보간법으로 채우고 그래도 안\n",
    "\n",
    "processor = DataProcessor(sorted_total)\n",
    "sorted_total_processor=processor.result"
   ]
  },
  {
   "cell_type": "code",
   "execution_count": 30,
   "metadata": {},
   "outputs": [
    {
     "data": {
      "text/html": [
       "<div>\n",
       "<style scoped>\n",
       "    .dataframe tbody tr th:only-of-type {\n",
       "        vertical-align: middle;\n",
       "    }\n",
       "\n",
       "    .dataframe tbody tr th {\n",
       "        vertical-align: top;\n",
       "    }\n",
       "\n",
       "    .dataframe thead th {\n",
       "        text-align: right;\n",
       "    }\n",
       "</style>\n",
       "<table border=\"1\" class=\"dataframe\">\n",
       "  <thead>\n",
       "    <tr style=\"text-align: right;\">\n",
       "      <th></th>\n",
       "      <th>ID</th>\n",
       "      <th>collect_datetime</th>\n",
       "      <th>height</th>\n",
       "      <th>weight</th>\n",
       "      <th>step count</th>\n",
       "      <th>eat calorie</th>\n",
       "      <th>burned calorie</th>\n",
       "      <th>sleep time</th>\n",
       "      <th>gender</th>\n",
       "      <th>grade</th>\n",
       "      <th>급식일자</th>\n",
       "      <th>칼로리정보</th>\n",
       "    </tr>\n",
       "  </thead>\n",
       "  <tbody>\n",
       "    <tr>\n",
       "      <th>0</th>\n",
       "      <td>#AGEKKL</td>\n",
       "      <td>2023-09-18</td>\n",
       "      <td>143.0</td>\n",
       "      <td>33.0</td>\n",
       "      <td>888.0</td>\n",
       "      <td>NaN</td>\n",
       "      <td>66.4855</td>\n",
       "      <td>492.0</td>\n",
       "      <td>2</td>\n",
       "      <td>5</td>\n",
       "      <td>2023-09-18</td>\n",
       "      <td>636.9</td>\n",
       "    </tr>\n",
       "    <tr>\n",
       "      <th>1</th>\n",
       "      <td>#AGEKKL</td>\n",
       "      <td>2023-09-19</td>\n",
       "      <td>143.0</td>\n",
       "      <td>33.1</td>\n",
       "      <td>7865.0</td>\n",
       "      <td>386.0</td>\n",
       "      <td>68.9700</td>\n",
       "      <td>379.0</td>\n",
       "      <td>2</td>\n",
       "      <td>5</td>\n",
       "      <td>2023-09-19</td>\n",
       "      <td>635.8</td>\n",
       "    </tr>\n",
       "    <tr>\n",
       "      <th>2</th>\n",
       "      <td>#AGEKKL</td>\n",
       "      <td>2023-09-20</td>\n",
       "      <td>143.0</td>\n",
       "      <td>33.1</td>\n",
       "      <td>9243.0</td>\n",
       "      <td>1253.0</td>\n",
       "      <td>18.5920</td>\n",
       "      <td>430.0</td>\n",
       "      <td>2</td>\n",
       "      <td>5</td>\n",
       "      <td>2023-09-20</td>\n",
       "      <td>664.9</td>\n",
       "    </tr>\n",
       "    <tr>\n",
       "      <th>3</th>\n",
       "      <td>#AGEKKL</td>\n",
       "      <td>2023-09-21</td>\n",
       "      <td>143.0</td>\n",
       "      <td>33.6</td>\n",
       "      <td>7820.0</td>\n",
       "      <td>786.0</td>\n",
       "      <td>47.4100</td>\n",
       "      <td>474.0</td>\n",
       "      <td>2</td>\n",
       "      <td>5</td>\n",
       "      <td>2023-09-21</td>\n",
       "      <td>540.5</td>\n",
       "    </tr>\n",
       "    <tr>\n",
       "      <th>4</th>\n",
       "      <td>#AGEKKL</td>\n",
       "      <td>2023-09-22</td>\n",
       "      <td>143.0</td>\n",
       "      <td>33.6</td>\n",
       "      <td>4653.0</td>\n",
       "      <td>547.0</td>\n",
       "      <td>66.4855</td>\n",
       "      <td>423.0</td>\n",
       "      <td>2</td>\n",
       "      <td>5</td>\n",
       "      <td>2023-09-22</td>\n",
       "      <td>658.4</td>\n",
       "    </tr>\n",
       "    <tr>\n",
       "      <th>...</th>\n",
       "      <td>...</td>\n",
       "      <td>...</td>\n",
       "      <td>...</td>\n",
       "      <td>...</td>\n",
       "      <td>...</td>\n",
       "      <td>...</td>\n",
       "      <td>...</td>\n",
       "      <td>...</td>\n",
       "      <td>...</td>\n",
       "      <td>...</td>\n",
       "      <td>...</td>\n",
       "      <td>...</td>\n",
       "    </tr>\n",
       "    <tr>\n",
       "      <th>4307</th>\n",
       "      <td>#ZPOZWB</td>\n",
       "      <td>2023-11-08</td>\n",
       "      <td>150.4</td>\n",
       "      <td>45.1</td>\n",
       "      <td>NaN</td>\n",
       "      <td>NaN</td>\n",
       "      <td>66.4855</td>\n",
       "      <td>492.0</td>\n",
       "      <td>2</td>\n",
       "      <td>5</td>\n",
       "      <td>2023-11-08</td>\n",
       "      <td>664.4</td>\n",
       "    </tr>\n",
       "    <tr>\n",
       "      <th>4308</th>\n",
       "      <td>#ZPOZWB</td>\n",
       "      <td>2023-11-09</td>\n",
       "      <td>150.4</td>\n",
       "      <td>45.1</td>\n",
       "      <td>837.0</td>\n",
       "      <td>806.0</td>\n",
       "      <td>66.4855</td>\n",
       "      <td>384.0</td>\n",
       "      <td>2</td>\n",
       "      <td>5</td>\n",
       "      <td>2023-11-09</td>\n",
       "      <td>527.2</td>\n",
       "    </tr>\n",
       "    <tr>\n",
       "      <th>4309</th>\n",
       "      <td>#ZPOZWB</td>\n",
       "      <td>2023-11-10</td>\n",
       "      <td>150.4</td>\n",
       "      <td>45.1</td>\n",
       "      <td>NaN</td>\n",
       "      <td>NaN</td>\n",
       "      <td>66.4855</td>\n",
       "      <td>492.0</td>\n",
       "      <td>2</td>\n",
       "      <td>5</td>\n",
       "      <td>2023-11-10</td>\n",
       "      <td>688.5</td>\n",
       "    </tr>\n",
       "    <tr>\n",
       "      <th>4310</th>\n",
       "      <td>#ZPOZWB</td>\n",
       "      <td>2023-11-11</td>\n",
       "      <td>150.4</td>\n",
       "      <td>45.1</td>\n",
       "      <td>NaN</td>\n",
       "      <td>NaN</td>\n",
       "      <td>66.4855</td>\n",
       "      <td>492.0</td>\n",
       "      <td>2</td>\n",
       "      <td>5</td>\n",
       "      <td>NaT</td>\n",
       "      <td>NaN</td>\n",
       "    </tr>\n",
       "    <tr>\n",
       "      <th>4311</th>\n",
       "      <td>#ZPOZWB</td>\n",
       "      <td>2023-11-12</td>\n",
       "      <td>150.4</td>\n",
       "      <td>45.1</td>\n",
       "      <td>NaN</td>\n",
       "      <td>NaN</td>\n",
       "      <td>66.4855</td>\n",
       "      <td>492.0</td>\n",
       "      <td>2</td>\n",
       "      <td>5</td>\n",
       "      <td>NaT</td>\n",
       "      <td>NaN</td>\n",
       "    </tr>\n",
       "  </tbody>\n",
       "</table>\n",
       "<p>4312 rows × 12 columns</p>\n",
       "</div>"
      ],
      "text/plain": [
       "           ID collect_datetime  height  weight  step count  eat calorie  \\\n",
       "0     #AGEKKL       2023-09-18   143.0    33.0       888.0          NaN   \n",
       "1     #AGEKKL       2023-09-19   143.0    33.1      7865.0        386.0   \n",
       "2     #AGEKKL       2023-09-20   143.0    33.1      9243.0       1253.0   \n",
       "3     #AGEKKL       2023-09-21   143.0    33.6      7820.0        786.0   \n",
       "4     #AGEKKL       2023-09-22   143.0    33.6      4653.0        547.0   \n",
       "...       ...              ...     ...     ...         ...          ...   \n",
       "4307  #ZPOZWB       2023-11-08   150.4    45.1         NaN          NaN   \n",
       "4308  #ZPOZWB       2023-11-09   150.4    45.1       837.0        806.0   \n",
       "4309  #ZPOZWB       2023-11-10   150.4    45.1         NaN          NaN   \n",
       "4310  #ZPOZWB       2023-11-11   150.4    45.1         NaN          NaN   \n",
       "4311  #ZPOZWB       2023-11-12   150.4    45.1         NaN          NaN   \n",
       "\n",
       "      burned calorie  sleep time gender grade       급식일자  칼로리정보  \n",
       "0            66.4855       492.0      2     5 2023-09-18  636.9  \n",
       "1            68.9700       379.0      2     5 2023-09-19  635.8  \n",
       "2            18.5920       430.0      2     5 2023-09-20  664.9  \n",
       "3            47.4100       474.0      2     5 2023-09-21  540.5  \n",
       "4            66.4855       423.0      2     5 2023-09-22  658.4  \n",
       "...              ...         ...    ...   ...        ...    ...  \n",
       "4307         66.4855       492.0      2     5 2023-11-08  664.4  \n",
       "4308         66.4855       384.0      2     5 2023-11-09  527.2  \n",
       "4309         66.4855       492.0      2     5 2023-11-10  688.5  \n",
       "4310         66.4855       492.0      2     5        NaT    NaN  \n",
       "4311         66.4855       492.0      2     5        NaT    NaN  \n",
       "\n",
       "[4312 rows x 12 columns]"
      ]
     },
     "execution_count": 30,
     "metadata": {},
     "output_type": "execute_result"
    }
   ],
   "source": [
    "sorted_total_processor"
   ]
  },
  {
   "cell_type": "markdown",
   "metadata": {},
   "source": [
    "### Eat calorie 전처리"
   ]
  },
  {
   "cell_type": "markdown",
   "metadata": {},
   "source": [
    "모든 데이터가 1회 기록 되었고 3끼 먹었다고 가정하여 확장"
   ]
  },
  {
   "cell_type": "code",
   "execution_count": 31,
   "metadata": {},
   "outputs": [],
   "source": [
    "df_eat=sorted_total_processor"
   ]
  },
  {
   "cell_type": "code",
   "execution_count": 32,
   "metadata": {},
   "outputs": [
    {
     "data": {
      "text/plain": [
       "count     2037.000000\n",
       "mean      1203.280511\n",
       "std        948.311687\n",
       "min          3.000000\n",
       "25%        531.900000\n",
       "50%        941.300000\n",
       "75%       1715.000000\n",
       "max      10865.000000\n",
       "Name: eat calorie, dtype: float64"
      ]
     },
     "execution_count": 32,
     "metadata": {},
     "output_type": "execute_result"
    }
   ],
   "source": [
    "df_eat['eat calorie'].describe() # 아래와 같은 사분위값으로 나옴"
   ]
  },
  {
   "cell_type": "code",
   "execution_count": 33,
   "metadata": {},
   "outputs": [],
   "source": [
    "total_eat=df_eat['eat calorie']\n",
    "total_eat=total_eat.dropna()\n",
    "total_eat_np=total_eat.to_numpy()"
   ]
  },
  {
   "cell_type": "code",
   "execution_count": 34,
   "metadata": {},
   "outputs": [
    {
     "data": {
      "image/png": "[encoded data removed]",
      "text/plain": [
       "<Figure size 400x300 with 1 Axes>"
      ]
     },
     "metadata": {},
     "output_type": "display_data"
    }
   ],
   "source": [
    "import matplotlib.pyplot as plt\n",
    "import numpy as np\n",
    "plt.style.use('default')\n",
    "plt.rcParams['figure.figsize'] = (4, 3)\n",
    "plt.rcParams['font.size'] = 12\n",
    "\n",
    "fig, ax = plt.subplots()\n",
    "\n",
    "ax.boxplot(total_eat_np)\n",
    "ax.set_xlabel('eat calorie')\n",
    "ax.set_ylabel('Kcal')\n",
    "\n",
    "plt.show()"
   ]
  },
  {
   "cell_type": "code",
   "execution_count": 35,
   "metadata": {},
   "outputs": [],
   "source": [
    "df_eat.loc[df_eat['eat calorie'] < 100, 'eat calorie'] = np.nan # 100 칼로리는 너무 적으므로 이상치로 널값으로 대체\n",
    "\n",
    "df_eat['eat calorie']=df_eat['eat calorie']*3 # 권장 칼로리가 약 2200칼로리인데 대부분 941 칼로리로 대부분 미달인 상태 하루 한끼 내지 두끼만 기록된 것으로 보임\n",
    "                                              # 따락서"
   ]
  },
  {
   "cell_type": "code",
   "execution_count": 36,
   "metadata": {},
   "outputs": [
    {
     "data": {
      "text/plain": [
       "count     1994.000000\n",
       "mean      3683.887763\n",
       "std       2829.887081\n",
       "min        306.000000\n",
       "25%       1626.000000\n",
       "50%       2911.500000\n",
       "75%       5180.250000\n",
       "max      32595.000000\n",
       "Name: eat calorie, dtype: float64"
      ]
     },
     "execution_count": 36,
     "metadata": {},
     "output_type": "execute_result"
    }
   ],
   "source": [
    "df_eat['eat calorie'].describe() # 그러면 아래와 같은 사분위값이 나오게 된다"
   ]
  },
  {
   "cell_type": "markdown",
   "metadata": {},
   "source": [
    "### Eat calorie 결측치 채우기"
   ]
  },
  {
   "cell_type": "markdown",
   "metadata": {},
   "source": [
    "경우의 수  \n",
    "1. 널값인데 해당일에 급식 칼로리정보가 있는 경우\n",
    "2. 널값인데 해당일에 급식 칼로리정보가 없는 경우"
   ]
  },
  {
   "cell_type": "markdown",
   "metadata": {},
   "source": [
    "### eat calorie는 널값인데 급식 칼로리정보가 있는 경우\n",
    "급식칼로리 정보*3을 해서 널값을 채운다."
   ]
  },
  {
   "cell_type": "code",
   "execution_count": 37,
   "metadata": {},
   "outputs": [],
   "source": [
    "# 조건에 맞는 행을 한 번에 처리 (훨씬 더 효율적)\n",
    "mask = pd.isna(df_eat[\"eat calorie\"]) & pd.notna(df_eat[\"칼로리정보\"])\n",
    "df_eat.loc[mask, \"eat calorie\"] = df_eat.loc[mask, \"칼로리정보\"] * 1.5 * 3 # 급식에 있는 최소 칼로리 정보 보다 1.5배(많이 먹는다)하고 곱하기 3"
   ]
  },
  {
   "cell_type": "markdown",
   "metadata": {},
   "source": [
    "### 큰 이상치 선별하기"
   ]
  },
  {
   "cell_type": "code",
   "execution_count": 38,
   "metadata": {},
   "outputs": [],
   "source": [
    "upper_calorie_threshold=4000 # 60% 이상인 값을 상향 이상치로 설정\n",
    "grouped = df_eat.groupby('ID')"
   ]
  },
  {
   "cell_type": "code",
   "execution_count": 39,
   "metadata": {},
   "outputs": [],
   "source": [
    "from sklearn.preprocessing import MinMaxScaler\n",
    "import numpy as np\n",
    "import pandas as pd\n",
    "\n",
    "def minmax_scaler(data, min_val=4000):\n",
    "    data = np.array(data)\n",
    "    max_val = np.max(data)\n",
    "    return (data - min_val) / (max_val - min_val)\n",
    "\n",
    "def MinMax_eatcalorie(df):\n",
    "    # 유효한 데이터를 가진 행만 선택\n",
    "    mask = df['eat calorie'].notna()\n",
    "    df_eat_calorie = df[mask].reset_index(drop=True)\n",
    "    \n",
    "    # MinMaxScaler 적용 및 결과 병합\n",
    "    df_eat_calorie['MinMaxScaler'] = minmax_scaler(df_eat_calorie['eat calorie'])\n",
    "    \n",
    "    # 원본 데이터와 병합\n",
    "    result = pd.merge(\n",
    "        df, df_eat_calorie, \n",
    "        on=['ID', 'collect_datetime', 'gender', 'grade', 'height', 'weight',\n",
    "            'step count', 'burned calorie', 'eat calorie', 'sleep time', \n",
    "            '급식일자', '칼로리정보'],\n",
    "        how='left'\n",
    "    )\n",
    "    return result\n",
    "\n",
    "# 메인 처리 부분\n",
    "df_total = pd.DataFrame()\n",
    "\n",
    "for _, group in grouped:\n",
    "    # MinMaxScaler 적용\n",
    "    df_MinMax = MinMax_eatcalorie(group)\n",
    "    \n",
    "    # 임계값 초과 데이터 처리 (벡터화된 연산 사용)\n",
    "    mask = (df_MinMax[\"eat calorie\"] > upper_calorie_threshold) & (~pd.isna(df_MinMax[\"eat calorie\"]))\n",
    "    df_MinMax.loc[mask, \"eat calorie\"] = upper_calorie_threshold * (1 + df_MinMax.loc[mask, \"MinMaxScaler\"])\n",
    "    \n",
    "    # 결과 데이터프레임에 추가\n",
    "    df_total = pd.concat([df_total, df_MinMax], axis=0)"
   ]
  },
  {
   "cell_type": "markdown",
   "metadata": {},
   "source": [
    "### 원본 데이터하고 결합"
   ]
  },
  {
   "cell_type": "code",
   "execution_count": 40,
   "metadata": {},
   "outputs": [],
   "source": [
    "df_total_merge=df_total[['ID','collect_datetime','gender','grade','eat calorie','급식일자','칼로리정보','MinMaxScaler']]"
   ]
  },
  {
   "cell_type": "code",
   "execution_count": 41,
   "metadata": {},
   "outputs": [],
   "source": [
    "df_result = pd.merge(sorted_total_processor, df_total_merge, on=['ID','collect_datetime','gender','grade','급식일자','칼로리정보'],suffixes=('_original', '_changed'),how='left')"
   ]
  },
  {
   "cell_type": "code",
   "execution_count": 42,
   "metadata": {},
   "outputs": [
    {
     "data": {
      "text/plain": [
       "(4312, 14)"
      ]
     },
     "execution_count": 42,
     "metadata": {},
     "output_type": "execute_result"
    }
   ],
   "source": [
    "df_result.shape"
   ]
  },
  {
   "cell_type": "markdown",
   "metadata": {},
   "source": [
    "## Step Count 전처리"
   ]
  },
  {
   "cell_type": "code",
   "execution_count": 43,
   "metadata": {},
   "outputs": [
    {
     "name": "stderr",
     "output_type": "stream",
     "text": [
      "C:\\Users\\jaemin\\AppData\\Local\\Temp\\ipykernel_34880\\4159050594.py:4: SettingWithCopyWarning: \n",
      "A value is trying to be set on a copy of a slice from a DataFrame.\n",
      "Try using .loc[row_indexer,col_indexer] = value instead\n",
      "\n",
      "See the caveats in the documentation: https://pandas.pydata.org/pandas-docs/stable/user_guide/indexing.html#returning-a-view-versus-a-copy\n",
      "  df_result_filtered['step count']=df_result_filtered['step count']+2000\n"
     ]
    },
    {
     "data": {
      "text/plain": [
       "ID                        0\n",
       "collect_datetime          0\n",
       "height                    0\n",
       "weight                    0\n",
       "step count                0\n",
       "eat calorie_original    266\n",
       "burned calorie            0\n",
       "sleep time                0\n",
       "gender                    0\n",
       "grade                     0\n",
       "급식일자                    912\n",
       "칼로리정보                   912\n",
       "eat calorie_changed     266\n",
       "MinMaxScaler            266\n",
       "dtype: int64"
      ]
     },
     "execution_count": 43,
     "metadata": {},
     "output_type": "execute_result"
    }
   ],
   "source": [
    "df_result_filtered = df_result.dropna(subset=['step count'])\n",
    "pd.options.display.float_format = '{:.2f}'.format\n",
    "df_result['step count'].describe()\n",
    "df_result_filtered['step count']=df_result_filtered['step count']+2000\n",
    "df_result_filtered.isnull().sum()"
   ]
  },
  {
   "cell_type": "code",
   "execution_count": 44,
   "metadata": {},
   "outputs": [
    {
     "data": {
      "text/plain": [
       "count    2577.00\n",
       "mean     7764.54\n",
       "std      4809.57\n",
       "min      2000.00\n",
       "25%      3422.00\n",
       "50%      7286.00\n",
       "75%     10887.00\n",
       "max     43340.00\n",
       "Name: step count, dtype: float64"
      ]
     },
     "execution_count": 44,
     "metadata": {},
     "output_type": "execute_result"
    }
   ],
   "source": [
    "df_result_filtered['step count'].describe()"
   ]
  },
  {
   "cell_type": "code",
   "execution_count": 45,
   "metadata": {},
   "outputs": [],
   "source": [
    "#10000보 이상 걸음 걸이수에 대해 스무딩\n",
    "\n",
    "upper_stepcount_threshold=10000\n",
    "grouped = df_result_filtered.groupby('ID')"
   ]
  },
  {
   "cell_type": "code",
   "execution_count": 46,
   "metadata": {},
   "outputs": [],
   "source": [
    "from sklearn.preprocessing import MinMaxScaler\n",
    "import numpy as np\n",
    "import pandas as pd\n",
    "\n",
    "def minmax_scaler(data, min_val=10000):\n",
    "    data = np.array(data)\n",
    "    max_val = np.max(data)\n",
    "    return (data - min_val) / (max_val - min_val)\n",
    "\n",
    "def MinMax_step_count(df):\n",
    "    # 유효한 데이터만 선택\n",
    "    mask = df['step count'].notna()\n",
    "    df_step_count = df[mask].reset_index(drop=True)\n",
    "    \n",
    "    # MinMaxScaler 적용\n",
    "    df_step_count['stepMinMaxScaler'] = minmax_scaler(df_step_count['step count'])\n",
    "    \n",
    "    # 원본 데이터와 병합\n",
    "    result = pd.merge(\n",
    "        df, df_step_count, \n",
    "        on=['ID', 'collect_datetime', 'gender', 'grade', 'height', 'weight',\n",
    "            'step count', 'burned calorie', 'sleep time', '급식일자', '칼로리정보'],\n",
    "        how='left'\n",
    "    )\n",
    "    return result\n",
    "\n",
    "# 메인 처리 부분\n",
    "df_total = pd.DataFrame()\n",
    "\n",
    "for _, group in grouped:\n",
    "    # MinMaxScaler 적용\n",
    "    df_MinMax = MinMax_step_count(group)\n",
    "    \n",
    "    # 임계값 초과 데이터 처리 (벡터화된 연산 사용)\n",
    "    mask = (df_MinMax[\"step count\"] > upper_stepcount_threshold) & df_MinMax[\"step count\"].notna()\n",
    "    df_MinMax.loc[mask, \"step count\"] = upper_stepcount_threshold * (1 + df_MinMax.loc[mask, \"stepMinMaxScaler\"])\n",
    "    \n",
    "    # 결과에 추가\n",
    "    df_total = pd.concat([df_total, df_MinMax], axis=0)"
   ]
  },
  {
   "cell_type": "code",
   "execution_count": 47,
   "metadata": {},
   "outputs": [
    {
     "data": {
      "text/plain": [
       "count    2577.00\n",
       "mean     7870.27\n",
       "std      4856.83\n",
       "min      2000.00\n",
       "25%      3422.00\n",
       "50%      7286.00\n",
       "75%     11080.83\n",
       "max     20000.00\n",
       "Name: step count, dtype: float64"
      ]
     },
     "execution_count": 47,
     "metadata": {},
     "output_type": "execute_result"
    }
   ],
   "source": [
    "df_total['step count'].describe()"
   ]
  },
  {
   "cell_type": "code",
   "execution_count": 48,
   "metadata": {},
   "outputs": [],
   "source": [
    "df_total_merge=df_total[['ID','collect_datetime','gender','grade','step count','급식일자','칼로리정보','stepMinMaxScaler']]\n",
    "df_result2 = pd.merge(df_result, df_total_merge, on=['ID','collect_datetime','gender','grade','급식일자','칼로리정보'],suffixes=('_original', '_changed'),how='left')"
   ]
  },
  {
   "cell_type": "markdown",
   "metadata": {},
   "source": [
    "## sleep time 전처리"
   ]
  },
  {
   "cell_type": "markdown",
   "metadata": {},
   "source": [
    "540분(9시간 권장수면시간)을 상향 이상치로 설정"
   ]
  },
  {
   "cell_type": "code",
   "execution_count": 49,
   "metadata": {},
   "outputs": [
    {
     "name": "stderr",
     "output_type": "stream",
     "text": [
      "C:\\Users\\jaemin\\AppData\\Local\\Temp\\ipykernel_34880\\1990758565.py:14: RuntimeWarning: divide by zero encountered in divide\n",
      "  return (data - min_val) / (max_val - min_val)\n",
      "C:\\Users\\jaemin\\AppData\\Local\\Temp\\ipykernel_34880\\1990758565.py:14: RuntimeWarning: invalid value encountered in divide\n",
      "  return (data - min_val) / (max_val - min_val)\n"
     ]
    }
   ],
   "source": [
    "import pandas as pd\n",
    "import numpy as np\n",
    "from sklearn.preprocessing import MinMaxScaler\n",
    "\n",
    "# 표시 형식 설정\n",
    "pd.options.display.float_format = '{:.2f}'.format\n",
    "\n",
    "# 임계값 설정\n",
    "upper_sleeptime_threshold = 540  # 변수명을 수면 시간에 맞게 수정\n",
    "\n",
    "def minmax_scaler(data, min_val=540):\n",
    "    data = np.array(data)\n",
    "    max_val = np.max(data)\n",
    "    return (data - min_val) / (max_val - min_val)\n",
    "\n",
    "def MinMax_sleeptime(df):\n",
    "    # 유효한 수면 시간 데이터만 선택\n",
    "    mask = df['sleep time'].notna()  # 'step count'가 아닌 'sleep time'으로 수정\n",
    "    df_sleeptime = df[mask].reset_index(drop=True)\n",
    "    \n",
    "    # MinMaxScaler 적용\n",
    "    df_sleeptime['sleeptimeMinMaxScaler'] = minmax_scaler(df_sleeptime['sleep time'])\n",
    "    \n",
    "    # 원본 데이터와 병합\n",
    "    result = pd.merge(\n",
    "        df, df_sleeptime, \n",
    "        on=['ID', 'collect_datetime', 'gender', 'grade', 'height', 'weight',\n",
    "            'step count', 'burned calorie', 'sleep time', '급식일자', '칼로리정보'],\n",
    "        how='left'\n",
    "    )\n",
    "    return result\n",
    "\n",
    "# 메인 처리 부분\n",
    "df_total2 = pd.DataFrame()\n",
    "\n",
    "for _, group in grouped:\n",
    "    # MinMaxScaler 적용\n",
    "    df_MinMax = MinMax_sleeptime(group)\n",
    "    \n",
    "    # 임계값 초과 데이터 처리 (벡터화된 연산 사용)\n",
    "    mask = (df_MinMax['sleep time'] > upper_sleeptime_threshold) & df_MinMax['sleep time'].notna()\n",
    "    df_MinMax.loc[mask, 'sleep time'] = upper_sleeptime_threshold * (1 + df_MinMax.loc[mask, 'sleeptimeMinMaxScaler'])\n",
    "    \n",
    "    # 결과에 추가\n",
    "    df_total2 = pd.concat([df_total2, df_MinMax], axis=0)"
   ]
  },
  {
   "cell_type": "code",
   "execution_count": 50,
   "metadata": {},
   "outputs": [
    {
     "data": {
      "text/plain": [
       "count   2577.00\n",
       "mean     523.49\n",
       "std      165.63\n",
       "min        7.00\n",
       "25%      463.00\n",
       "50%      492.00\n",
       "75%      524.00\n",
       "max     1080.00\n",
       "Name: sleep time, dtype: float64"
      ]
     },
     "execution_count": 50,
     "metadata": {},
     "output_type": "execute_result"
    }
   ],
   "source": [
    "df_total2['sleep time'].describe()"
   ]
  },
  {
   "cell_type": "code",
   "execution_count": 51,
   "metadata": {},
   "outputs": [],
   "source": [
    "df_total_merge2=df_total2[['ID','collect_datetime','gender','grade','sleep time','급식일자','칼로리정보','sleeptimeMinMaxScaler']]\n",
    "df_result3 = pd.merge(df_result2, df_total_merge2, on=['ID','collect_datetime','gender','grade','급식일자','칼로리정보'],suffixes=('_original', '_changed'),how='left')"
   ]
  },
  {
   "cell_type": "markdown",
   "metadata": {},
   "source": [
    "### 수면시간 너무 많이 나오거나 너무 적게 나오는 값 결측치로 변환"
   ]
  },
  {
   "cell_type": "code",
   "execution_count": 52,
   "metadata": {},
   "outputs": [],
   "source": [
    "# 수면 시간 720(12시간 이상)이상 널값으로 교체\n",
    "def replace_above_threshold_with_null(df, column, threshold):\n",
    "    df[column] = df[column].apply(lambda x: np.nan if x > threshold else x)\n",
    "    return df\n",
    "\n",
    "# 수면 시간 720(12시간 이상)이상 널값으로 교체\n",
    "df_result3 = replace_above_threshold_with_null(df_result3, 'sleep time_changed', 720)"
   ]
  },
  {
   "cell_type": "code",
   "execution_count": 53,
   "metadata": {},
   "outputs": [],
   "source": [
    "#160(2시간 40분 이하) 널값으로 교체\n",
    "def replace_under_threshold_with_null(df, column, threshold):\n",
    "    df[column] = df[column].apply(lambda x: 160 if x < threshold else x)\n",
    "    return df\n",
    "\n",
    "#160분(2시간 40분 이하) 널값으로 교체\n",
    "df_result3 = replace_under_threshold_with_null(df_result3, 'sleep time_changed', 160)"
   ]
  },
  {
   "cell_type": "markdown",
   "metadata": {},
   "source": [
    "##  burned calorie 전처리"
   ]
  },
  {
   "cell_type": "markdown",
   "metadata": {},
   "source": [
    "축구 2시간 기준 칼로리 소모량 1700 kcal를 상향 이상치로 설정"
   ]
  },
  {
   "cell_type": "code",
   "execution_count": 54,
   "metadata": {},
   "outputs": [
    {
     "data": {
      "text/plain": [
       "count   4312.00\n",
       "mean      70.35\n",
       "std       45.08\n",
       "min        4.60\n",
       "25%       66.49\n",
       "50%       66.49\n",
       "75%       66.49\n",
       "max     1543.54\n",
       "Name: burned calorie, dtype: float64"
      ]
     },
     "execution_count": 54,
     "metadata": {},
     "output_type": "execute_result"
    }
   ],
   "source": [
    "df_result3['burned calorie'].describe()"
   ]
  },
  {
   "cell_type": "code",
   "execution_count": 55,
   "metadata": {},
   "outputs": [],
   "source": [
    "import pandas as pd\n",
    "import numpy as np\n",
    "from sklearn.preprocessing import MinMaxScaler\n",
    "\n",
    "# 표시 형식 설정\n",
    "pd.options.display.float_format = '{:.2f}'.format\n",
    "\n",
    "# 임계값 설정\n",
    "upper_burn_threshold = 1700\n",
    "\n",
    "def minmax_scaler(data, min_val=1700):\n",
    "    data = np.array(data)\n",
    "    max_val = np.max(data)\n",
    "    return (data - min_val) / (max_val - min_val)\n",
    "\n",
    "def MinMax_burned_calorie(df):  # 함수명을 기능에 맞게 변경\n",
    "    # 유효한 burned calorie 데이터만 선택\n",
    "    mask = df['burned calorie'].notna()\n",
    "    df_burnedcalorie = df[mask].reset_index(drop=True)\n",
    "    \n",
    "    # MinMaxScaler 적용\n",
    "    df_burnedcalorie['burnMinMaxScaler'] = minmax_scaler(df_burnedcalorie['burned calorie'])\n",
    "    \n",
    "    # 원본 데이터와 병합\n",
    "    result = pd.merge(\n",
    "        df, df_burnedcalorie, \n",
    "        on=['ID', 'collect_datetime', 'gender', 'grade', 'height', 'weight',\n",
    "            'step count', 'burned calorie', 'sleep time', '급식일자', '칼로리정보'],\n",
    "        how='left'\n",
    "    )\n",
    "    return result\n",
    "\n",
    "# 메인 처리 부분\n",
    "df_total3 = pd.DataFrame()\n",
    "\n",
    "for _, group in grouped:\n",
    "    # MinMaxScaler 적용\n",
    "    df_MinMax = MinMax_burned_calorie(group)\n",
    "    \n",
    "    # 임계값 초과 데이터 처리 (벡터화된 연산 사용)\n",
    "    mask = (df_MinMax['burned calorie'] > upper_burn_threshold) & df_MinMax['burned calorie'].notna()\n",
    "    df_MinMax.loc[mask, 'burned calorie'] = upper_burn_threshold * (1 + df_MinMax.loc[mask, 'burnMinMaxScaler'])\n",
    "    \n",
    "\n",
    "    df_total3 = pd.concat([df_total3, df_MinMax], axis=0)  "
   ]
  },
  {
   "cell_type": "code",
   "execution_count": 56,
   "metadata": {},
   "outputs": [],
   "source": [
    "df_total_merge3=df_total3[['ID','collect_datetime','gender','grade','burned calorie','급식일자','칼로리정보','burnMinMaxScaler']]\n",
    "df_result4 = pd.merge(df_result3, df_total_merge3, on=['ID','collect_datetime','gender','grade','급식일자','칼로리정보'],suffixes=('_original', '_changed'),how='left')"
   ]
  },
  {
   "cell_type": "code",
   "execution_count": 57,
   "metadata": {},
   "outputs": [],
   "source": [
    "# burned calorie 너무 작은 값(30kcal 이하는) (1000보 기준)결측치로 \n",
    "def replace_above_threshold_with_null(df, column, threshold):\n",
    "    df[column] = df[column].apply(lambda x: np.nan if x > threshold else x)\n",
    "    return df\n",
    "\n",
    "# 컬럼 'A'에서 2000 이상인 값을 널값으로 교체\n",
    "df_result4 = replace_above_threshold_with_null(df_result4, 'burned calorie_changed', 2000)"
   ]
  },
  {
   "cell_type": "code",
   "execution_count": 58,
   "metadata": {},
   "outputs": [
    {
     "data": {
      "text/html": [
       "<div>\n",
       "<style scoped>\n",
       "    .dataframe tbody tr th:only-of-type {\n",
       "        vertical-align: middle;\n",
       "    }\n",
       "\n",
       "    .dataframe tbody tr th {\n",
       "        vertical-align: top;\n",
       "    }\n",
       "\n",
       "    .dataframe thead th {\n",
       "        text-align: right;\n",
       "    }\n",
       "</style>\n",
       "<table border=\"1\" class=\"dataframe\">\n",
       "  <thead>\n",
       "    <tr style=\"text-align: right;\">\n",
       "      <th></th>\n",
       "      <th>ID</th>\n",
       "      <th>collect_datetime</th>\n",
       "      <th>height</th>\n",
       "      <th>weight</th>\n",
       "      <th>step count_original</th>\n",
       "      <th>eat calorie_original</th>\n",
       "      <th>burned calorie_original</th>\n",
       "      <th>sleep time_original</th>\n",
       "      <th>gender</th>\n",
       "      <th>grade</th>\n",
       "      <th>급식일자</th>\n",
       "      <th>칼로리정보</th>\n",
       "      <th>eat calorie_changed</th>\n",
       "      <th>MinMaxScaler</th>\n",
       "      <th>step count_changed</th>\n",
       "      <th>stepMinMaxScaler</th>\n",
       "      <th>sleep time_changed</th>\n",
       "      <th>sleeptimeMinMaxScaler</th>\n",
       "      <th>burned calorie_changed</th>\n",
       "      <th>burnMinMaxScaler</th>\n",
       "    </tr>\n",
       "  </thead>\n",
       "  <tbody>\n",
       "    <tr>\n",
       "      <th>0</th>\n",
       "      <td>#AGEKKL</td>\n",
       "      <td>2023-09-18</td>\n",
       "      <td>143.00</td>\n",
       "      <td>33.00</td>\n",
       "      <td>888.00</td>\n",
       "      <td>2866.05</td>\n",
       "      <td>66.49</td>\n",
       "      <td>492.00</td>\n",
       "      <td>2</td>\n",
       "      <td>5</td>\n",
       "      <td>2023-09-18</td>\n",
       "      <td>636.90</td>\n",
       "      <td>2866.05</td>\n",
       "      <td>-0.27</td>\n",
       "      <td>2888.00</td>\n",
       "      <td>-0.74</td>\n",
       "      <td>492.00</td>\n",
       "      <td>-1.04</td>\n",
       "      <td>66.49</td>\n",
       "      <td>1.04</td>\n",
       "    </tr>\n",
       "    <tr>\n",
       "      <th>1</th>\n",
       "      <td>#AGEKKL</td>\n",
       "      <td>2023-09-19</td>\n",
       "      <td>143.00</td>\n",
       "      <td>33.10</td>\n",
       "      <td>7865.00</td>\n",
       "      <td>1158.00</td>\n",
       "      <td>68.97</td>\n",
       "      <td>379.00</td>\n",
       "      <td>2</td>\n",
       "      <td>5</td>\n",
       "      <td>2023-09-19</td>\n",
       "      <td>635.80</td>\n",
       "      <td>1158.00</td>\n",
       "      <td>-0.67</td>\n",
       "      <td>9865.00</td>\n",
       "      <td>-0.01</td>\n",
       "      <td>379.00</td>\n",
       "      <td>-3.50</td>\n",
       "      <td>68.97</td>\n",
       "      <td>1.04</td>\n",
       "    </tr>\n",
       "    <tr>\n",
       "      <th>2</th>\n",
       "      <td>#AGEKKL</td>\n",
       "      <td>2023-09-20</td>\n",
       "      <td>143.00</td>\n",
       "      <td>33.10</td>\n",
       "      <td>9243.00</td>\n",
       "      <td>3759.00</td>\n",
       "      <td>18.59</td>\n",
       "      <td>430.00</td>\n",
       "      <td>2</td>\n",
       "      <td>5</td>\n",
       "      <td>2023-09-20</td>\n",
       "      <td>664.90</td>\n",
       "      <td>3759.00</td>\n",
       "      <td>-0.06</td>\n",
       "      <td>11293.04</td>\n",
       "      <td>0.13</td>\n",
       "      <td>430.00</td>\n",
       "      <td>-2.39</td>\n",
       "      <td>18.59</td>\n",
       "      <td>1.07</td>\n",
       "    </tr>\n",
       "    <tr>\n",
       "      <th>3</th>\n",
       "      <td>#AGEKKL</td>\n",
       "      <td>2023-09-21</td>\n",
       "      <td>143.00</td>\n",
       "      <td>33.60</td>\n",
       "      <td>7820.00</td>\n",
       "      <td>2358.00</td>\n",
       "      <td>47.41</td>\n",
       "      <td>474.00</td>\n",
       "      <td>2</td>\n",
       "      <td>5</td>\n",
       "      <td>2023-09-21</td>\n",
       "      <td>540.50</td>\n",
       "      <td>2358.00</td>\n",
       "      <td>-0.39</td>\n",
       "      <td>9820.00</td>\n",
       "      <td>-0.02</td>\n",
       "      <td>474.00</td>\n",
       "      <td>-1.43</td>\n",
       "      <td>47.41</td>\n",
       "      <td>1.05</td>\n",
       "    </tr>\n",
       "    <tr>\n",
       "      <th>4</th>\n",
       "      <td>#AGEKKL</td>\n",
       "      <td>2023-09-22</td>\n",
       "      <td>143.00</td>\n",
       "      <td>33.60</td>\n",
       "      <td>4653.00</td>\n",
       "      <td>1641.00</td>\n",
       "      <td>66.49</td>\n",
       "      <td>423.00</td>\n",
       "      <td>2</td>\n",
       "      <td>5</td>\n",
       "      <td>2023-09-22</td>\n",
       "      <td>658.40</td>\n",
       "      <td>1641.00</td>\n",
       "      <td>-0.55</td>\n",
       "      <td>6653.00</td>\n",
       "      <td>-0.35</td>\n",
       "      <td>423.00</td>\n",
       "      <td>-2.54</td>\n",
       "      <td>66.49</td>\n",
       "      <td>1.04</td>\n",
       "    </tr>\n",
       "    <tr>\n",
       "      <th>...</th>\n",
       "      <td>...</td>\n",
       "      <td>...</td>\n",
       "      <td>...</td>\n",
       "      <td>...</td>\n",
       "      <td>...</td>\n",
       "      <td>...</td>\n",
       "      <td>...</td>\n",
       "      <td>...</td>\n",
       "      <td>...</td>\n",
       "      <td>...</td>\n",
       "      <td>...</td>\n",
       "      <td>...</td>\n",
       "      <td>...</td>\n",
       "      <td>...</td>\n",
       "      <td>...</td>\n",
       "      <td>...</td>\n",
       "      <td>...</td>\n",
       "      <td>...</td>\n",
       "      <td>...</td>\n",
       "      <td>...</td>\n",
       "    </tr>\n",
       "    <tr>\n",
       "      <th>4307</th>\n",
       "      <td>#ZPOZWB</td>\n",
       "      <td>2023-11-08</td>\n",
       "      <td>150.40</td>\n",
       "      <td>45.10</td>\n",
       "      <td>NaN</td>\n",
       "      <td>2989.80</td>\n",
       "      <td>66.49</td>\n",
       "      <td>492.00</td>\n",
       "      <td>2</td>\n",
       "      <td>5</td>\n",
       "      <td>2023-11-08</td>\n",
       "      <td>664.40</td>\n",
       "      <td>2989.80</td>\n",
       "      <td>-0.65</td>\n",
       "      <td>NaN</td>\n",
       "      <td>NaN</td>\n",
       "      <td>NaN</td>\n",
       "      <td>NaN</td>\n",
       "      <td>NaN</td>\n",
       "      <td>NaN</td>\n",
       "    </tr>\n",
       "    <tr>\n",
       "      <th>4308</th>\n",
       "      <td>#ZPOZWB</td>\n",
       "      <td>2023-11-09</td>\n",
       "      <td>150.40</td>\n",
       "      <td>45.10</td>\n",
       "      <td>837.00</td>\n",
       "      <td>2418.00</td>\n",
       "      <td>66.49</td>\n",
       "      <td>384.00</td>\n",
       "      <td>2</td>\n",
       "      <td>5</td>\n",
       "      <td>2023-11-09</td>\n",
       "      <td>527.20</td>\n",
       "      <td>2418.00</td>\n",
       "      <td>-1.02</td>\n",
       "      <td>2837.00</td>\n",
       "      <td>1.21</td>\n",
       "      <td>384.00</td>\n",
       "      <td>3.25</td>\n",
       "      <td>66.49</td>\n",
       "      <td>1.00</td>\n",
       "    </tr>\n",
       "    <tr>\n",
       "      <th>4309</th>\n",
       "      <td>#ZPOZWB</td>\n",
       "      <td>2023-11-10</td>\n",
       "      <td>150.40</td>\n",
       "      <td>45.10</td>\n",
       "      <td>NaN</td>\n",
       "      <td>3098.25</td>\n",
       "      <td>66.49</td>\n",
       "      <td>492.00</td>\n",
       "      <td>2</td>\n",
       "      <td>5</td>\n",
       "      <td>2023-11-10</td>\n",
       "      <td>688.50</td>\n",
       "      <td>3098.25</td>\n",
       "      <td>-0.58</td>\n",
       "      <td>NaN</td>\n",
       "      <td>NaN</td>\n",
       "      <td>NaN</td>\n",
       "      <td>NaN</td>\n",
       "      <td>NaN</td>\n",
       "      <td>NaN</td>\n",
       "    </tr>\n",
       "    <tr>\n",
       "      <th>4310</th>\n",
       "      <td>#ZPOZWB</td>\n",
       "      <td>2023-11-11</td>\n",
       "      <td>150.40</td>\n",
       "      <td>45.10</td>\n",
       "      <td>NaN</td>\n",
       "      <td>NaN</td>\n",
       "      <td>66.49</td>\n",
       "      <td>492.00</td>\n",
       "      <td>2</td>\n",
       "      <td>5</td>\n",
       "      <td>NaT</td>\n",
       "      <td>NaN</td>\n",
       "      <td>NaN</td>\n",
       "      <td>NaN</td>\n",
       "      <td>NaN</td>\n",
       "      <td>NaN</td>\n",
       "      <td>NaN</td>\n",
       "      <td>NaN</td>\n",
       "      <td>NaN</td>\n",
       "      <td>NaN</td>\n",
       "    </tr>\n",
       "    <tr>\n",
       "      <th>4311</th>\n",
       "      <td>#ZPOZWB</td>\n",
       "      <td>2023-11-12</td>\n",
       "      <td>150.40</td>\n",
       "      <td>45.10</td>\n",
       "      <td>NaN</td>\n",
       "      <td>NaN</td>\n",
       "      <td>66.49</td>\n",
       "      <td>492.00</td>\n",
       "      <td>2</td>\n",
       "      <td>5</td>\n",
       "      <td>NaT</td>\n",
       "      <td>NaN</td>\n",
       "      <td>NaN</td>\n",
       "      <td>NaN</td>\n",
       "      <td>NaN</td>\n",
       "      <td>NaN</td>\n",
       "      <td>NaN</td>\n",
       "      <td>NaN</td>\n",
       "      <td>NaN</td>\n",
       "      <td>NaN</td>\n",
       "    </tr>\n",
       "  </tbody>\n",
       "</table>\n",
       "<p>4312 rows × 20 columns</p>\n",
       "</div>"
      ],
      "text/plain": [
       "           ID collect_datetime  height  weight  step count_original  \\\n",
       "0     #AGEKKL       2023-09-18  143.00   33.00               888.00   \n",
       "1     #AGEKKL       2023-09-19  143.00   33.10              7865.00   \n",
       "2     #AGEKKL       2023-09-20  143.00   33.10              9243.00   \n",
       "3     #AGEKKL       2023-09-21  143.00   33.60              7820.00   \n",
       "4     #AGEKKL       2023-09-22  143.00   33.60              4653.00   \n",
       "...       ...              ...     ...     ...                  ...   \n",
       "4307  #ZPOZWB       2023-11-08  150.40   45.10                  NaN   \n",
       "4308  #ZPOZWB       2023-11-09  150.40   45.10               837.00   \n",
       "4309  #ZPOZWB       2023-11-10  150.40   45.10                  NaN   \n",
       "4310  #ZPOZWB       2023-11-11  150.40   45.10                  NaN   \n",
       "4311  #ZPOZWB       2023-11-12  150.40   45.10                  NaN   \n",
       "\n",
       "      eat calorie_original  burned calorie_original  sleep time_original  \\\n",
       "0                  2866.05                    66.49               492.00   \n",
       "1                  1158.00                    68.97               379.00   \n",
       "2                  3759.00                    18.59               430.00   \n",
       "3                  2358.00                    47.41               474.00   \n",
       "4                  1641.00                    66.49               423.00   \n",
       "...                    ...                      ...                  ...   \n",
       "4307               2989.80                    66.49               492.00   \n",
       "4308               2418.00                    66.49               384.00   \n",
       "4309               3098.25                    66.49               492.00   \n",
       "4310                   NaN                    66.49               492.00   \n",
       "4311                   NaN                    66.49               492.00   \n",
       "\n",
       "     gender grade       급식일자  칼로리정보  eat calorie_changed  MinMaxScaler  \\\n",
       "0         2     5 2023-09-18 636.90              2866.05         -0.27   \n",
       "1         2     5 2023-09-19 635.80              1158.00         -0.67   \n",
       "2         2     5 2023-09-20 664.90              3759.00         -0.06   \n",
       "3         2     5 2023-09-21 540.50              2358.00         -0.39   \n",
       "4         2     5 2023-09-22 658.40              1641.00         -0.55   \n",
       "...     ...   ...        ...    ...                  ...           ...   \n",
       "4307      2     5 2023-11-08 664.40              2989.80         -0.65   \n",
       "4308      2     5 2023-11-09 527.20              2418.00         -1.02   \n",
       "4309      2     5 2023-11-10 688.50              3098.25         -0.58   \n",
       "4310      2     5        NaT    NaN                  NaN           NaN   \n",
       "4311      2     5        NaT    NaN                  NaN           NaN   \n",
       "\n",
       "      step count_changed  stepMinMaxScaler  sleep time_changed  \\\n",
       "0                2888.00             -0.74              492.00   \n",
       "1                9865.00             -0.01              379.00   \n",
       "2               11293.04              0.13              430.00   \n",
       "3                9820.00             -0.02              474.00   \n",
       "4                6653.00             -0.35              423.00   \n",
       "...                  ...               ...                 ...   \n",
       "4307                 NaN               NaN                 NaN   \n",
       "4308             2837.00              1.21              384.00   \n",
       "4309                 NaN               NaN                 NaN   \n",
       "4310                 NaN               NaN                 NaN   \n",
       "4311                 NaN               NaN                 NaN   \n",
       "\n",
       "      sleeptimeMinMaxScaler  burned calorie_changed  burnMinMaxScaler  \n",
       "0                     -1.04                   66.49              1.04  \n",
       "1                     -3.50                   68.97              1.04  \n",
       "2                     -2.39                   18.59              1.07  \n",
       "3                     -1.43                   47.41              1.05  \n",
       "4                     -2.54                   66.49              1.04  \n",
       "...                     ...                     ...               ...  \n",
       "4307                    NaN                     NaN               NaN  \n",
       "4308                   3.25                   66.49              1.00  \n",
       "4309                    NaN                     NaN               NaN  \n",
       "4310                    NaN                     NaN               NaN  \n",
       "4311                    NaN                     NaN               NaN  \n",
       "\n",
       "[4312 rows x 20 columns]"
      ]
     },
     "execution_count": 58,
     "metadata": {},
     "output_type": "execute_result"
    }
   ],
   "source": [
    "df_result4"
   ]
  },
  {
   "cell_type": "markdown",
   "metadata": {},
   "source": [
    "## 최종데이터세트 정리"
   ]
  },
  {
   "cell_type": "code",
   "execution_count": 59,
   "metadata": {},
   "outputs": [],
   "source": [
    "df_final=df_result4[['ID','collect_datetime','gender','grade','height','weight','step count_changed','burned calorie_changed','eat calorie_changed','sleep time_changed']]\n",
    "df_final.columns=['ID','collect_datetime','gender','grade','height','weight','step count','burned calorie','eat calorie','sleep time']"
   ]
  },
  {
   "cell_type": "markdown",
   "metadata": {},
   "source": [
    "## 이상값으로 결측치로 변환했었던 것 아이디별 중앙값으로 채우기"
   ]
  },
  {
   "cell_type": "code",
   "execution_count": 60,
   "metadata": {},
   "outputs": [
    {
     "name": "stderr",
     "output_type": "stream",
     "text": [
      "C:\\Users\\jaemin\\AppData\\Local\\Temp\\ipykernel_34880\\2071872726.py:1: SettingWithCopyWarning: \n",
      "A value is trying to be set on a copy of a slice from a DataFrame.\n",
      "Try using .loc[row_indexer,col_indexer] = value instead\n",
      "\n",
      "See the caveats in the documentation: https://pandas.pydata.org/pandas-docs/stable/user_guide/indexing.html#returning-a-view-versus-a-copy\n",
      "  df_final['eat calorie'] = df_final.groupby('ID')['eat calorie'].transform(lambda x: x.fillna(x.median()))\n",
      "C:\\Users\\jaemin\\AppData\\Local\\Temp\\ipykernel_34880\\2071872726.py:2: SettingWithCopyWarning: \n",
      "A value is trying to be set on a copy of a slice from a DataFrame.\n",
      "Try using .loc[row_indexer,col_indexer] = value instead\n",
      "\n",
      "See the caveats in the documentation: https://pandas.pydata.org/pandas-docs/stable/user_guide/indexing.html#returning-a-view-versus-a-copy\n",
      "  df_final['step count'] = df_final.groupby('ID')['step count'].transform(lambda x: x.fillna(x.median()))\n",
      "C:\\Users\\jaemin\\AppData\\Local\\Temp\\ipykernel_34880\\2071872726.py:3: SettingWithCopyWarning: \n",
      "A value is trying to be set on a copy of a slice from a DataFrame.\n",
      "Try using .loc[row_indexer,col_indexer] = value instead\n",
      "\n",
      "See the caveats in the documentation: https://pandas.pydata.org/pandas-docs/stable/user_guide/indexing.html#returning-a-view-versus-a-copy\n",
      "  df_final['sleep time'] = df_final.groupby('ID')['sleep time'].transform(lambda x: x.fillna(x.median()))\n",
      "C:\\Users\\jaemin\\AppData\\Local\\Temp\\ipykernel_34880\\2071872726.py:4: SettingWithCopyWarning: \n",
      "A value is trying to be set on a copy of a slice from a DataFrame.\n",
      "Try using .loc[row_indexer,col_indexer] = value instead\n",
      "\n",
      "See the caveats in the documentation: https://pandas.pydata.org/pandas-docs/stable/user_guide/indexing.html#returning-a-view-versus-a-copy\n",
      "  df_final['burned calorie'] = df_final.groupby('ID')['burned calorie'].transform(lambda x: x.fillna(x.median()))\n"
     ]
    }
   ],
   "source": [
    "df_final['eat calorie'] = df_final.groupby('ID')['eat calorie'].transform(lambda x: x.fillna(x.median()))\n",
    "df_final['step count'] = df_final.groupby('ID')['step count'].transform(lambda x: x.fillna(x.median()))\n",
    "df_final['sleep time'] = df_final.groupby('ID')['sleep time'].transform(lambda x: x.fillna(x.median()))\n",
    "df_final['burned calorie'] = df_final.groupby('ID')['burned calorie'].transform(lambda x: x.fillna(x.median()))"
   ]
  },
  {
   "cell_type": "code",
   "execution_count": 61,
   "metadata": {},
   "outputs": [],
   "source": [
    "df_final=df_final.dropna().reset_index(drop=True)"
   ]
  },
  {
   "cell_type": "code",
   "execution_count": 62,
   "metadata": {},
   "outputs": [
    {
     "data": {
      "text/plain": [
       "77"
      ]
     },
     "execution_count": 62,
     "metadata": {},
     "output_type": "execute_result"
    }
   ],
   "source": [
    "len(df_final['ID'].unique())"
   ]
  },
  {
   "cell_type": "code",
   "execution_count": 63,
   "metadata": {},
   "outputs": [],
   "source": [
    "df_final.to_csv(path+'\\\\data\\\\5.제주초_df_final.csv',encoding='cp949',index=False)"
   ]
  },
  {
   "cell_type": "code",
   "execution_count": 64,
   "metadata": {},
   "outputs": [
    {
     "data": {
      "text/plain": [
       "ID                  0\n",
       "collect_datetime    0\n",
       "gender              0\n",
       "grade               0\n",
       "height              0\n",
       "weight              0\n",
       "step count          0\n",
       "burned calorie      0\n",
       "eat calorie         0\n",
       "sleep time          0\n",
       "dtype: int64"
      ]
     },
     "execution_count": 64,
     "metadata": {},
     "output_type": "execute_result"
    }
   ],
   "source": [
    "df_final.isnull().sum()"
   ]
  }
 ],
 "metadata": {
  "kernelspec": {
   "display_name": "jm_main",
   "language": "python",
   "name": "python3"
  },
  "language_info": {
   "codemirror_mode": {
    "name": "ipython",
    "version": 3
   },
   "file_extension": ".py",
   "mimetype": "text/x-python",
   "name": "python",
   "nbconvert_exporter": "python",
   "pygments_lexer": "ipython3",
   "version": "3.8.20"
  }
 },
 "nbformat": 4,
 "nbformat_minor": 2
}
